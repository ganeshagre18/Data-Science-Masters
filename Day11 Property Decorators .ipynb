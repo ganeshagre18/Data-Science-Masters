{
 "cells": [
  {
   "cell_type": "markdown",
   "id": "6a639787-dd9d-41f1-b338-05755a2ac49e",
   "metadata": {},
   "source": [
    "PROPERTY Decorators"
   ]
  },
  {
   "cell_type": "code",
   "execution_count": 1,
   "id": "1d0f4000-56f2-42b9-8498-d277c16071f3",
   "metadata": {},
   "outputs": [],
   "source": [
    "class pwskills:\n",
    "    def __init__(self,course_name,course_price):\n",
    "        self.__courseprice=course_price\n",
    "        self.course_name=course_name"
   ]
  },
  {
   "cell_type": "code",
   "execution_count": 3,
   "id": "3bf3d546-4b28-498c-a938-3c385faff0b6",
   "metadata": {},
   "outputs": [],
   "source": [
    "pw=pwskills(\"Data Science\", 3200)"
   ]
  },
  {
   "cell_type": "code",
   "execution_count": 5,
   "id": "414119b9-fa8c-4e3f-8f37-64db40dc5d4a",
   "metadata": {},
   "outputs": [
    {
     "data": {
      "text/plain": [
       "<__main__.pwskills at 0x7fd6263e86a0>"
      ]
     },
     "execution_count": 5,
     "metadata": {},
     "output_type": "execute_result"
    }
   ],
   "source": [
    "pw"
   ]
  },
  {
   "cell_type": "code",
   "execution_count": 8,
   "id": "2de62031-9772-46f5-96be-abf193b7545a",
   "metadata": {},
   "outputs": [
    {
     "ename": "AttributeError",
     "evalue": "'pwskills' object has no attribute 'course_price'",
     "output_type": "error",
     "traceback": [
      "\u001b[0;31m---------------------------------------------------------------------------\u001b[0m",
      "\u001b[0;31mAttributeError\u001b[0m                            Traceback (most recent call last)",
      "Cell \u001b[0;32mIn[8], line 2\u001b[0m\n\u001b[1;32m      1\u001b[0m \u001b[38;5;66;03m##private (__)\u001b[39;00m\n\u001b[0;32m----> 2\u001b[0m \u001b[43mpw\u001b[49m\u001b[38;5;241;43m.\u001b[39;49m\u001b[43mcourse_price\u001b[49m\n",
      "\u001b[0;31mAttributeError\u001b[0m: 'pwskills' object has no attribute 'course_price'"
     ]
    }
   ],
   "source": [
    "##private \n",
    "pw.course_price"
   ]
  },
  {
   "cell_type": "code",
   "execution_count": 9,
   "id": "dbd17b04-56e6-4736-beea-da2dbe296608",
   "metadata": {},
   "outputs": [
    {
     "data": {
      "text/plain": [
       "'Data Science'"
      ]
     },
     "execution_count": 9,
     "metadata": {},
     "output_type": "execute_result"
    }
   ],
   "source": [
    "pw.course_name"
   ]
  },
  {
   "cell_type": "code",
   "execution_count": 28,
   "id": "db1f94b2-8db8-4d65-abca-b7142e60093d",
   "metadata": {},
   "outputs": [],
   "source": [
    "class pwskills1:\n",
    "    def __init__(self,course_name,course_price):\n",
    "        self.__courseprice=course_price\n",
    "        self.course_name=course_name\n",
    "        \n",
    "    @property    \n",
    "    def course_price_access(self):\n",
    "        return self.__courseprice"
   ]
  },
  {
   "cell_type": "code",
   "execution_count": 29,
   "id": "df6db5a5-6536-4d8a-8489-7dd91366fa77",
   "metadata": {},
   "outputs": [],
   "source": [
    "pw=pwskills1(\"datascience\",3200)"
   ]
  },
  {
   "cell_type": "code",
   "execution_count": 31,
   "id": "1c18a5d0-2df9-45c2-a100-e8fb3f325980",
   "metadata": {},
   "outputs": [
    {
     "data": {
      "text/plain": [
       "<__main__.pwskills1 at 0x7fd626623ca0>"
      ]
     },
     "execution_count": 31,
     "metadata": {},
     "output_type": "execute_result"
    }
   ],
   "source": [
    "pw"
   ]
  },
  {
   "cell_type": "code",
   "execution_count": 33,
   "id": "1308e563-c2cd-49fa-a388-95f414fb6b78",
   "metadata": {},
   "outputs": [
    {
     "data": {
      "text/plain": [
       "3200"
      ]
     },
     "execution_count": 33,
     "metadata": {},
     "output_type": "execute_result"
    }
   ],
   "source": [
    "pw.course_price_access"
   ]
  },
  {
   "cell_type": "markdown",
   "id": "9dd72d98-3b46-4ba4-b0e9-66c167b02771",
   "metadata": {},
   "source": [
    "setter method\n",
    "\n"
   ]
  },
  {
   "cell_type": "code",
   "execution_count": 67,
   "id": "9984d24a-a918-4f8d-83b4-d09514300bb7",
   "metadata": {},
   "outputs": [],
   "source": [
    "#to set the value to private\n",
    "class pwskills3:\n",
    "    def __init__(self,course_price,course_name,):\n",
    "        self.__courseprice=course_price\n",
    "        self.course_name=course_name\n",
    "        \n",
    "    @property\n",
    "    def course_price_access(self):\n",
    "        return self.__courseprice\n",
    "    \n",
    "    @course_price_access.setter\n",
    "    def course_price_set(self,price):\n",
    "        if price<=3500:\n",
    "            pass\n",
    "        else:\n",
    "            self.__courseprice=price"
   ]
  },
  {
   "cell_type": "code",
   "execution_count": 73,
   "id": "2db78de8-d555-466f-8d4d-d9edc2d65c57",
   "metadata": {},
   "outputs": [],
   "source": [
    "pw2=pwskills3(3500,\"Data science masters\")"
   ]
  },
  {
   "cell_type": "code",
   "execution_count": 74,
   "id": "45574ab4-92d2-4942-bdb6-bc77d14b78e9",
   "metadata": {},
   "outputs": [
    {
     "data": {
      "text/plain": [
       "<__main__.pwskills3 at 0x7fd62659bbb0>"
      ]
     },
     "execution_count": 74,
     "metadata": {},
     "output_type": "execute_result"
    }
   ],
   "source": [
    "pw2"
   ]
  },
  {
   "cell_type": "code",
   "execution_count": 75,
   "id": "a54703ed-01f3-49f7-91b8-bb473a3b8c47",
   "metadata": {},
   "outputs": [
    {
     "data": {
      "text/plain": [
       "3500"
      ]
     },
     "execution_count": 75,
     "metadata": {},
     "output_type": "execute_result"
    }
   ],
   "source": [
    "pw2.course_price_access"
   ]
  },
  {
   "cell_type": "code",
   "execution_count": 76,
   "id": "b7b3eb47-b578-445c-a694-a349dcbae149",
   "metadata": {},
   "outputs": [],
   "source": [
    "pw2.course_price_set=100"
   ]
  },
  {
   "cell_type": "code",
   "execution_count": 77,
   "id": "39520f14-903b-4975-8cad-1f5b85a851e3",
   "metadata": {},
   "outputs": [
    {
     "data": {
      "text/plain": [
       "3500"
      ]
     },
     "execution_count": 77,
     "metadata": {},
     "output_type": "execute_result"
    }
   ],
   "source": [
    "pw2.course_price_access"
   ]
  },
  {
   "cell_type": "code",
   "execution_count": 78,
   "id": "716529c7-0866-4b25-9afa-5c5f781b9f15",
   "metadata": {},
   "outputs": [],
   "source": [
    "pw2.course_price_set=5000"
   ]
  },
  {
   "cell_type": "code",
   "execution_count": 79,
   "id": "3c626339-a6fe-45f3-ad8c-050ab1ed413b",
   "metadata": {},
   "outputs": [
    {
     "data": {
      "text/plain": [
       "5000"
      ]
     },
     "execution_count": 79,
     "metadata": {},
     "output_type": "execute_result"
    }
   ],
   "source": [
    "pw2.course_price_access"
   ]
  },
  {
   "cell_type": "code",
   "execution_count": 80,
   "id": "3d23e506-844c-479e-83a9-c3d19c447d0a",
   "metadata": {},
   "outputs": [],
   "source": [
    "class pwskills4:\n",
    "    def __init__(self,course_price,course_name,):\n",
    "        self.__courseprice=course_price\n",
    "        self.course_name=course_name\n",
    "        \n",
    "    @property\n",
    "    def course_price_access(self):\n",
    "        return self.__courseprice\n",
    "    \n",
    "    @course_price_access.setter\n",
    "    def course_price_set(self,price):\n",
    "        if price<=3500:\n",
    "            pass\n",
    "        else:\n",
    "            self.__courseprice=price\n",
    "            \n",
    "    @course_price_access.deleter\n",
    "    def course_price_delete(self):\n",
    "        del self.__courseprice"
   ]
  },
  {
   "cell_type": "code",
   "execution_count": 82,
   "id": "2990375e-441f-4ddd-8fec-792f02fc78af",
   "metadata": {},
   "outputs": [],
   "source": [
    "pw4=pwskills4(3500,\"datascience\")"
   ]
  },
  {
   "cell_type": "code",
   "execution_count": 83,
   "id": "3ad4547c-3379-4522-b12b-604d3e176303",
   "metadata": {},
   "outputs": [
    {
     "data": {
      "text/plain": [
       "3500"
      ]
     },
     "execution_count": 83,
     "metadata": {},
     "output_type": "execute_result"
    }
   ],
   "source": [
    "pw4.course_price_access"
   ]
  },
  {
   "cell_type": "code",
   "execution_count": 88,
   "id": "e2212d0a-063b-444a-8835-98864a6a4150",
   "metadata": {},
   "outputs": [],
   "source": [
    "del pw4.course_price_delete"
   ]
  },
  {
   "cell_type": "code",
   "execution_count": 89,
   "id": "d50d47de-4653-4073-9314-c6a80f234421",
   "metadata": {},
   "outputs": [
    {
     "ename": "AttributeError",
     "evalue": "'pwskills4' object has no attribute '_pwskills4__courseprice'",
     "output_type": "error",
     "traceback": [
      "\u001b[0;31m---------------------------------------------------------------------------\u001b[0m",
      "\u001b[0;31mAttributeError\u001b[0m                            Traceback (most recent call last)",
      "Cell \u001b[0;32mIn[89], line 1\u001b[0m\n\u001b[0;32m----> 1\u001b[0m \u001b[43mpw4\u001b[49m\u001b[38;5;241;43m.\u001b[39;49m\u001b[43mcourse_price_access\u001b[49m\n",
      "Cell \u001b[0;32mIn[80], line 8\u001b[0m, in \u001b[0;36mpwskills4.course_price_access\u001b[0;34m(self)\u001b[0m\n\u001b[1;32m      6\u001b[0m \u001b[38;5;129m@property\u001b[39m\n\u001b[1;32m      7\u001b[0m \u001b[38;5;28;01mdef\u001b[39;00m \u001b[38;5;21mcourse_price_access\u001b[39m(\u001b[38;5;28mself\u001b[39m):\n\u001b[0;32m----> 8\u001b[0m     \u001b[38;5;28;01mreturn\u001b[39;00m \u001b[38;5;28;43mself\u001b[39;49m\u001b[38;5;241;43m.\u001b[39;49m\u001b[43m__courseprice\u001b[49m\n",
      "\u001b[0;31mAttributeError\u001b[0m: 'pwskills4' object has no attribute '_pwskills4__courseprice'"
     ]
    }
   ],
   "source": [
    "pw4.course_price_access"
   ]
  },
  {
   "cell_type": "code",
   "execution_count": 90,
   "id": "c5666c54-f369-4939-9190-bc199349205f",
   "metadata": {},
   "outputs": [],
   "source": [
    "#deleted"
   ]
  },
  {
   "cell_type": "code",
   "execution_count": null,
   "id": "89dc2f6b-7036-4940-8ee0-a025b9bed512",
   "metadata": {},
   "outputs": [],
   "source": []
  }
 ],
 "metadata": {
  "kernelspec": {
   "display_name": "Python 3 (ipykernel)",
   "language": "python",
   "name": "python3"
  },
  "language_info": {
   "codemirror_mode": {
    "name": "ipython",
    "version": 3
   },
   "file_extension": ".py",
   "mimetype": "text/x-python",
   "name": "python",
   "nbconvert_exporter": "python",
   "pygments_lexer": "ipython3",
   "version": "3.10.8"
  }
 },
 "nbformat": 4,
 "nbformat_minor": 5
}
