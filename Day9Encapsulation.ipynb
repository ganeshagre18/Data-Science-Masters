{
 "cells": [
  {
   "cell_type": "markdown",
   "id": "a63a775c-9b9b-4ad6-bb9a-6c183991cb64",
   "metadata": {},
   "source": [
    "Enapsulation"
   ]
  },
  {
   "cell_type": "code",
   "execution_count": 3,
   "id": "6b54ba71-fd91-41ec-a9af-5da38a001bb7",
   "metadata": {},
   "outputs": [],
   "source": [
    "class test:\n",
    "    def __init__(self,a,b):\n",
    "        self.a=a\n",
    "        self.b=b"
   ]
  },
  {
   "cell_type": "code",
   "execution_count": 4,
   "id": "b8988074-9c46-4e1e-9498-51709099d3fc",
   "metadata": {},
   "outputs": [],
   "source": [
    "t=test(45,28)"
   ]
  },
  {
   "cell_type": "code",
   "execution_count": 14,
   "id": "c3f13ba2-1b52-4e38-8c2d-72f947dd8363",
   "metadata": {},
   "outputs": [
    {
     "data": {
      "text/plain": [
       "3939"
      ]
     },
     "execution_count": 14,
     "metadata": {},
     "output_type": "execute_result"
    }
   ],
   "source": [
    "t.a"
   ]
  },
  {
   "cell_type": "code",
   "execution_count": 6,
   "id": "06c4e632-79f8-4ec8-902f-d4a159133a53",
   "metadata": {},
   "outputs": [
    {
     "data": {
      "text/plain": [
       "28"
      ]
     },
     "execution_count": 6,
     "metadata": {},
     "output_type": "execute_result"
    }
   ],
   "source": [
    "t.b"
   ]
  },
  {
   "cell_type": "code",
   "execution_count": 7,
   "id": "0c272397-add0-4ebb-a724-c2f277fcb84a",
   "metadata": {},
   "outputs": [],
   "source": [
    "t.a=3939"
   ]
  },
  {
   "cell_type": "code",
   "execution_count": 8,
   "id": "87884edb-bb3b-4301-bde0-e19de60b52a2",
   "metadata": {},
   "outputs": [
    {
     "data": {
      "text/plain": [
       "3939"
      ]
     },
     "execution_count": 8,
     "metadata": {},
     "output_type": "execute_result"
    }
   ],
   "source": [
    "t.a"
   ]
  },
  {
   "cell_type": "code",
   "execution_count": 5,
   "id": "a00c2225-c05b-435f-a8de-141868974c74",
   "metadata": {},
   "outputs": [],
   "source": [
    "class car:\n",
    "    def __init__(self,year,make,model,speed):\n",
    "        self.__year=year\n",
    "        self.__make=make\n",
    "        self.__model=model\n",
    "        self.__speed=0\n",
    "        \n",
    "      \n",
    "    def set_speed(self,speed):\n",
    "        self.__speed=0 if speed<0 else speed\n",
    "        \n",
    "    def get_speed(self):\n",
    "        return self.__speed"
   ]
  },
  {
   "cell_type": "code",
   "execution_count": 6,
   "id": "f7a06a7a-88ff-4a7c-8344-937e9c698b81",
   "metadata": {},
   "outputs": [],
   "source": [
    "obj_car=car(2021,\"toyota\",\"innova\",50)"
   ]
  },
  {
   "cell_type": "code",
   "execution_count": 7,
   "id": "53ebf922-1234-4fce-967e-2982ce1e9a16",
   "metadata": {},
   "outputs": [],
   "source": [
    "obj_car.set_speed(123)"
   ]
  },
  {
   "cell_type": "code",
   "execution_count": 8,
   "id": "da055782-8f2d-43f2-b6b1-db4120c065a4",
   "metadata": {},
   "outputs": [
    {
     "data": {
      "text/plain": [
       "123"
      ]
     },
     "execution_count": 8,
     "metadata": {},
     "output_type": "execute_result"
    }
   ],
   "source": [
    "obj_car.get_speed()"
   ]
  },
  {
   "cell_type": "code",
   "execution_count": 13,
   "id": "638528ad-56a2-4278-94f3-4a77dd84d032",
   "metadata": {},
   "outputs": [
    {
     "data": {
      "text/plain": [
       "2021"
      ]
     },
     "execution_count": 13,
     "metadata": {},
     "output_type": "execute_result"
    }
   ],
   "source": [
    "obj_car._car__year"
   ]
  },
  {
   "cell_type": "code",
   "execution_count": 15,
   "id": "257f0ecb-e89b-4e52-b328-f2b488ea270d",
   "metadata": {},
   "outputs": [],
   "source": [
    "class test:\n",
    "    def __init__(self,a,b):\n",
    "        self.__a=a\n",
    "        self.__b=b"
   ]
  },
  {
   "cell_type": "code",
   "execution_count": 16,
   "id": "5d833dc8-630c-45c2-831c-fcc421e4929d",
   "metadata": {},
   "outputs": [],
   "source": [
    "obj=test(1,5)"
   ]
  },
  {
   "cell_type": "code",
   "execution_count": 17,
   "id": "f7bff643-7a29-4ee7-9b6b-5f8c9bdee3f6",
   "metadata": {},
   "outputs": [
    {
     "data": {
      "text/plain": [
       "1"
      ]
     },
     "execution_count": 17,
     "metadata": {},
     "output_type": "execute_result"
    }
   ],
   "source": [
    "obj._test__a"
   ]
  },
  {
   "cell_type": "code",
   "execution_count": null,
   "id": "af4640bc-1855-4b31-9443-0b72f419ea9d",
   "metadata": {},
   "outputs": [],
   "source": [
    "class bank_account:\n",
    "    def __init__(self,balance):\n",
    "        self.__balance=balance\n",
    "    \n",
    "    def deposit(self,ammount):\n",
    "        self.__balance=self.__balance + ammount\n",
    "        \n",
    "    def withdraw(self,ammount):\n",
    "        if self.__balance >= ammount:\n",
    "            self.__balance = self.__balance - ammount\n",
    "            return True\n",
    "        else:\n",
    "            return False\n",
    "\n",
    "    def get_balance(self):\n",
    "        return self.__balance"
   ]
  },
  {
   "cell_type": "code",
   "execution_count": 17,
   "id": "e145949f-b730-4d99-898a-c6d50bebc1b5",
   "metadata": {},
   "outputs": [],
   "source": [
    "obj_bank_account=bank_account(15555)"
   ]
  },
  {
   "cell_type": "code",
   "execution_count": 18,
   "id": "eef2a4da-27a2-4884-bcb7-b539f17d6209",
   "metadata": {},
   "outputs": [
    {
     "data": {
      "text/plain": [
       "15555"
      ]
     },
     "execution_count": 18,
     "metadata": {},
     "output_type": "execute_result"
    }
   ],
   "source": [
    "obj_bank_account.get_balance()"
   ]
  },
  {
   "cell_type": "code",
   "execution_count": 15,
   "id": "909b35bd-24a3-42d6-a594-d8079ee077cb",
   "metadata": {},
   "outputs": [],
   "source": [
    "obj_bank_account.deposit(4000)"
   ]
  },
  {
   "cell_type": "code",
   "execution_count": 19,
   "id": "98294f29-0c74-484b-a23f-095d93616909",
   "metadata": {},
   "outputs": [
    {
     "data": {
      "text/plain": [
       "15555"
      ]
     },
     "execution_count": 19,
     "metadata": {},
     "output_type": "execute_result"
    }
   ],
   "source": [
    "obj_bank_account.get_balance()"
   ]
  },
  {
   "cell_type": "code",
   "execution_count": 20,
   "id": "779b9c45-8304-4868-90c8-cbf956318e6d",
   "metadata": {},
   "outputs": [
    {
     "data": {
      "text/plain": [
       "True"
      ]
     },
     "execution_count": 20,
     "metadata": {},
     "output_type": "execute_result"
    }
   ],
   "source": [
    "obj_bank_account.withdraw(5000)"
   ]
  },
  {
   "cell_type": "code",
   "execution_count": 21,
   "id": "f3c0e0d7-401f-4f73-bbf2-0ce8f46aa843",
   "metadata": {},
   "outputs": [
    {
     "data": {
      "text/plain": [
       "10555"
      ]
     },
     "execution_count": 21,
     "metadata": {},
     "output_type": "execute_result"
    }
   ],
   "source": [
    "obj_bank_account.get_balance()"
   ]
  },
  {
   "cell_type": "code",
   "execution_count": 22,
   "id": "19a0baf7-ae4b-4729-873a-1314842b2113",
   "metadata": {},
   "outputs": [
    {
     "data": {
      "text/plain": [
       "True"
      ]
     },
     "execution_count": 22,
     "metadata": {},
     "output_type": "execute_result"
    }
   ],
   "source": [
    "obj_bank_account.withdraw(10555)"
   ]
  },
  {
   "cell_type": "code",
   "execution_count": 23,
   "id": "e09c3bcb-cd23-42b4-9ed9-65b2fb49db9b",
   "metadata": {},
   "outputs": [
    {
     "data": {
      "text/plain": [
       "0"
      ]
     },
     "execution_count": 23,
     "metadata": {},
     "output_type": "execute_result"
    }
   ],
   "source": [
    "obj_bank_account.get_balance()"
   ]
  },
  {
   "cell_type": "code",
   "execution_count": 24,
   "id": "12552e8e-3953-4e0a-8eb9-52cf88899ec0",
   "metadata": {},
   "outputs": [],
   "source": [
    "obj_bank_account.deposit(2000)"
   ]
  },
  {
   "cell_type": "code",
   "execution_count": 25,
   "id": "de430393-b2ff-4826-9510-0c0225cbb762",
   "metadata": {},
   "outputs": [
    {
     "data": {
      "text/plain": [
       "2000"
      ]
     },
     "execution_count": 25,
     "metadata": {},
     "output_type": "execute_result"
    }
   ],
   "source": [
    "obj_bank_account.get_balance()"
   ]
  },
  {
   "cell_type": "code",
   "execution_count": null,
   "id": "58d8ea53-294d-4a8f-b18a-2dce826c3791",
   "metadata": {},
   "outputs": [],
   "source": []
  }
 ],
 "metadata": {
  "kernelspec": {
   "display_name": "Python 3 (ipykernel)",
   "language": "python",
   "name": "python3"
  },
  "language_info": {
   "codemirror_mode": {
    "name": "ipython",
    "version": 3
   },
   "file_extension": ".py",
   "mimetype": "text/x-python",
   "name": "python",
   "nbconvert_exporter": "python",
   "pygments_lexer": "ipython3",
   "version": "3.10.8"
  }
 },
 "nbformat": 4,
 "nbformat_minor": 5
}
