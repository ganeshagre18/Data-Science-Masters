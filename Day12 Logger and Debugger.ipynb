{
 "cells": [
  {
   "cell_type": "markdown",
   "id": "b0e3dba7-438e-4b99-8233-eb17a2c326a4",
   "metadata": {},
   "source": [
    "Logging And Debugging"
   ]
  },
  {
   "cell_type": "code",
   "execution_count": 1,
   "id": "5969dfe6-fd32-4511-9e36-d508e2afdb53",
   "metadata": {},
   "outputs": [
    {
     "name": "stdout",
     "output_type": "stream",
     "text": [
      "this is my print stmt\n"
     ]
    }
   ],
   "source": [
    "print(\"this is my print stmt\")"
   ]
  },
  {
   "cell_type": "code",
   "execution_count": 2,
   "id": "8121db95-5b94-4464-98b1-1576c3f523f0",
   "metadata": {},
   "outputs": [],
   "source": [
    "import logging"
   ]
  },
  {
   "cell_type": "code",
   "execution_count": 3,
   "id": "af39ffe4-0b53-4bfa-8a91-b1a1428b3916",
   "metadata": {},
   "outputs": [],
   "source": [
    "logging.basicConfig(filename = \"test.log\", level =logging.INFO)"
   ]
  },
  {
   "cell_type": "code",
   "execution_count": 4,
   "id": "442c9880-094d-4403-84eb-22ceed42116a",
   "metadata": {},
   "outputs": [],
   "source": [
    "logging.info(\"this is my line of execution\")"
   ]
  },
  {
   "cell_type": "code",
   "execution_count": 5,
   "id": "4a61f12a-f37e-48a5-8680-b7706a0c0aaa",
   "metadata": {},
   "outputs": [],
   "source": [
    "logging.error(\"this is my error\")"
   ]
  },
  {
   "cell_type": "code",
   "execution_count": 6,
   "id": "7c18191b-32f8-4ca1-84f1-2b1232e44ed7",
   "metadata": {},
   "outputs": [],
   "source": [
    "logging.critical(\"this is my critical\")"
   ]
  },
  {
   "cell_type": "markdown",
   "id": "508f3208-4a8e-41ed-9fe8-b903ef64d1fb",
   "metadata": {},
   "source": [
    "Hirarchy of logging\n",
    "1. NOSET\n",
    "2. DEBUG\n",
    "3. INFO\n",
    "3. WARNING\n",
    "4. ERROR\n",
    "5. CRITICAL"
   ]
  },
  {
   "cell_type": "code",
   "execution_count": 8,
   "id": "ae592c06-132c-4463-bd8d-290b1bd53dff",
   "metadata": {},
   "outputs": [],
   "source": [
    "logging.warning(\"this is my warning\")"
   ]
  },
  {
   "cell_type": "code",
   "execution_count": 3,
   "id": "8923ac4f-56ca-40c7-bf8b-6bfea5e03069",
   "metadata": {},
   "outputs": [],
   "source": [
    "logging.debug(\"this is my info related to debug\")"
   ]
  },
  {
   "cell_type": "code",
   "execution_count": 12,
   "id": "68f176a8-7061-4466-939c-7e75867e5292",
   "metadata": {},
   "outputs": [],
   "source": [
    "#noset and debug wont be able to log after logging info becuase we have given level as info"
   ]
  },
  {
   "cell_type": "code",
   "execution_count": 4,
   "id": "573db56d-b3c1-4bb2-a864-307499c942e8",
   "metadata": {},
   "outputs": [],
   "source": [
    "#shutdown the log\n",
    "logging.shutdown()"
   ]
  },
  {
   "cell_type": "code",
   "execution_count": 3,
   "id": "e242bff4-e59f-4e12-b54f-18d6d9b1acc2",
   "metadata": {},
   "outputs": [],
   "source": [
    "logging.basicConfig(filename = \"test1.log\", level =logging.DEBUG)"
   ]
  },
  {
   "cell_type": "code",
   "execution_count": 4,
   "id": "6ada89c1-ae08-41f7-ab38-a06882e874fe",
   "metadata": {},
   "outputs": [],
   "source": [
    "logging.error(\"this is error statement\")"
   ]
  },
  {
   "cell_type": "code",
   "execution_count": 5,
   "id": "1bb8a99c-a870-410d-a99c-6dacb4b05810",
   "metadata": {},
   "outputs": [
    {
     "ename": "AttributeError",
     "evalue": "module 'logging' has no attribute 'noset'",
     "output_type": "error",
     "traceback": [
      "\u001b[0;31m---------------------------------------------------------------------------\u001b[0m",
      "\u001b[0;31mAttributeError\u001b[0m                            Traceback (most recent call last)",
      "Cell \u001b[0;32mIn[5], line 1\u001b[0m\n\u001b[0;32m----> 1\u001b[0m \u001b[43mlogging\u001b[49m\u001b[38;5;241;43m.\u001b[39;49m\u001b[43mnoset\u001b[49m(\u001b[38;5;124m\"\u001b[39m\u001b[38;5;124mthis is noset\u001b[39m\u001b[38;5;124m\"\u001b[39m)\n",
      "\u001b[0;31mAttributeError\u001b[0m: module 'logging' has no attribute 'noset'"
     ]
    }
   ],
   "source": [
    "logging.noset(\"this is noset\")"
   ]
  },
  {
   "cell_type": "code",
   "execution_count": 6,
   "id": "75a9f81e-fefa-4773-8c55-d305f225494d",
   "metadata": {},
   "outputs": [],
   "source": [
    "#noset will not able to log after error because we have given level as debug "
   ]
  },
  {
   "cell_type": "code",
   "execution_count": 4,
   "id": "90b0eeb2-5143-43c4-9e9e-ecf919392a73",
   "metadata": {},
   "outputs": [],
   "source": [
    "logging.shutdown()"
   ]
  },
  {
   "cell_type": "code",
   "execution_count": 1,
   "id": "a3e05783-6b67-453e-b5f9-c0624161777f",
   "metadata": {},
   "outputs": [],
   "source": [
    "import logging"
   ]
  },
  {
   "cell_type": "code",
   "execution_count": 2,
   "id": "5ac05f65-412f-469e-8320-6c2bacebe522",
   "metadata": {},
   "outputs": [],
   "source": [
    "logging.basicConfig(filename = \"test2.log\", level =logging.INFO)"
   ]
  },
  {
   "cell_type": "code",
   "execution_count": 3,
   "id": "fe18686f-54fb-493e-9061-d4d6937c5a17",
   "metadata": {},
   "outputs": [],
   "source": [
    "logging.debug(\"this is debug\")"
   ]
  },
  {
   "cell_type": "code",
   "execution_count": 4,
   "id": "615a1bfc-e49e-4cb2-878b-6c3abedc17c7",
   "metadata": {},
   "outputs": [],
   "source": [
    "logging.warning(\"this is warning statement\")"
   ]
  },
  {
   "cell_type": "code",
   "execution_count": 5,
   "id": "f31d3f10-95dd-45e0-b866-cc99fae60b25",
   "metadata": {},
   "outputs": [],
   "source": [
    "logging.shutdown()"
   ]
  },
  {
   "cell_type": "code",
   "execution_count": 6,
   "id": "ade4ef40-336c-4971-a0b2-a4c73b98b018",
   "metadata": {},
   "outputs": [],
   "source": [
    "logging.basicConfig(filename=\"time.log\",level = logging.DEBUG,format='%(asctime)s %(message)s')"
   ]
  },
  {
   "cell_type": "code",
   "execution_count": 7,
   "id": "cceffd31-c99f-440e-a89d-c986b5345f48",
   "metadata": {},
   "outputs": [],
   "source": [
    "logging.debug(\"this is my debug\")"
   ]
  },
  {
   "cell_type": "code",
   "execution_count": 8,
   "id": "2ffe486a-316c-4e0e-8ba3-961ecc61ed6a",
   "metadata": {},
   "outputs": [],
   "source": [
    "logging.warning(\"this is my warning\")"
   ]
  },
  {
   "cell_type": "code",
   "execution_count": 3,
   "id": "122fa9a0-1b65-4309-8ca0-d509f188a888",
   "metadata": {},
   "outputs": [],
   "source": [
    "l=[1,2,3,4,[4,6,7,8],\"sudh\",\"ganesh\"]"
   ]
  },
  {
   "cell_type": "code",
   "execution_count": 4,
   "id": "958081fe-9ac8-4fa9-a672-aeac2703ef3f",
   "metadata": {},
   "outputs": [],
   "source": [
    "l1_int=[]\n",
    "l2_str=[]\n",
    "for i in l:\n",
    "    logging.info(\"this is the start of for loop {}\".format(l))\n",
    "    logging.info(\"this is the value of i am logging {}\".format(i))\n",
    "    if type(i) ==list:\n",
    "        for j in i:\n",
    "            logging.info(\"logging my j{j} and i is {i}\".format(i=i, j=j))\n",
    "            if type(j)==int:\n",
    "                l1_int.append(j)\n",
    "    elif type(i) == int:\n",
    "        l1_int.append(i)\n",
    "    else:\n",
    "        if type(i)==str:\n",
    "            l2_str.append(i)\n",
    "        logging.info(\"this is my final result with all int {l1} , with all str {l2}\".format(l1= l1_int,l2=l2_str))"
   ]
  },
  {
   "cell_type": "code",
   "execution_count": 12,
   "id": "775f50f8-b7e7-4df2-a209-5759e79a4e09",
   "metadata": {},
   "outputs": [
    {
     "data": {
      "text/plain": [
       "[1, 2, 3, 4, 4, 6, 7, 8]"
      ]
     },
     "execution_count": 12,
     "metadata": {},
     "output_type": "execute_result"
    }
   ],
   "source": [
    "l1_int"
   ]
  },
  {
   "cell_type": "code",
   "execution_count": 13,
   "id": "e6ba0c2d-f70c-4279-a44a-1cd85512bdc6",
   "metadata": {},
   "outputs": [
    {
     "data": {
      "text/plain": [
       "['sudh', 'ganesh']"
      ]
     },
     "execution_count": 13,
     "metadata": {},
     "output_type": "execute_result"
    }
   ],
   "source": [
    "l2_str"
   ]
  },
  {
   "cell_type": "code",
   "execution_count": null,
   "id": "a0d92aa4-cf40-4d1e-9a31-d4f941b92e45",
   "metadata": {},
   "outputs": [],
   "source": []
  }
 ],
 "metadata": {
  "kernelspec": {
   "display_name": "Python 3 (ipykernel)",
   "language": "python",
   "name": "python3"
  },
  "language_info": {
   "codemirror_mode": {
    "name": "ipython",
    "version": 3
   },
   "file_extension": ".py",
   "mimetype": "text/x-python",
   "name": "python",
   "nbconvert_exporter": "python",
   "pygments_lexer": "ipython3",
   "version": "3.10.8"
  }
 },
 "nbformat": 4,
 "nbformat_minor": 5
}
