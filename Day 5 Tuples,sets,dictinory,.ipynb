{
 "cells": [
  {
   "cell_type": "markdown",
   "id": "e1b97df3-cdb5-484c-8e8e-7d5f4fabd667",
   "metadata": {},
   "source": [
    "## Tuples"
   ]
  },
  {
   "cell_type": "code",
   "execution_count": 2,
   "id": "7ae50623-b462-4924-ab64-1514a6cf4b8d",
   "metadata": {},
   "outputs": [],
   "source": [
    "t=()"
   ]
  },
  {
   "cell_type": "code",
   "execution_count": 3,
   "id": "f188663e-e998-4511-8ea0-c7d0f4ffb941",
   "metadata": {},
   "outputs": [
    {
     "data": {
      "text/plain": [
       "tuple"
      ]
     },
     "execution_count": 3,
     "metadata": {},
     "output_type": "execute_result"
    }
   ],
   "source": [
    "type(t)"
   ]
  },
  {
   "cell_type": "code",
   "execution_count": 4,
   "id": "93a81b4c-dbd6-4cfc-83a2-3f1d4ba7d958",
   "metadata": {},
   "outputs": [],
   "source": [
    "t1=(1,2,3,3,4,4,\"ganesh\",True)"
   ]
  },
  {
   "cell_type": "code",
   "execution_count": 5,
   "id": "549420f6-8d1d-4403-8575-49c22de0625a",
   "metadata": {},
   "outputs": [
    {
     "data": {
      "text/plain": [
       "(1, 2, 3, 3, 4, 4, 'ganesh', True)"
      ]
     },
     "execution_count": 5,
     "metadata": {},
     "output_type": "execute_result"
    }
   ],
   "source": [
    "t1"
   ]
  },
  {
   "cell_type": "code",
   "execution_count": 6,
   "id": "5d3f5af0-26e3-4c5b-96a1-48103fecf587",
   "metadata": {},
   "outputs": [
    {
     "data": {
      "text/plain": [
       "tuple"
      ]
     },
     "execution_count": 6,
     "metadata": {},
     "output_type": "execute_result"
    }
   ],
   "source": [
    "type(t1)"
   ]
  },
  {
   "cell_type": "code",
   "execution_count": 7,
   "id": "722fd89d-418e-4bfd-8372-f5f9ce7303f4",
   "metadata": {},
   "outputs": [],
   "source": [
    "#list\n",
    "l1=[1,2,3,4,\"gani\"]"
   ]
  },
  {
   "cell_type": "code",
   "execution_count": 8,
   "id": "141d62b6-5946-4629-911e-9a28d21b4719",
   "metadata": {},
   "outputs": [
    {
     "data": {
      "text/plain": [
       "list"
      ]
     },
     "execution_count": 8,
     "metadata": {},
     "output_type": "execute_result"
    }
   ],
   "source": [
    "type(l1)"
   ]
  },
  {
   "cell_type": "code",
   "execution_count": 9,
   "id": "24f38856-1ccc-4533-b307-5d2e0154742d",
   "metadata": {},
   "outputs": [
    {
     "data": {
      "text/plain": [
       "3"
      ]
     },
     "execution_count": 9,
     "metadata": {},
     "output_type": "execute_result"
    }
   ],
   "source": [
    "#indexing of list\n",
    "l1[2]"
   ]
  },
  {
   "cell_type": "code",
   "execution_count": 11,
   "id": "86e4ebff-d382-4249-a791-9793cb782ae9",
   "metadata": {},
   "outputs": [
    {
     "data": {
      "text/plain": [
       "3"
      ]
     },
     "execution_count": 11,
     "metadata": {},
     "output_type": "execute_result"
    }
   ],
   "source": [
    "#indexing of tuple\n",
    "t1[3]"
   ]
  },
  {
   "cell_type": "code",
   "execution_count": 12,
   "id": "9365e30d-61aa-49a3-b764-1e9a09b1f119",
   "metadata": {},
   "outputs": [
    {
     "data": {
      "text/plain": [
       "(1, 2, 3, 3, 4, 4, 'ganesh', True)"
      ]
     },
     "execution_count": 12,
     "metadata": {},
     "output_type": "execute_result"
    }
   ],
   "source": [
    "t1"
   ]
  },
  {
   "cell_type": "code",
   "execution_count": 13,
   "id": "532a8b9c-b486-44cc-8e50-1e9e6fe50ab5",
   "metadata": {},
   "outputs": [
    {
     "data": {
      "text/plain": [
       "'ganesh'"
      ]
     },
     "execution_count": 13,
     "metadata": {},
     "output_type": "execute_result"
    }
   ],
   "source": [
    "t1[6]"
   ]
  },
  {
   "cell_type": "code",
   "execution_count": 15,
   "id": "64e520d2-a427-40d0-90a4-aaeba92bb129",
   "metadata": {},
   "outputs": [
    {
     "data": {
      "text/plain": [
       "(True, 'ganesh', 4, 4, 3, 3, 2, 1)"
      ]
     },
     "execution_count": 15,
     "metadata": {},
     "output_type": "execute_result"
    }
   ],
   "source": [
    "#reverse\n",
    "t1[::-1]"
   ]
  },
  {
   "cell_type": "code",
   "execution_count": 21,
   "id": "306652f3-0fda-4dee-8f29-784ccd83e7c1",
   "metadata": {},
   "outputs": [
    {
     "data": {
      "text/plain": [
       "(1, 2, 3)"
      ]
     },
     "execution_count": 21,
     "metadata": {},
     "output_type": "execute_result"
    }
   ],
   "source": [
    "t1[0:3]"
   ]
  },
  {
   "cell_type": "markdown",
   "id": "c9ec5625-d832-438a-9e25-09459fee50ab",
   "metadata": {},
   "source": [
    "## inbuilts methods of tuple"
   ]
  },
  {
   "cell_type": "code",
   "execution_count": 22,
   "id": "0762037e-fb5e-4578-a2f3-63a525c93111",
   "metadata": {},
   "outputs": [
    {
     "data": {
      "text/plain": [
       "2"
      ]
     },
     "execution_count": 22,
     "metadata": {},
     "output_type": "execute_result"
    }
   ],
   "source": [
    "#count\n",
    "t1.count(4)"
   ]
  },
  {
   "cell_type": "code",
   "execution_count": 19,
   "id": "4f32a9df-aedd-4140-b95e-ef3e947cf936",
   "metadata": {},
   "outputs": [
    {
     "data": {
      "text/plain": [
       "(1, 2, 3, 3, 4, 4, 'ganesh', True)"
      ]
     },
     "execution_count": 19,
     "metadata": {},
     "output_type": "execute_result"
    }
   ],
   "source": [
    "t1"
   ]
  },
  {
   "cell_type": "code",
   "execution_count": 20,
   "id": "ceb4a887-c602-46bc-a8a9-e7ebcde66b12",
   "metadata": {},
   "outputs": [
    {
     "data": {
      "text/plain": [
       "2"
      ]
     },
     "execution_count": 20,
     "metadata": {},
     "output_type": "execute_result"
    }
   ],
   "source": [
    "t1.count(1)"
   ]
  },
  {
   "cell_type": "code",
   "execution_count": 23,
   "id": "4c80cc93-320c-451c-a41b-cf93ec2ce456",
   "metadata": {},
   "outputs": [
    {
     "data": {
      "text/plain": [
       "0"
      ]
     },
     "execution_count": 23,
     "metadata": {},
     "output_type": "execute_result"
    }
   ],
   "source": [
    "t1.index(1)"
   ]
  },
  {
   "cell_type": "code",
   "execution_count": 24,
   "id": "50f07a09-7eca-4524-b387-cab24103265e",
   "metadata": {},
   "outputs": [
    {
     "data": {
      "text/plain": [
       "(1, 2, 3, 3, 4, 4, 'ganesh', True)"
      ]
     },
     "execution_count": 24,
     "metadata": {},
     "output_type": "execute_result"
    }
   ],
   "source": [
    "t1"
   ]
  },
  {
   "cell_type": "code",
   "execution_count": 25,
   "id": "12423628-9d38-4f06-96f4-257d25166382",
   "metadata": {},
   "outputs": [
    {
     "ename": "TypeError",
     "evalue": "'tuple' object does not support item assignment",
     "output_type": "error",
     "traceback": [
      "\u001b[0;31m---------------------------------------------------------------------------\u001b[0m",
      "\u001b[0;31mTypeError\u001b[0m                                 Traceback (most recent call last)",
      "Cell \u001b[0;32mIn[25], line 1\u001b[0m\n\u001b[0;32m----> 1\u001b[0m \u001b[43mt1\u001b[49m\u001b[43m[\u001b[49m\u001b[38;5;241;43m0\u001b[39;49m\u001b[43m]\u001b[49m\u001b[38;5;241m=\u001b[39m\u001b[38;5;241m10\u001b[39m\n",
      "\u001b[0;31mTypeError\u001b[0m: 'tuple' object does not support item assignment"
     ]
    }
   ],
   "source": [
    "t1[0]=10"
   ]
  },
  {
   "cell_type": "code",
   "execution_count": 26,
   "id": "64576afd-b4c9-4edc-b5a8-dc8d3b8d5c49",
   "metadata": {},
   "outputs": [],
   "source": [
    "#not possible to change the value in tuples"
   ]
  },
  {
   "cell_type": "code",
   "execution_count": 27,
   "id": "79b71578-7c46-482b-ad64-fbcebc461b71",
   "metadata": {},
   "outputs": [
    {
     "data": {
      "text/plain": [
       "[1, 2, 3, 4, 'gani']"
      ]
     },
     "execution_count": 27,
     "metadata": {},
     "output_type": "execute_result"
    }
   ],
   "source": [
    "l1"
   ]
  },
  {
   "cell_type": "code",
   "execution_count": 28,
   "id": "0ce6fc01-c877-423b-96c3-c573d5595aac",
   "metadata": {},
   "outputs": [],
   "source": [
    "l1[2]=7"
   ]
  },
  {
   "cell_type": "code",
   "execution_count": 29,
   "id": "f99a8c90-16f1-4b3a-b1c2-3fb3c33aaf21",
   "metadata": {},
   "outputs": [
    {
     "data": {
      "text/plain": [
       "[1, 2, 7, 4, 'gani']"
      ]
     },
     "execution_count": 29,
     "metadata": {},
     "output_type": "execute_result"
    }
   ],
   "source": [
    "l1"
   ]
  },
  {
   "cell_type": "code",
   "execution_count": 30,
   "id": "8af00ee8-2928-4db0-94ef-f4163a5013cc",
   "metadata": {},
   "outputs": [],
   "source": [
    "#we can change in list"
   ]
  },
  {
   "cell_type": "code",
   "execution_count": 31,
   "id": "fc46602c-5443-43aa-9e87-e5acab1b440e",
   "metadata": {},
   "outputs": [
    {
     "data": {
      "text/plain": [
       "(1, 2, 3, 3, 4, 4, 'ganesh', True)"
      ]
     },
     "execution_count": 31,
     "metadata": {},
     "output_type": "execute_result"
    }
   ],
   "source": [
    "t1"
   ]
  },
  {
   "cell_type": "code",
   "execution_count": 33,
   "id": "d10bf3ca-7321-4465-b7b7-82d9a0fd5e55",
   "metadata": {},
   "outputs": [
    {
     "name": "stdout",
     "output_type": "stream",
     "text": [
      "1 <class 'int'>\n",
      "2 <class 'int'>\n",
      "3 <class 'int'>\n",
      "3 <class 'int'>\n",
      "4 <class 'int'>\n",
      "4 <class 'int'>\n",
      "ganesh <class 'str'>\n",
      "True <class 'bool'>\n"
     ]
    }
   ],
   "source": [
    "for i in t1:\n",
    "    print(i, type(i))"
   ]
  },
  {
   "cell_type": "code",
   "execution_count": 34,
   "id": "e047fa81-d997-49ce-b844-2b8799badca4",
   "metadata": {},
   "outputs": [
    {
     "data": {
      "text/plain": [
       "(1, 2, 3, 3, 4, 4, 'ganesh', True)"
      ]
     },
     "execution_count": 34,
     "metadata": {},
     "output_type": "execute_result"
    }
   ],
   "source": [
    "t1"
   ]
  },
  {
   "cell_type": "code",
   "execution_count": 35,
   "id": "3c51b598-38f7-4fba-ac12-7bf2de0c98aa",
   "metadata": {},
   "outputs": [
    {
     "data": {
      "text/plain": [
       "(1,\n",
       " 2,\n",
       " 3,\n",
       " 3,\n",
       " 4,\n",
       " 4,\n",
       " 'ganesh',\n",
       " True,\n",
       " 1,\n",
       " 2,\n",
       " 3,\n",
       " 3,\n",
       " 4,\n",
       " 4,\n",
       " 'ganesh',\n",
       " True,\n",
       " 1,\n",
       " 2,\n",
       " 3,\n",
       " 3,\n",
       " 4,\n",
       " 4,\n",
       " 'ganesh',\n",
       " True)"
      ]
     },
     "execution_count": 35,
     "metadata": {},
     "output_type": "execute_result"
    }
   ],
   "source": [
    "t1*3"
   ]
  },
  {
   "cell_type": "code",
   "execution_count": 37,
   "id": "f4b338b7-fe5b-403a-8473-e688d67c6ad2",
   "metadata": {},
   "outputs": [
    {
     "data": {
      "text/plain": [
       "(1, 2, 3, 3, 4, 4, 'ganesh', True)"
      ]
     },
     "execution_count": 37,
     "metadata": {},
     "output_type": "execute_result"
    }
   ],
   "source": [
    "t1"
   ]
  },
  {
   "cell_type": "markdown",
   "id": "63b4b597-2c10-44b5-afe5-c0d9ad78e203",
   "metadata": {},
   "source": [
    "### Tuples are basically follows immutability concepts where it is not going to change any element at particular index."
   ]
  },
  {
   "cell_type": "code",
   "execution_count": 41,
   "id": "7a3f7d4c-67bd-4fd0-bca3-683b7dc6f097",
   "metadata": {},
   "outputs": [],
   "source": [
    "t2=(1,2,3,4,5,7,8,8,8,9)"
   ]
  },
  {
   "cell_type": "code",
   "execution_count": 42,
   "id": "7138c928-33fa-4c2c-860e-beff9a9bf2de",
   "metadata": {},
   "outputs": [
    {
     "data": {
      "text/plain": [
       "(1, 2, 3, 4, 5, 7, 8, 8, 8, 9)"
      ]
     },
     "execution_count": 42,
     "metadata": {},
     "output_type": "execute_result"
    }
   ],
   "source": [
    "t2"
   ]
  },
  {
   "cell_type": "code",
   "execution_count": 43,
   "id": "953c4bed-e6f2-43cd-8b29-b848f9d8ce27",
   "metadata": {},
   "outputs": [
    {
     "data": {
      "text/plain": [
       "9"
      ]
     },
     "execution_count": 43,
     "metadata": {},
     "output_type": "execute_result"
    }
   ],
   "source": [
    "max(t2)"
   ]
  },
  {
   "cell_type": "code",
   "execution_count": 44,
   "id": "a39da515-f400-4092-ae8f-a90b9967dfff",
   "metadata": {},
   "outputs": [
    {
     "data": {
      "text/plain": [
       "1"
      ]
     },
     "execution_count": 44,
     "metadata": {},
     "output_type": "execute_result"
    }
   ],
   "source": [
    "min(t2)"
   ]
  },
  {
   "cell_type": "code",
   "execution_count": 45,
   "id": "9a0c3faf-d24e-41ef-b641-fafd3c3b2f02",
   "metadata": {},
   "outputs": [],
   "source": [
    "p1=(0,1,2,3)\n",
    "p2=(2,1,4,\"dinga\")"
   ]
  },
  {
   "cell_type": "code",
   "execution_count": 46,
   "id": "ae56fb81-991d-47a0-bf73-78f7291b80e8",
   "metadata": {},
   "outputs": [],
   "source": [
    "p3=(p1,p2)"
   ]
  },
  {
   "cell_type": "code",
   "execution_count": 47,
   "id": "04e2f088-6e41-4178-bb6b-65f06c70d40e",
   "metadata": {},
   "outputs": [
    {
     "data": {
      "text/plain": [
       "((0, 1, 2, 3), (2, 1, 4, 'dinga'))"
      ]
     },
     "execution_count": 47,
     "metadata": {},
     "output_type": "execute_result"
    }
   ],
   "source": [
    "p3"
   ]
  },
  {
   "cell_type": "code",
   "execution_count": 48,
   "id": "1ca8dafb-b60e-4d26-a531-4e7b498a50bf",
   "metadata": {},
   "outputs": [],
   "source": [
    "#we can add tuple inside tuple"
   ]
  },
  {
   "cell_type": "code",
   "execution_count": 50,
   "id": "a96a9ead-6661-49c6-bef4-3a1a59367efa",
   "metadata": {},
   "outputs": [
    {
     "data": {
      "text/plain": [
       "2"
      ]
     },
     "execution_count": 50,
     "metadata": {},
     "output_type": "execute_result"
    }
   ],
   "source": [
    "#find the length\n",
    "len(p3)"
   ]
  },
  {
   "cell_type": "code",
   "execution_count": 51,
   "id": "2cf9808e-0db9-46a2-b9d7-a1ad9f7b047e",
   "metadata": {},
   "outputs": [
    {
     "data": {
      "text/plain": [
       "8"
      ]
     },
     "execution_count": 51,
     "metadata": {},
     "output_type": "execute_result"
    }
   ],
   "source": [
    "len(t1)"
   ]
  },
  {
   "cell_type": "code",
   "execution_count": 52,
   "id": "76da7cf0-527f-4ebd-9f3f-50fee93b103d",
   "metadata": {},
   "outputs": [
    {
     "data": {
      "text/plain": [
       "[1, 2, 7, 4, 'gani']"
      ]
     },
     "execution_count": 52,
     "metadata": {},
     "output_type": "execute_result"
    }
   ],
   "source": [
    "l1"
   ]
  },
  {
   "cell_type": "code",
   "execution_count": 53,
   "id": "801c2878-3a1b-4441-9d76-fc36d503f1a5",
   "metadata": {},
   "outputs": [
    {
     "data": {
      "text/plain": [
       "(0, 1, 2, 3)"
      ]
     },
     "execution_count": 53,
     "metadata": {},
     "output_type": "execute_result"
    }
   ],
   "source": [
    "p1"
   ]
  },
  {
   "cell_type": "code",
   "execution_count": 54,
   "id": "04806131-f417-4c30-bdb5-46071bc61d83",
   "metadata": {},
   "outputs": [],
   "source": [
    "#can we add list inside tuple\n",
    "tt1=(p1,l1)"
   ]
  },
  {
   "cell_type": "code",
   "execution_count": 55,
   "id": "a12f92a5-b748-4a74-9914-9fbc1dcd7487",
   "metadata": {},
   "outputs": [
    {
     "data": {
      "text/plain": [
       "((0, 1, 2, 3), [1, 2, 7, 4, 'gani'])"
      ]
     },
     "execution_count": 55,
     "metadata": {},
     "output_type": "execute_result"
    }
   ],
   "source": [
    "tt1"
   ]
  },
  {
   "cell_type": "code",
   "execution_count": 56,
   "id": "d441d55a-ecd1-4ec6-a082-1a338683d41d",
   "metadata": {},
   "outputs": [],
   "source": [
    "#we can add list inside tuple"
   ]
  },
  {
   "cell_type": "code",
   "execution_count": 57,
   "id": "133ab1d2-899e-4d32-bdf5-36bee66ae534",
   "metadata": {},
   "outputs": [],
   "source": [
    "#tuple inside list\n",
    "ll1=(l1,p1)"
   ]
  },
  {
   "cell_type": "code",
   "execution_count": 58,
   "id": "a852ce63-61c1-470e-b23b-5e2e5be0587d",
   "metadata": {},
   "outputs": [
    {
     "data": {
      "text/plain": [
       "([1, 2, 7, 4, 'gani'], (0, 1, 2, 3))"
      ]
     },
     "execution_count": 58,
     "metadata": {},
     "output_type": "execute_result"
    }
   ],
   "source": [
    "ll1"
   ]
  },
  {
   "cell_type": "markdown",
   "id": "9e08a89c-cd5f-4062-b1bd-7b4d0609e158",
   "metadata": {},
   "source": [
    "## Sets"
   ]
  },
  {
   "cell_type": "code",
   "execution_count": 59,
   "id": "e70b02cd-6af8-4f46-8dc6-6a056e1677f5",
   "metadata": {},
   "outputs": [],
   "source": [
    "s={}"
   ]
  },
  {
   "cell_type": "code",
   "execution_count": 60,
   "id": "38a85c5a-90c5-4dfc-9fb7-ae390ff81ce6",
   "metadata": {},
   "outputs": [
    {
     "data": {
      "text/plain": [
       "dict"
      ]
     },
     "execution_count": 60,
     "metadata": {},
     "output_type": "execute_result"
    }
   ],
   "source": [
    "type(s)"
   ]
  },
  {
   "cell_type": "code",
   "execution_count": 65,
   "id": "38102789-59b7-4d79-9745-6374717a66d0",
   "metadata": {},
   "outputs": [],
   "source": [
    "s1={1,2,3,2,3,\"ganu\",4,\"ganu\"}"
   ]
  },
  {
   "cell_type": "code",
   "execution_count": 66,
   "id": "782cbcd6-eee6-4def-a12a-d5c82400f274",
   "metadata": {},
   "outputs": [
    {
     "data": {
      "text/plain": [
       "set"
      ]
     },
     "execution_count": 66,
     "metadata": {},
     "output_type": "execute_result"
    }
   ],
   "source": [
    "type(s1)"
   ]
  },
  {
   "cell_type": "code",
   "execution_count": 67,
   "id": "128005b2-9360-46fe-838b-dfa8fe16cd50",
   "metadata": {},
   "outputs": [
    {
     "data": {
      "text/plain": [
       "{1, 2, 3, 4, 'ganu'}"
      ]
     },
     "execution_count": 67,
     "metadata": {},
     "output_type": "execute_result"
    }
   ],
   "source": [
    "s1"
   ]
  },
  {
   "cell_type": "code",
   "execution_count": 68,
   "id": "6b7a9960-c3a4-4e5d-b530-5179f615561d",
   "metadata": {},
   "outputs": [],
   "source": [
    "#* set will give unique values\n",
    "# it will not give duplicates elements"
   ]
  },
  {
   "cell_type": "code",
   "execution_count": 73,
   "id": "96eb24ec-d7ed-4404-9e83-1f229a327a80",
   "metadata": {},
   "outputs": [
    {
     "data": {
      "text/plain": [
       "[1, 2, 3, 4, 'ganu']"
      ]
     },
     "execution_count": 73,
     "metadata": {},
     "output_type": "execute_result"
    }
   ],
   "source": [
    "#conversion of set to list\n",
    "list(s1)"
   ]
  },
  {
   "cell_type": "code",
   "execution_count": 72,
   "id": "93cf9200-88e5-4cb1-b744-db2ea0c56715",
   "metadata": {},
   "outputs": [
    {
     "data": {
      "text/plain": [
       "{1, 2, 3, 4, 'ganu'}"
      ]
     },
     "execution_count": 72,
     "metadata": {},
     "output_type": "execute_result"
    }
   ],
   "source": [
    "s1"
   ]
  },
  {
   "cell_type": "code",
   "execution_count": 74,
   "id": "6389626f-bc6a-4719-b6bc-9d5985abdea4",
   "metadata": {},
   "outputs": [
    {
     "data": {
      "text/plain": [
       "[1, 2, 7, 4, 'gani']"
      ]
     },
     "execution_count": 74,
     "metadata": {},
     "output_type": "execute_result"
    }
   ],
   "source": [
    "l1"
   ]
  },
  {
   "cell_type": "code",
   "execution_count": 79,
   "id": "a86c6bc6-2fe7-46dc-b2f2-6b5cc6d2f68f",
   "metadata": {},
   "outputs": [
    {
     "ename": "TypeError",
     "evalue": "unhashable type: 'set'",
     "output_type": "error",
     "traceback": [
      "\u001b[0;31m---------------------------------------------------------------------------\u001b[0m",
      "\u001b[0;31mTypeError\u001b[0m                                 Traceback (most recent call last)",
      "Cell \u001b[0;32mIn[79], line 2\u001b[0m\n\u001b[1;32m      1\u001b[0m \u001b[38;5;66;03m#store set and list in one set\u001b[39;00m\n\u001b[0;32m----> 2\u001b[0m ss1\u001b[38;5;241m=\u001b[39m{s1,l1}\n",
      "\u001b[0;31mTypeError\u001b[0m: unhashable type: 'set'"
     ]
    }
   ],
   "source": [
    "#store set and list in one set\n",
    "ss1={s1,l1}"
   ]
  },
  {
   "cell_type": "code",
   "execution_count": 81,
   "id": "3168709f-526e-4f56-808b-b94af887c53e",
   "metadata": {},
   "outputs": [
    {
     "data": {
      "text/plain": [
       "({1, 2, 3, 4, 'ganu'}, [1, 2, 7, 4, 'gani'])"
      ]
     },
     "execution_count": 81,
     "metadata": {},
     "output_type": "execute_result"
    }
   ],
   "source": [
    "ss1"
   ]
  },
  {
   "cell_type": "code",
   "execution_count": 82,
   "id": "00487ffd-c373-42d0-bed3-758268f4183e",
   "metadata": {},
   "outputs": [
    {
     "ename": "TypeError",
     "evalue": "unhashable type: 'set'",
     "output_type": "error",
     "traceback": [
      "\u001b[0;31m---------------------------------------------------------------------------\u001b[0m",
      "\u001b[0;31mTypeError\u001b[0m                                 Traceback (most recent call last)",
      "Cell \u001b[0;32mIn[82], line 2\u001b[0m\n\u001b[1;32m      1\u001b[0m \u001b[38;5;66;03m#store tuples in sets\u001b[39;00m\n\u001b[0;32m----> 2\u001b[0m ss2\u001b[38;5;241m=\u001b[39m{s1,t1}\n",
      "\u001b[0;31mTypeError\u001b[0m: unhashable type: 'set'"
     ]
    }
   ],
   "source": [
    "#store tuples in sets\n",
    "ss2={s1,t1}"
   ]
  },
  {
   "cell_type": "code",
   "execution_count": 84,
   "id": "dd50305c-9b21-49cf-94a6-48f7b67b7f3c",
   "metadata": {},
   "outputs": [],
   "source": [
    "s7={1,2,3,4,(1,34,33)}"
   ]
  },
  {
   "cell_type": "code",
   "execution_count": 85,
   "id": "9a0b5dfd-03c2-43c1-888e-83ed57cb0f37",
   "metadata": {},
   "outputs": [
    {
     "data": {
      "text/plain": [
       "{(1, 34, 33), 1, 2, 3, 4}"
      ]
     },
     "execution_count": 85,
     "metadata": {},
     "output_type": "execute_result"
    }
   ],
   "source": [
    "s7"
   ]
  },
  {
   "cell_type": "code",
   "execution_count": 86,
   "id": "4b2537fd-17e4-4ab7-bea1-e4052cb4869d",
   "metadata": {},
   "outputs": [
    {
     "data": {
      "text/plain": [
       "{1, 2, 3, 4, 'ganu'}"
      ]
     },
     "execution_count": 86,
     "metadata": {},
     "output_type": "execute_result"
    }
   ],
   "source": [
    "s1"
   ]
  },
  {
   "cell_type": "code",
   "execution_count": 87,
   "id": "1b288e20-3a7a-4e8a-a728-ad8393a00a37",
   "metadata": {},
   "outputs": [
    {
     "ename": "TypeError",
     "evalue": "'set' object is not subscriptable",
     "output_type": "error",
     "traceback": [
      "\u001b[0;31m---------------------------------------------------------------------------\u001b[0m",
      "\u001b[0;31mTypeError\u001b[0m                                 Traceback (most recent call last)",
      "Cell \u001b[0;32mIn[87], line 1\u001b[0m\n\u001b[0;32m----> 1\u001b[0m \u001b[43ms1\u001b[49m\u001b[43m[\u001b[49m\u001b[38;5;241;43m0\u001b[39;49m\u001b[43m]\u001b[49m\n",
      "\u001b[0;31mTypeError\u001b[0m: 'set' object is not subscriptable"
     ]
    }
   ],
   "source": [
    "s1[0]"
   ]
  },
  {
   "cell_type": "code",
   "execution_count": 88,
   "id": "1ccbe2d7-541f-4836-bd33-524fadfdd02a",
   "metadata": {},
   "outputs": [
    {
     "ename": "TypeError",
     "evalue": "'set' object is not subscriptable",
     "output_type": "error",
     "traceback": [
      "\u001b[0;31m---------------------------------------------------------------------------\u001b[0m",
      "\u001b[0;31mTypeError\u001b[0m                                 Traceback (most recent call last)",
      "Cell \u001b[0;32mIn[88], line 2\u001b[0m\n\u001b[1;32m      1\u001b[0m \u001b[38;5;66;03m#indexing is not possble in sets\u001b[39;00m\n\u001b[0;32m----> 2\u001b[0m \u001b[43ms1\u001b[49m\u001b[43m[\u001b[49m\u001b[43m:\u001b[49m\u001b[43m:\u001b[49m\u001b[38;5;241;43m-\u001b[39;49m\u001b[38;5;241;43m1\u001b[39;49m\u001b[43m]\u001b[49m\n",
      "\u001b[0;31mTypeError\u001b[0m: 'set' object is not subscriptable"
     ]
    }
   ],
   "source": [
    "#indexing is not possble in sets\n",
    "s1[::-1]"
   ]
  },
  {
   "cell_type": "code",
   "execution_count": 89,
   "id": "73dba2b3-56a7-4488-a36e-36c0d93b1022",
   "metadata": {},
   "outputs": [
    {
     "name": "stdout",
     "output_type": "stream",
     "text": [
      "1\n",
      "2\n",
      "3\n",
      "4\n",
      "ganu\n"
     ]
    }
   ],
   "source": [
    "for i in s1:\n",
    "    print(i)"
   ]
  },
  {
   "cell_type": "code",
   "execution_count": 93,
   "id": "dbaacad9-7dd5-4510-8752-f3a6ccfcb212",
   "metadata": {},
   "outputs": [
    {
     "data": {
      "text/plain": [
       "{1, 2, 3, 4, 'ganu'}"
      ]
     },
     "execution_count": 93,
     "metadata": {},
     "output_type": "execute_result"
    }
   ],
   "source": [
    "s1"
   ]
  },
  {
   "cell_type": "code",
   "execution_count": 94,
   "id": "23ca063b-29a2-4800-a87d-cd15f6af869b",
   "metadata": {},
   "outputs": [],
   "source": [
    "s1.add(9)"
   ]
  },
  {
   "cell_type": "code",
   "execution_count": 95,
   "id": "155082b4-c7cb-4001-b77f-a2e4e7c1df45",
   "metadata": {},
   "outputs": [
    {
     "data": {
      "text/plain": [
       "{1, 2, 3, 4, 9, 'ganu'}"
      ]
     },
     "execution_count": 95,
     "metadata": {},
     "output_type": "execute_result"
    }
   ],
   "source": [
    "s1"
   ]
  },
  {
   "cell_type": "code",
   "execution_count": 96,
   "id": "acf4d25c-e4f5-425c-a309-0096f21fcb09",
   "metadata": {},
   "outputs": [
    {
     "data": {
      "text/plain": [
       "6"
      ]
     },
     "execution_count": 96,
     "metadata": {},
     "output_type": "execute_result"
    }
   ],
   "source": [
    "len(s1)"
   ]
  },
  {
   "cell_type": "code",
   "execution_count": 98,
   "id": "6d7e484c-8bfd-438f-95bb-50a2363e579a",
   "metadata": {},
   "outputs": [
    {
     "data": {
      "text/plain": [
       "1"
      ]
     },
     "execution_count": 98,
     "metadata": {},
     "output_type": "execute_result"
    }
   ],
   "source": [
    "s1.pop()"
   ]
  },
  {
   "cell_type": "code",
   "execution_count": 99,
   "id": "9c250a8c-4ac3-4077-a067-6b198770c9cf",
   "metadata": {},
   "outputs": [
    {
     "data": {
      "text/plain": [
       "{2, 3, 4, 9, 'ganu'}"
      ]
     },
     "execution_count": 99,
     "metadata": {},
     "output_type": "execute_result"
    }
   ],
   "source": [
    "s1"
   ]
  },
  {
   "cell_type": "code",
   "execution_count": 100,
   "id": "b1d4b1b8-6671-4295-942e-e5478b41a4aa",
   "metadata": {},
   "outputs": [
    {
     "data": {
      "text/plain": [
       "2"
      ]
     },
     "execution_count": 100,
     "metadata": {},
     "output_type": "execute_result"
    }
   ],
   "source": [
    "s1.pop()"
   ]
  },
  {
   "cell_type": "code",
   "execution_count": 101,
   "id": "d7b881a7-33ed-4d0c-8730-c4fbaa269abe",
   "metadata": {},
   "outputs": [
    {
     "data": {
      "text/plain": [
       "{3, 4, 9, 'ganu'}"
      ]
     },
     "execution_count": 101,
     "metadata": {},
     "output_type": "execute_result"
    }
   ],
   "source": [
    "s1"
   ]
  },
  {
   "cell_type": "code",
   "execution_count": 102,
   "id": "f717aef5-be67-4ce4-86c3-c7af08425de3",
   "metadata": {},
   "outputs": [
    {
     "data": {
      "text/plain": [
       "3"
      ]
     },
     "execution_count": 102,
     "metadata": {},
     "output_type": "execute_result"
    }
   ],
   "source": [
    "# it will pop up based on the hashing\n",
    "# it used to remove(shift+tab)\n",
    "s1.pop()"
   ]
  },
  {
   "cell_type": "code",
   "execution_count": 103,
   "id": "a1d805b0-93c8-4b8a-9e05-ebf169f0954c",
   "metadata": {},
   "outputs": [
    {
     "data": {
      "text/plain": [
       "{4, 9, 'ganu'}"
      ]
     },
     "execution_count": 103,
     "metadata": {},
     "output_type": "execute_result"
    }
   ],
   "source": [
    "s1"
   ]
  },
  {
   "cell_type": "code",
   "execution_count": 104,
   "id": "cf480a7c-c8cf-4337-b176-32916de2b2f3",
   "metadata": {},
   "outputs": [],
   "source": [
    "s1.clear()"
   ]
  },
  {
   "cell_type": "code",
   "execution_count": 105,
   "id": "1ee33781-4d29-4fa4-b2c7-eca4836f6cf1",
   "metadata": {},
   "outputs": [
    {
     "data": {
      "text/plain": [
       "set()"
      ]
     },
     "execution_count": 105,
     "metadata": {},
     "output_type": "execute_result"
    }
   ],
   "source": [
    "s1"
   ]
  },
  {
   "cell_type": "code",
   "execution_count": 106,
   "id": "dbef6812-64b4-4f0f-8eaf-f20ca78ac577",
   "metadata": {},
   "outputs": [],
   "source": [
    "s5={11,12,11,13,12,17}"
   ]
  },
  {
   "cell_type": "code",
   "execution_count": 107,
   "id": "cbae45c4-e8d9-4e64-a6c6-7b4aa8fd6e54",
   "metadata": {},
   "outputs": [
    {
     "data": {
      "text/plain": [
       "{11, 12, 13, 17}"
      ]
     },
     "execution_count": 107,
     "metadata": {},
     "output_type": "execute_result"
    }
   ],
   "source": [
    "s5"
   ]
  },
  {
   "cell_type": "code",
   "execution_count": 108,
   "id": "7fc84d05-1edc-4495-b171-ecf96a138bf9",
   "metadata": {},
   "outputs": [],
   "source": [
    "s6={77,55,66,\"ganesh\"}"
   ]
  },
  {
   "cell_type": "code",
   "execution_count": 109,
   "id": "94fa9bf4-8dea-4ffe-975f-c127f8dd1400",
   "metadata": {},
   "outputs": [
    {
     "data": {
      "text/plain": [
       "{55, 66, 77, 'ganesh'}"
      ]
     },
     "execution_count": 109,
     "metadata": {},
     "output_type": "execute_result"
    }
   ],
   "source": [
    "s6"
   ]
  },
  {
   "cell_type": "code",
   "execution_count": 110,
   "id": "9b1af619-7e94-46e2-90af-63092498bc9e",
   "metadata": {},
   "outputs": [
    {
     "data": {
      "text/plain": [
       "{(1, 34, 33), 1, 2, 3, 4}"
      ]
     },
     "execution_count": 110,
     "metadata": {},
     "output_type": "execute_result"
    }
   ],
   "source": [
    "s7.difference(s6)"
   ]
  },
  {
   "cell_type": "code",
   "execution_count": 111,
   "id": "eeb98e74-1b37-419e-b2c3-43fa152653c7",
   "metadata": {},
   "outputs": [],
   "source": [
    "s6.clear()"
   ]
  },
  {
   "cell_type": "code",
   "execution_count": 112,
   "id": "4d28925e-d639-415e-b72e-3e0fa8eb4894",
   "metadata": {},
   "outputs": [
    {
     "data": {
      "text/plain": [
       "set()"
      ]
     },
     "execution_count": 112,
     "metadata": {},
     "output_type": "execute_result"
    }
   ],
   "source": [
    "s6"
   ]
  },
  {
   "cell_type": "code",
   "execution_count": 113,
   "id": "81adba56-4db9-40b0-a803-b7da62e6531a",
   "metadata": {},
   "outputs": [],
   "source": [
    "s6={11,11,12,13,1,4,99}"
   ]
  },
  {
   "cell_type": "code",
   "execution_count": 116,
   "id": "07ea7c87-dfea-4392-a886-ff1b368f48ff",
   "metadata": {},
   "outputs": [],
   "source": [
    "s7={99,1,12,13,15}\n"
   ]
  },
  {
   "cell_type": "code",
   "execution_count": 117,
   "id": "7378d479-45ea-4d76-96eb-43219b5c6d26",
   "metadata": {},
   "outputs": [
    {
     "data": {
      "text/plain": [
       "{4, 11}"
      ]
     },
     "execution_count": 117,
     "metadata": {},
     "output_type": "execute_result"
    }
   ],
   "source": [
    "s6.difference(s7)"
   ]
  },
  {
   "cell_type": "code",
   "execution_count": 1,
   "id": "f28add70-76a7-4b24-b140-ed8f8f6a64dd",
   "metadata": {},
   "outputs": [],
   "source": [
    "d={}"
   ]
  },
  {
   "cell_type": "code",
   "execution_count": 2,
   "id": "aa212df8-821e-4f06-bf71-6dd55c518021",
   "metadata": {},
   "outputs": [
    {
     "data": {
      "text/plain": [
       "dict"
      ]
     },
     "execution_count": 2,
     "metadata": {},
     "output_type": "execute_result"
    }
   ],
   "source": [
    "type(d)"
   ]
  },
  {
   "cell_type": "code",
   "execution_count": 5,
   "id": "dcdc23b2-79d7-4bba-8d7e-78b4044b7748",
   "metadata": {},
   "outputs": [],
   "source": [
    "d1={\"name\":\"gani\" ,\"email_id\": \"gani@gmail.com\" , \"number\":23145}"
   ]
  },
  {
   "cell_type": "code",
   "execution_count": 6,
   "id": "82a366e0-c784-4f18-ad7e-bd251b328506",
   "metadata": {},
   "outputs": [
    {
     "data": {
      "text/plain": [
       "{'name': 'gani', 'email_id': 'gani@gmail.com', 'number': 23145}"
      ]
     },
     "execution_count": 6,
     "metadata": {},
     "output_type": "execute_result"
    }
   ],
   "source": [
    "d1"
   ]
  },
  {
   "cell_type": "code",
   "execution_count": 9,
   "id": "e664b446-c121-4da2-a2a4-187edc386578",
   "metadata": {},
   "outputs": [],
   "source": [
    "d2={\"name\":\"ganu\",\"name\":\"ganesh\"}"
   ]
  },
  {
   "cell_type": "code",
   "execution_count": 10,
   "id": "03ee902a-6d37-4eb2-92cb-f706ca99daba",
   "metadata": {},
   "outputs": [
    {
     "data": {
      "text/plain": [
       "{'name': 'ganesh'}"
      ]
     },
     "execution_count": 10,
     "metadata": {},
     "output_type": "execute_result"
    }
   ],
   "source": [
    "d2"
   ]
  },
  {
   "cell_type": "code",
   "execution_count": 11,
   "id": "19ebf45f-e8ba-4c71-b030-9bfeaac507f1",
   "metadata": {},
   "outputs": [],
   "source": [
    "d3={\"name\":\"gana\",\"name\":\"ganesh\"}"
   ]
  },
  {
   "cell_type": "code",
   "execution_count": 12,
   "id": "385fa49c-ee2e-451f-b140-4f4155dfa5d9",
   "metadata": {},
   "outputs": [
    {
     "data": {
      "text/plain": [
       "{'name': 'ganesh'}"
      ]
     },
     "execution_count": 12,
     "metadata": {},
     "output_type": "execute_result"
    }
   ],
   "source": [
    "d3"
   ]
  },
  {
   "cell_type": "code",
   "execution_count": 31,
   "id": "b84b3113-10df-4fad-a295-f1f7180bbd57",
   "metadata": {},
   "outputs": [],
   "source": [
    "#numeric value as key\n",
    "d4={362626:\"abcdw\"}"
   ]
  },
  {
   "cell_type": "code",
   "execution_count": 32,
   "id": "a0ca4846-54ab-4cd6-a035-464bc9bf483e",
   "metadata": {},
   "outputs": [
    {
     "data": {
      "text/plain": [
       "{362626: 'abcdw'}"
      ]
     },
     "execution_count": 32,
     "metadata": {},
     "output_type": "execute_result"
    }
   ],
   "source": [
    "d4"
   ]
  },
  {
   "cell_type": "code",
   "execution_count": 33,
   "id": "b12deee9-bc8f-4c14-9038-405a1501a864",
   "metadata": {},
   "outputs": [],
   "source": [
    "#floating as key\n",
    "d5={78272.727:\"aaa\"}"
   ]
  },
  {
   "cell_type": "code",
   "execution_count": 34,
   "id": "0868390d-9875-43c6-a231-7449821869f9",
   "metadata": {},
   "outputs": [
    {
     "data": {
      "text/plain": [
       "{78272.727: 'aaa'}"
      ]
     },
     "execution_count": 34,
     "metadata": {},
     "output_type": "execute_result"
    }
   ],
   "source": [
    "d5"
   ]
  },
  {
   "cell_type": "code",
   "execution_count": 35,
   "id": "eda48b1e-b4ef-4cac-b01d-1ac1d5fa9fbb",
   "metadata": {},
   "outputs": [],
   "source": [
    "#boolean as key\n",
    "d6={True:\"abbbak\"}"
   ]
  },
  {
   "cell_type": "code",
   "execution_count": 36,
   "id": "c9e8e25f-4595-4293-8736-295d050fcb46",
   "metadata": {},
   "outputs": [
    {
     "data": {
      "text/plain": [
       "{True: 'abbbak'}"
      ]
     },
     "execution_count": 36,
     "metadata": {},
     "output_type": "execute_result"
    }
   ],
   "source": [
    "d6"
   ]
  },
  {
   "cell_type": "code",
   "execution_count": 19,
   "id": "0a042850-295f-4fe4-ae5b-30a27f662129",
   "metadata": {},
   "outputs": [
    {
     "ename": "SyntaxError",
     "evalue": "invalid syntax (3057633944.py, line 1)",
     "output_type": "error",
     "traceback": [
      "\u001b[0;36m  Cell \u001b[0;32mIn[19], line 1\u001b[0;36m\u001b[0m\n\u001b[0;31m    d7={@,\"aadddddd\"}\u001b[0m\n\u001b[0m        ^\u001b[0m\n\u001b[0;31mSyntaxError\u001b[0m\u001b[0;31m:\u001b[0m invalid syntax\n"
     ]
    }
   ],
   "source": [
    "d7={@,\"aadddddd\"}"
   ]
  },
  {
   "cell_type": "code",
   "execution_count": 37,
   "id": "71002e26-5340-4530-9e50-4390f0cae242",
   "metadata": {},
   "outputs": [
    {
     "ename": "TypeError",
     "evalue": "unhashable type: 'list'",
     "output_type": "error",
     "traceback": [
      "\u001b[0;31m---------------------------------------------------------------------------\u001b[0m",
      "\u001b[0;31mTypeError\u001b[0m                                 Traceback (most recent call last)",
      "Cell \u001b[0;32mIn[37], line 2\u001b[0m\n\u001b[1;32m      1\u001b[0m \u001b[38;5;66;03m#list as key\u001b[39;00m\n\u001b[0;32m----> 2\u001b[0m d9\u001b[38;5;241m=\u001b[39m{[\u001b[38;5;241m124\u001b[39m,\u001b[38;5;241m2\u001b[39m,\u001b[38;5;241m4\u001b[39m,\u001b[38;5;241m5\u001b[39m]:\u001b[38;5;124m\"\u001b[39m\u001b[38;5;124mavava\u001b[39m\u001b[38;5;124m\"\u001b[39m}\n",
      "\u001b[0;31mTypeError\u001b[0m: unhashable type: 'list'"
     ]
    }
   ],
   "source": [
    "#list as key\n",
    "d9={[124,2,4,5]:\"avava\"}"
   ]
  },
  {
   "cell_type": "code",
   "execution_count": 38,
   "id": "568e5874-f2ab-4a37-b210-a20375271ad4",
   "metadata": {},
   "outputs": [],
   "source": [
    "#tuple as key\n",
    "d10={(1,2,3,4,1):\"ahajaj\"}"
   ]
  },
  {
   "cell_type": "code",
   "execution_count": 39,
   "id": "c40e6bfd-2b26-4c03-99d3-105c2f4d2f81",
   "metadata": {},
   "outputs": [
    {
     "data": {
      "text/plain": [
       "{(1, 2, 3, 4, 1): 'ahajaj'}"
      ]
     },
     "execution_count": 39,
     "metadata": {},
     "output_type": "execute_result"
    }
   ],
   "source": [
    "d10"
   ]
  },
  {
   "cell_type": "code",
   "execution_count": 40,
   "id": "83f122fc-5acb-4e46-9935-27d7fc710790",
   "metadata": {},
   "outputs": [
    {
     "ename": "TypeError",
     "evalue": "unhashable type: 'set'",
     "output_type": "error",
     "traceback": [
      "\u001b[0;31m---------------------------------------------------------------------------\u001b[0m",
      "\u001b[0;31mTypeError\u001b[0m                                 Traceback (most recent call last)",
      "Cell \u001b[0;32mIn[40], line 2\u001b[0m\n\u001b[1;32m      1\u001b[0m \u001b[38;5;66;03m#set as key\u001b[39;00m\n\u001b[0;32m----> 2\u001b[0m d11\u001b[38;5;241m=\u001b[39m{{\u001b[38;5;241m1\u001b[39m,\u001b[38;5;241m2\u001b[39m,\u001b[38;5;241m2\u001b[39m,\u001b[38;5;241m3\u001b[39m,\u001b[38;5;241m4\u001b[39m}:\u001b[38;5;124m\"\u001b[39m\u001b[38;5;124mgahha\u001b[39m\u001b[38;5;124m\"\u001b[39m}\n",
      "\u001b[0;31mTypeError\u001b[0m: unhashable type: 'set'"
     ]
    }
   ],
   "source": [
    "#set as key\n",
    "d11={{1,2,2,3,4}:\"gahha\"}"
   ]
  },
  {
   "cell_type": "code",
   "execution_count": 26,
   "id": "09da8c2a-e075-42e5-bd47-68f76cddcc92",
   "metadata": {},
   "outputs": [
    {
     "ename": "TypeError",
     "evalue": "unhashable type: 'dict'",
     "output_type": "error",
     "traceback": [
      "\u001b[0;31m---------------------------------------------------------------------------\u001b[0m",
      "\u001b[0;31mTypeError\u001b[0m                                 Traceback (most recent call last)",
      "Cell \u001b[0;32mIn[26], line 1\u001b[0m\n\u001b[0;32m----> 1\u001b[0m d12\u001b[38;5;241m=\u001b[39m{{\u001b[38;5;124m\"\u001b[39m\u001b[38;5;124mkey\u001b[39m\u001b[38;5;124m\"\u001b[39m:\u001b[38;5;241m122\u001b[39m}:\u001b[38;5;124m\"\u001b[39m\u001b[38;5;124mahhaja\u001b[39m\u001b[38;5;124m\"\u001b[39m}\n",
      "\u001b[0;31mTypeError\u001b[0m: unhashable type: 'dict'"
     ]
    }
   ],
   "source": [
    "d12={{\"key\":122}:\"ahhaja\"}"
   ]
  },
  {
   "cell_type": "code",
   "execution_count": 29,
   "id": "985e064a-77f9-4b3c-81ab-c4b550f29a30",
   "metadata": {},
   "outputs": [],
   "source": [
    "#list as value\n",
    "d13={\"course_name\":[\"datascience\",\"web_dev\",\"java\"]}"
   ]
  },
  {
   "cell_type": "code",
   "execution_count": 30,
   "id": "2927aaca-5668-4484-bcf2-a221bfc81bd8",
   "metadata": {},
   "outputs": [
    {
     "data": {
      "text/plain": [
       "{'course_name': ['datascience', 'web_dev', 'java']}"
      ]
     },
     "execution_count": 30,
     "metadata": {},
     "output_type": "execute_result"
    }
   ],
   "source": [
    "d13"
   ]
  },
  {
   "cell_type": "code",
   "execution_count": 42,
   "id": "6aa40bad-0864-4182-9051-a6e26fe5fe71",
   "metadata": {},
   "outputs": [],
   "source": [
    "#tuples as value\n",
    "d14={\"afgag\":(1,2,2,2,3,3,4)}"
   ]
  },
  {
   "cell_type": "code",
   "execution_count": 43,
   "id": "70cb1d85-e9be-491b-b8dd-c7510462827b",
   "metadata": {},
   "outputs": [
    {
     "data": {
      "text/plain": [
       "{'afgag': (1, 2, 2, 2, 3, 3, 4)}"
      ]
     },
     "execution_count": 43,
     "metadata": {},
     "output_type": "execute_result"
    }
   ],
   "source": [
    "d14"
   ]
  },
  {
   "cell_type": "code",
   "execution_count": 45,
   "id": "d2218c08-ec1f-4360-9066-a1a8d0a3d43c",
   "metadata": {},
   "outputs": [],
   "source": [
    "#sets as value\n",
    "d15={\"agajJ\":{1,2,239}}"
   ]
  },
  {
   "cell_type": "code",
   "execution_count": 47,
   "id": "f4ca8c3a-3d38-4f5c-a714-df8f4d542374",
   "metadata": {},
   "outputs": [
    {
     "data": {
      "text/plain": [
       "{'agajJ': {1, 2, 239}}"
      ]
     },
     "execution_count": 47,
     "metadata": {},
     "output_type": "execute_result"
    }
   ],
   "source": [
    "d15"
   ]
  },
  {
   "cell_type": "code",
   "execution_count": 51,
   "id": "c2bd2ded-6540-4f4f-8c51-c651e5d6fab2",
   "metadata": {},
   "outputs": [],
   "source": [
    "#dictionary as value\n",
    "d16={\"key\":{\"name\":\"gani\",\"number\":18}}"
   ]
  },
  {
   "cell_type": "code",
   "execution_count": 52,
   "id": "b765b8af-2849-4b67-891f-0bdf39259583",
   "metadata": {},
   "outputs": [
    {
     "data": {
      "text/plain": [
       "{'key': {'name': 'gani', 'number': 18}}"
      ]
     },
     "execution_count": 52,
     "metadata": {},
     "output_type": "execute_result"
    }
   ],
   "source": [
    "d16"
   ]
  },
  {
   "cell_type": "code",
   "execution_count": 53,
   "id": "cb143d32-0ad4-46ea-9d4b-0eb9247a1893",
   "metadata": {},
   "outputs": [],
   "source": [
    "#list ,tuple,set as value in one dictionary\n",
    "d17={\"course_name\":[\"data_science\",\"web\",\"jds\"],\"start_date\":(28,\"Jan\",2023),\"mentors\":{\"krish\",\"sudh\"}}"
   ]
  },
  {
   "cell_type": "code",
   "execution_count": 54,
   "id": "001db00b-8a45-4ae5-bed5-aa773b62ad8f",
   "metadata": {},
   "outputs": [
    {
     "data": {
      "text/plain": [
       "{'course_name': ['data_science', 'web', 'jds'],\n",
       " 'start_date': (28, 'Jan', 2023),\n",
       " 'mentors': {'krish', 'sudh'}}"
      ]
     },
     "execution_count": 54,
     "metadata": {},
     "output_type": "execute_result"
    }
   ],
   "source": [
    "d17"
   ]
  },
  {
   "cell_type": "code",
   "execution_count": 58,
   "id": "b85297a9-391e-43f3-8deb-6da5a9399a35",
   "metadata": {},
   "outputs": [],
   "source": [
    "#new key and value adding in dictionary\n",
    "d17[\"timing\"]=(8,8,8)"
   ]
  },
  {
   "cell_type": "code",
   "execution_count": 59,
   "id": "f57e9e3d-12c2-4781-9daf-c1a043606655",
   "metadata": {},
   "outputs": [
    {
     "data": {
      "text/plain": [
       "{'course_name': ['data_science', 'web', 'jds'],\n",
       " 'start_date': (28, 'Jan', 2023),\n",
       " 'mentors': {'krish', 'sudh'},\n",
       " 'timing': (8, 8, 8)}"
      ]
     },
     "execution_count": 59,
     "metadata": {},
     "output_type": "execute_result"
    }
   ],
   "source": [
    "d17"
   ]
  },
  {
   "cell_type": "code",
   "execution_count": 60,
   "id": "bed55b1e-4e25-4753-ac76-39eb0eaba57d",
   "metadata": {},
   "outputs": [
    {
     "data": {
      "text/plain": [
       "['data_science', 'web', 'jds']"
      ]
     },
     "execution_count": 60,
     "metadata": {},
     "output_type": "execute_result"
    }
   ],
   "source": [
    "d17[\"course_name\"]"
   ]
  },
  {
   "cell_type": "code",
   "execution_count": 61,
   "id": "e9f6dd97-6980-4599-987f-7d8d86cac421",
   "metadata": {},
   "outputs": [
    {
     "data": {
      "text/plain": [
       "(28, 'Jan', 2023)"
      ]
     },
     "execution_count": 61,
     "metadata": {},
     "output_type": "execute_result"
    }
   ],
   "source": [
    "d17[\"start_date\"]"
   ]
  },
  {
   "cell_type": "code",
   "execution_count": 62,
   "id": "55b02d8c-f6ba-4c37-8dac-a32f6ba4feef",
   "metadata": {},
   "outputs": [],
   "source": [
    "d17[\"name\"]=\"Ganesh\""
   ]
  },
  {
   "cell_type": "code",
   "execution_count": 63,
   "id": "4294b7a8-650d-46e1-9d0d-3310320eed01",
   "metadata": {},
   "outputs": [
    {
     "data": {
      "text/plain": [
       "{'course_name': ['data_science', 'web', 'jds'],\n",
       " 'start_date': (28, 'Jan', 2023),\n",
       " 'mentors': {'krish', 'sudh'},\n",
       " 'timing': (8, 8, 8),\n",
       " 'name': 'Ganesh'}"
      ]
     },
     "execution_count": 63,
     "metadata": {},
     "output_type": "execute_result"
    }
   ],
   "source": [
    "d17"
   ]
  },
  {
   "cell_type": "code",
   "execution_count": 64,
   "id": "25950de3-9677-40bc-8aff-d6a5cc532a59",
   "metadata": {},
   "outputs": [
    {
     "data": {
      "text/plain": [
       "'Ganesh'"
      ]
     },
     "execution_count": 64,
     "metadata": {},
     "output_type": "execute_result"
    }
   ],
   "source": [
    "d17[\"name\"]"
   ]
  },
  {
   "cell_type": "code",
   "execution_count": 66,
   "id": "9a4ff4a4-573f-4a23-a493-7d50a3afbbeb",
   "metadata": {},
   "outputs": [
    {
     "data": {
      "text/plain": [
       "'GANESH'"
      ]
     },
     "execution_count": 66,
     "metadata": {},
     "output_type": "execute_result"
    }
   ],
   "source": [
    "d17[\"name\"].upper()"
   ]
  },
  {
   "cell_type": "code",
   "execution_count": 67,
   "id": "5195879f-95d1-4512-8daf-9ada819f0676",
   "metadata": {},
   "outputs": [
    {
     "data": {
      "text/plain": [
       "{'key': {'name': 'gani', 'number': 18}}"
      ]
     },
     "execution_count": 67,
     "metadata": {},
     "output_type": "execute_result"
    }
   ],
   "source": [
    "d16"
   ]
  },
  {
   "cell_type": "code",
   "execution_count": 69,
   "id": "5297a614-22c4-4cb8-9b5f-b2e0272c166c",
   "metadata": {},
   "outputs": [
    {
     "data": {
      "text/plain": [
       "set"
      ]
     },
     "execution_count": 69,
     "metadata": {},
     "output_type": "execute_result"
    }
   ],
   "source": [
    "type(d17[\"mentors\"])"
   ]
  },
  {
   "cell_type": "code",
   "execution_count": 70,
   "id": "4d27e568-628a-4162-b416-6d51a302b860",
   "metadata": {},
   "outputs": [
    {
     "data": {
      "text/plain": [
       "{'key': {'name': 'gani', 'number': 18}}"
      ]
     },
     "execution_count": 70,
     "metadata": {},
     "output_type": "execute_result"
    }
   ],
   "source": [
    "d16"
   ]
  },
  {
   "cell_type": "code",
   "execution_count": 71,
   "id": "40470053-1218-4138-9044-2551694758b0",
   "metadata": {},
   "outputs": [
    {
     "data": {
      "text/plain": [
       "{'name': 'gani', 'number': 18}"
      ]
     },
     "execution_count": 71,
     "metadata": {},
     "output_type": "execute_result"
    }
   ],
   "source": [
    "d16['key']"
   ]
  },
  {
   "cell_type": "code",
   "execution_count": 72,
   "id": "4460f783-6414-49c4-bcf8-9c603dc0244e",
   "metadata": {},
   "outputs": [
    {
     "data": {
      "text/plain": [
       "dict"
      ]
     },
     "execution_count": 72,
     "metadata": {},
     "output_type": "execute_result"
    }
   ],
   "source": [
    "type(d16[\"key\"])"
   ]
  },
  {
   "cell_type": "code",
   "execution_count": 73,
   "id": "79e07bd3-0d14-4a0d-851e-709fe22f64d5",
   "metadata": {},
   "outputs": [
    {
     "data": {
      "text/plain": [
       "18"
      ]
     },
     "execution_count": 73,
     "metadata": {},
     "output_type": "execute_result"
    }
   ],
   "source": [
    "d16[\"key\"][\"number\"]"
   ]
  },
  {
   "cell_type": "code",
   "execution_count": 74,
   "id": "52d3138d-dc34-4938-8479-c977aa6036cf",
   "metadata": {},
   "outputs": [
    {
     "data": {
      "text/plain": [
       "'gani'"
      ]
     },
     "execution_count": 74,
     "metadata": {},
     "output_type": "execute_result"
    }
   ],
   "source": [
    "d16[\"key\"][\"name\"]"
   ]
  },
  {
   "cell_type": "code",
   "execution_count": 75,
   "id": "09886763-1784-4f1b-a3cd-ebf38feedb3a",
   "metadata": {},
   "outputs": [],
   "source": [
    "d16[\"class\"]=\"dsb\""
   ]
  },
  {
   "cell_type": "code",
   "execution_count": 76,
   "id": "ff46d866-c557-4b7d-b23a-c5c13a4a13d1",
   "metadata": {},
   "outputs": [
    {
     "data": {
      "text/plain": [
       "{'key': {'name': 'gani', 'number': 18}, 'class': 'dsb'}"
      ]
     },
     "execution_count": 76,
     "metadata": {},
     "output_type": "execute_result"
    }
   ],
   "source": [
    "d16"
   ]
  },
  {
   "cell_type": "code",
   "execution_count": 77,
   "id": "225e2d8d-9a57-469f-a4d7-31c5c0ebc1fb",
   "metadata": {},
   "outputs": [],
   "source": [
    "#dlt one key and value from dict\n",
    "del d16[\"class\"]"
   ]
  },
  {
   "cell_type": "code",
   "execution_count": 78,
   "id": "74bfbc46-7d00-41ae-8b0e-d530bcb2763d",
   "metadata": {},
   "outputs": [
    {
     "data": {
      "text/plain": [
       "{'key': {'name': 'gani', 'number': 18}}"
      ]
     },
     "execution_count": 78,
     "metadata": {},
     "output_type": "execute_result"
    }
   ],
   "source": [
    "d16"
   ]
  },
  {
   "cell_type": "code",
   "execution_count": 79,
   "id": "4e3a0065-5960-4c94-ba7a-c50d4091296c",
   "metadata": {},
   "outputs": [
    {
     "data": {
      "text/plain": [
       "1"
      ]
     },
     "execution_count": 79,
     "metadata": {},
     "output_type": "execute_result"
    }
   ],
   "source": [
    "len(d16)"
   ]
  },
  {
   "cell_type": "code",
   "execution_count": 80,
   "id": "aab0faa7-c020-4aab-9653-192382237953",
   "metadata": {},
   "outputs": [
    {
     "data": {
      "text/plain": [
       "{'course_name': ['data_science', 'web', 'jds'],\n",
       " 'start_date': (28, 'Jan', 2023),\n",
       " 'mentors': {'krish', 'sudh'},\n",
       " 'timing': (8, 8, 8),\n",
       " 'name': 'Ganesh'}"
      ]
     },
     "execution_count": 80,
     "metadata": {},
     "output_type": "execute_result"
    }
   ],
   "source": [
    "d17"
   ]
  },
  {
   "cell_type": "code",
   "execution_count": 81,
   "id": "4d24b83a-73f8-48d2-8af5-f2f511acb3d8",
   "metadata": {},
   "outputs": [
    {
     "data": {
      "text/plain": [
       "5"
      ]
     },
     "execution_count": 81,
     "metadata": {},
     "output_type": "execute_result"
    }
   ],
   "source": [
    "len(d17)"
   ]
  },
  {
   "cell_type": "code",
   "execution_count": 82,
   "id": "aa4fe784-9c69-487a-9d00-db7847b3b3c8",
   "metadata": {},
   "outputs": [
    {
     "data": {
      "text/plain": [
       "dict_values([['data_science', 'web', 'jds'], (28, 'Jan', 2023), {'krish', 'sudh'}, (8, 8, 8), 'Ganesh'])"
      ]
     },
     "execution_count": 82,
     "metadata": {},
     "output_type": "execute_result"
    }
   ],
   "source": [
    "d17.values()"
   ]
  },
  {
   "cell_type": "code",
   "execution_count": 84,
   "id": "59a00126-b779-48a2-b2c1-c8efdca66458",
   "metadata": {},
   "outputs": [
    {
     "data": {
      "text/plain": [
       "dict_keys(['course_name', 'start_date', 'mentors', 'timing', 'name'])"
      ]
     },
     "execution_count": 84,
     "metadata": {},
     "output_type": "execute_result"
    }
   ],
   "source": [
    "d17.keys()"
   ]
  },
  {
   "cell_type": "code",
   "execution_count": 85,
   "id": "74dca27c-3dec-4da1-a173-47a4fee61292",
   "metadata": {},
   "outputs": [
    {
     "data": {
      "text/plain": [
       "['key']"
      ]
     },
     "execution_count": 85,
     "metadata": {},
     "output_type": "execute_result"
    }
   ],
   "source": [
    "#if you want conver into list\n",
    "list(d16)"
   ]
  },
  {
   "cell_type": "code",
   "execution_count": 87,
   "id": "1898d403-02d0-4b16-a16b-fa148ad0efcd",
   "metadata": {},
   "outputs": [
    {
     "data": {
      "text/plain": [
       "['course_name', 'start_date', 'mentors', 'timing', 'name']"
      ]
     },
     "execution_count": 87,
     "metadata": {},
     "output_type": "execute_result"
    }
   ],
   "source": [
    "list(d17)"
   ]
  },
  {
   "cell_type": "code",
   "execution_count": 89,
   "id": "77b5ad92-3073-4d3e-8ca5-3531912bf97f",
   "metadata": {},
   "outputs": [
    {
     "data": {
      "text/plain": [
       "['course_name', 'start_date', 'mentors', 'timing', 'name']"
      ]
     },
     "execution_count": 89,
     "metadata": {},
     "output_type": "execute_result"
    }
   ],
   "source": [
    "list(d17.keys())"
   ]
  },
  {
   "cell_type": "code",
   "execution_count": 90,
   "id": "a5856099-d184-42ae-ae10-7c4a9c9d158e",
   "metadata": {},
   "outputs": [
    {
     "data": {
      "text/plain": [
       "dict_items([('course_name', ['data_science', 'web', 'jds']), ('start_date', (28, 'Jan', 2023)), ('mentors', {'krish', 'sudh'}), ('timing', (8, 8, 8)), ('name', 'Ganesh')])"
      ]
     },
     "execution_count": 90,
     "metadata": {},
     "output_type": "execute_result"
    }
   ],
   "source": [
    "d17.items()"
   ]
  },
  {
   "cell_type": "code",
   "execution_count": 91,
   "id": "2776120f-a6ab-43a1-ab31-d4af835cdb9e",
   "metadata": {},
   "outputs": [
    {
     "data": {
      "text/plain": [
       "[('course_name', ['data_science', 'web', 'jds']),\n",
       " ('start_date', (28, 'Jan', 2023)),\n",
       " ('mentors', {'krish', 'sudh'}),\n",
       " ('timing', (8, 8, 8)),\n",
       " ('name', 'Ganesh')]"
      ]
     },
     "execution_count": 91,
     "metadata": {},
     "output_type": "execute_result"
    }
   ],
   "source": [
    "list(d17.items())"
   ]
  },
  {
   "cell_type": "code",
   "execution_count": 3,
   "id": "0541f4a3-8df7-4541-851d-7da38f34b5da",
   "metadata": {},
   "outputs": [],
   "source": [
    "d18={\"ab\":123}"
   ]
  },
  {
   "cell_type": "code",
   "execution_count": 4,
   "id": "9dfb28e3-38af-4e68-b8ae-b9439316d608",
   "metadata": {},
   "outputs": [
    {
     "data": {
      "text/plain": [
       "{'ab': 123}"
      ]
     },
     "execution_count": 4,
     "metadata": {},
     "output_type": "execute_result"
    }
   ],
   "source": [
    "d18"
   ]
  },
  {
   "cell_type": "code",
   "execution_count": 8,
   "id": "10468551-08e7-47c3-9a83-5a818e411416",
   "metadata": {},
   "outputs": [
    {
     "data": {
      "text/plain": [
       "123"
      ]
     },
     "execution_count": 8,
     "metadata": {},
     "output_type": "execute_result"
    }
   ],
   "source": [
    "d18[\"ab\"]"
   ]
  },
  {
   "cell_type": "code",
   "execution_count": 7,
   "id": "072a3bb6-cdc6-4072-badd-8f1d12512956",
   "metadata": {},
   "outputs": [],
   "source": [
    "#list ,tuple,set as value in one dictionary\n",
    "d17={\"course_name\":[\"data_science\",\"web\",\"jds\"],\"start_date\":(28,\"Jan\",2023),\"mentors\":{\"krish\",\"sudh\"}}"
   ]
  },
  {
   "cell_type": "code",
   "execution_count": 9,
   "id": "9661bf2f-5f82-4815-8473-bf225e43e2f1",
   "metadata": {},
   "outputs": [
    {
     "data": {
      "text/plain": [
       "{'course_name': ['data_science', 'web', 'jds'],\n",
       " 'start_date': (28, 'Jan', 2023),\n",
       " 'mentors': {'krish', 'sudh'}}"
      ]
     },
     "execution_count": 9,
     "metadata": {},
     "output_type": "execute_result"
    }
   ],
   "source": [
    "d17"
   ]
  },
  {
   "cell_type": "code",
   "execution_count": 15,
   "id": "93e871f1-03c2-4ce4-bc34-c20bf0ea9648",
   "metadata": {},
   "outputs": [],
   "source": [
    "d17=d18.copy()"
   ]
  },
  {
   "cell_type": "code",
   "execution_count": 16,
   "id": "41838929-d299-4af7-83b4-4ce40a153c54",
   "metadata": {},
   "outputs": [
    {
     "data": {
      "text/plain": [
       "{'ab': 123}"
      ]
     },
     "execution_count": 16,
     "metadata": {},
     "output_type": "execute_result"
    }
   ],
   "source": [
    "d17"
   ]
  },
  {
   "cell_type": "code",
   "execution_count": 17,
   "id": "9bbb8b36-1120-4586-8473-774b3e37e563",
   "metadata": {},
   "outputs": [],
   "source": [
    "#list ,tuple,set as value in one dictionary\n",
    "d20={\"course_name\":[\"data_science\",\"web\",\"jds\"],\"start_date\":(28,\"Jan\",2023),\"mentors\":{\"krish\",\"sudh\"}}"
   ]
  },
  {
   "cell_type": "code",
   "execution_count": 19,
   "id": "a0348b8c-745b-4f6c-b304-01972b235d6b",
   "metadata": {},
   "outputs": [
    {
     "data": {
      "text/plain": [
       "{'course_name': ['data_science', 'web', 'jds'],\n",
       " 'start_date': (28, 'Jan', 2023),\n",
       " 'mentors': {'krish', 'sudh'}}"
      ]
     },
     "execution_count": 19,
     "metadata": {},
     "output_type": "execute_result"
    }
   ],
   "source": [
    "d20"
   ]
  },
  {
   "cell_type": "code",
   "execution_count": 21,
   "id": "2a522482-35d7-4a03-8c37-010edc691843",
   "metadata": {},
   "outputs": [
    {
     "data": {
      "text/plain": [
       "{'krish', 'sudh'}"
      ]
     },
     "execution_count": 21,
     "metadata": {},
     "output_type": "execute_result"
    }
   ],
   "source": [
    "d20.pop(\"mentors\")"
   ]
  },
  {
   "cell_type": "code",
   "execution_count": 24,
   "id": "9615407d-a75f-42a9-9bfa-b1ff39e9e0be",
   "metadata": {},
   "outputs": [
    {
     "data": {
      "text/plain": [
       "{'course_name': ['data_science', 'web', 'jds'],\n",
       " 'start_date': (28, 'Jan', 2023)}"
      ]
     },
     "execution_count": 24,
     "metadata": {},
     "output_type": "execute_result"
    }
   ],
   "source": [
    "d20"
   ]
  },
  {
   "cell_type": "code",
   "execution_count": 25,
   "id": "8b2d3477-ce0a-488c-9181-b10fb688b7da",
   "metadata": {},
   "outputs": [
    {
     "data": {
      "text/plain": [
       "{1: ('a', 'b', 'c'), 2: ('a', 'b', 'c'), 3: ('a', 'b', 'c')}"
      ]
     },
     "execution_count": 25,
     "metadata": {},
     "output_type": "execute_result"
    }
   ],
   "source": [
    "d20.fromkeys((1,2,3),('a','b','c'))"
   ]
  },
  {
   "cell_type": "code",
   "execution_count": 26,
   "id": "8f820007-77b0-449d-9f77-a2322dafc856",
   "metadata": {},
   "outputs": [
    {
     "data": {
      "text/plain": [
       "{'course_name': ['data_science', 'web', 'jds'],\n",
       " 'start_date': (28, 'Jan', 2023)}"
      ]
     },
     "execution_count": 26,
     "metadata": {},
     "output_type": "execute_result"
    }
   ],
   "source": [
    "d20"
   ]
  },
  {
   "cell_type": "code",
   "execution_count": 29,
   "id": "4aecef44-7461-441c-82e2-cd88271b549c",
   "metadata": {},
   "outputs": [],
   "source": [
    "d1={}"
   ]
  },
  {
   "cell_type": "markdown",
   "id": "a85962e2-5e96-4ca0-a09a-783b7b709216",
   "metadata": {},
   "source": [
    "Dictionary"
   ]
  },
  {
   "cell_type": "code",
   "execution_count": 30,
   "id": "e3425036-9bf1-4b25-a264-9d8d5d1608a4",
   "metadata": {},
   "outputs": [
    {
     "data": {
      "text/plain": [
       "{}"
      ]
     },
     "execution_count": 30,
     "metadata": {},
     "output_type": "execute_result"
    }
   ],
   "source": [
    "d1"
   ]
  },
  {
   "cell_type": "code",
   "execution_count": 31,
   "id": "207741ee-6c04-4973-9e50-12cf3bf9d665",
   "metadata": {},
   "outputs": [
    {
     "data": {
      "text/plain": [
       "dict"
      ]
     },
     "execution_count": 31,
     "metadata": {},
     "output_type": "execute_result"
    }
   ],
   "source": [
    "type(d1)"
   ]
  },
  {
   "cell_type": "code",
   "execution_count": 31,
   "id": "c8c22ede-ecd6-45b5-bd99-c4082826644f",
   "metadata": {},
   "outputs": [
    {
     "data": {
      "text/plain": [
       "dict"
      ]
     },
     "execution_count": 31,
     "metadata": {},
     "output_type": "execute_result"
    }
   ],
   "source": [
    "d1"
   ]
  },
  {
   "cell_type": "code",
   "execution_count": 32,
   "id": "225be5bb-2765-42e8-bc75-c96affefac75",
   "metadata": {},
   "outputs": [],
   "source": [
    "d19={\"key1\":\"value1\",\"key2\":\"value2\"}"
   ]
  },
  {
   "cell_type": "code",
   "execution_count": 33,
   "id": "ead2107c-02be-46ba-a05a-b42cc22024d5",
   "metadata": {},
   "outputs": [],
   "source": [
    "d20={\"key3\":\"value3\",\"key4\":\"value4\"}"
   ]
  },
  {
   "cell_type": "code",
   "execution_count": 34,
   "id": "6964698e-dbe0-4259-af3d-e1f8c05df635",
   "metadata": {},
   "outputs": [
    {
     "data": {
      "text/plain": [
       "({'key1': 'value1', 'key2': 'value2'}, {'key3': 'value3', 'key4': 'value4'})"
      ]
     },
     "execution_count": 34,
     "metadata": {},
     "output_type": "execute_result"
    }
   ],
   "source": [
    "(d19,d20)"
   ]
  },
  {
   "cell_type": "code",
   "execution_count": 35,
   "id": "743389e5-d41d-4a89-8627-8020ccf37081",
   "metadata": {},
   "outputs": [],
   "source": [
    "d19.update(d20)"
   ]
  },
  {
   "cell_type": "code",
   "execution_count": 36,
   "id": "5ce02fd7-c7ee-481d-96e9-a7db3062b7ce",
   "metadata": {},
   "outputs": [
    {
     "data": {
      "text/plain": [
       "{'key1': 'value1', 'key2': 'value2', 'key3': 'value3', 'key4': 'value4'}"
      ]
     },
     "execution_count": 36,
     "metadata": {},
     "output_type": "execute_result"
    }
   ],
   "source": [
    "d19"
   ]
  },
  {
   "cell_type": "code",
   "execution_count": 37,
   "id": "f05720f3-17c1-48f1-b3ce-a8c9e44828a8",
   "metadata": {},
   "outputs": [
    {
     "data": {
      "text/plain": [
       "{'key3': 'value3', 'key4': 'value4'}"
      ]
     },
     "execution_count": 37,
     "metadata": {},
     "output_type": "execute_result"
    }
   ],
   "source": [
    "d20"
   ]
  },
  {
   "cell_type": "code",
   "execution_count": 38,
   "id": "e248ada3-cdd2-4a08-be5f-dae61d7148c0",
   "metadata": {},
   "outputs": [],
   "source": [
    "d20.update(d19)"
   ]
  },
  {
   "cell_type": "code",
   "execution_count": 40,
   "id": "1e35963f-1345-4fe7-8665-bd874c5d09cf",
   "metadata": {},
   "outputs": [
    {
     "data": {
      "text/plain": [
       "{'key3': 'value3', 'key4': 'value4', 'key1': 'value1', 'key2': 'value2'}"
      ]
     },
     "execution_count": 40,
     "metadata": {},
     "output_type": "execute_result"
    }
   ],
   "source": [
    "d20"
   ]
  },
  {
   "cell_type": "code",
   "execution_count": 41,
   "id": "e615d9ea-ee89-48e9-b6a6-bda4f0f442e9",
   "metadata": {},
   "outputs": [],
   "source": [
    "d20.get(\"sudh\")"
   ]
  },
  {
   "cell_type": "code",
   "execution_count": 42,
   "id": "400be3ae-1a82-49e5-9132-70fccad6beca",
   "metadata": {},
   "outputs": [
    {
     "data": {
      "text/plain": [
       "{'key3': 'value3', 'key4': 'value4', 'key1': 'value1', 'key2': 'value2'}"
      ]
     },
     "execution_count": 42,
     "metadata": {},
     "output_type": "execute_result"
    }
   ],
   "source": [
    "d20"
   ]
  },
  {
   "cell_type": "code",
   "execution_count": 43,
   "id": "5d53afaa-4838-41ab-905a-01c07c0d0696",
   "metadata": {},
   "outputs": [
    {
     "data": {
      "text/plain": [
       "'value3'"
      ]
     },
     "execution_count": 43,
     "metadata": {},
     "output_type": "execute_result"
    }
   ],
   "source": [
    "d20.get(\"key3\")"
   ]
  },
  {
   "cell_type": "code",
   "execution_count": 44,
   "id": "9d010506-2065-4ee4-9a72-8a873ebc5ee7",
   "metadata": {},
   "outputs": [
    {
     "data": {
      "text/plain": [
       "'value3'"
      ]
     },
     "execution_count": 44,
     "metadata": {},
     "output_type": "execute_result"
    }
   ],
   "source": [
    "d20[\"key3\"]"
   ]
  },
  {
   "cell_type": "markdown",
   "id": "2d1c6750-de2d-4c19-88c4-bfcd7aef6c7a",
   "metadata": {},
   "source": [
    "Dictionary Camprehensions"
   ]
  },
  {
   "cell_type": "code",
   "execution_count": 45,
   "id": "759b2366-ede3-4008-9753-6df9c0bf2cc4",
   "metadata": {},
   "outputs": [
    {
     "data": {
      "text/plain": [
       "range(1, 11)"
      ]
     },
     "execution_count": 45,
     "metadata": {},
     "output_type": "execute_result"
    }
   ],
   "source": [
    "range(1,11)"
   ]
  },
  {
   "cell_type": "code",
   "execution_count": 47,
   "id": "8b46c45e-8830-4154-bedd-08250cd4cde8",
   "metadata": {},
   "outputs": [
    {
     "data": {
      "text/plain": [
       "[1, 2, 3, 4, 5, 6, 7, 8, 9, 10]"
      ]
     },
     "execution_count": 47,
     "metadata": {},
     "output_type": "execute_result"
    }
   ],
   "source": [
    "list(range(1,11))"
   ]
  },
  {
   "cell_type": "code",
   "execution_count": 50,
   "id": "689d50c7-4f7a-4589-b188-9c9a1a1c44ea",
   "metadata": {},
   "outputs": [
    {
     "data": {
      "text/plain": [
       "{1: 1, 2: 4, 3: 9, 4: 16, 5: 25, 6: 36, 7: 49, 8: 64, 9: 81, 10: 100}"
      ]
     },
     "execution_count": 50,
     "metadata": {},
     "output_type": "execute_result"
    }
   ],
   "source": [
    "{i : i**2 for i in range(1,11)}\n",
    "#key : key*2"
   ]
  },
  {
   "cell_type": "code",
   "execution_count": 51,
   "id": "63243977-24e6-46aa-b839-0e93e81f6249",
   "metadata": {},
   "outputs": [
    {
     "data": {
      "text/plain": [
       "{1: 11, 2: 12, 3: 13, 4: 14, 5: 15, 6: 16, 7: 17, 8: 18, 9: 19, 10: 20}"
      ]
     },
     "execution_count": 51,
     "metadata": {},
     "output_type": "execute_result"
    }
   ],
   "source": [
    "{i: i+10 for i in range(1,11)}"
   ]
  },
  {
   "cell_type": "code",
   "execution_count": 56,
   "id": "34c4654b-ff4f-4d2a-b99b-ddb4d001adc7",
   "metadata": {},
   "outputs": [],
   "source": [
    "import math\n",
    "d21={i : math.log10(i) for i in range(1,11)}"
   ]
  },
  {
   "cell_type": "code",
   "execution_count": 57,
   "id": "63fa2a33-c1b2-4431-b269-3542cd0a80ad",
   "metadata": {},
   "outputs": [
    {
     "data": {
      "text/plain": [
       "{1: 0.0,\n",
       " 2: 0.3010299956639812,\n",
       " 3: 0.47712125471966244,\n",
       " 4: 0.6020599913279624,\n",
       " 5: 0.6989700043360189,\n",
       " 6: 0.7781512503836436,\n",
       " 7: 0.8450980400142568,\n",
       " 8: 0.9030899869919435,\n",
       " 9: 0.9542425094393249,\n",
       " 10: 1.0}"
      ]
     },
     "execution_count": 57,
     "metadata": {},
     "output_type": "execute_result"
    }
   ],
   "source": [
    "d21"
   ]
  },
  {
   "cell_type": "code",
   "execution_count": 54,
   "id": "f505b00e-f419-4327-ab94-b6af8779245a",
   "metadata": {},
   "outputs": [
    {
     "data": {
      "text/plain": [
       "{'key3': 'value3', 'key4': 'value4', 'key1': 'value1', 'key2': 'value2'}"
      ]
     },
     "execution_count": 54,
     "metadata": {},
     "output_type": "execute_result"
    }
   ],
   "source": [
    "d20"
   ]
  },
  {
   "cell_type": "code",
   "execution_count": 55,
   "id": "678358eb-dd02-494f-9539-96e78b3dc978",
   "metadata": {},
   "outputs": [
    {
     "data": {
      "text/plain": [
       "True"
      ]
     },
     "execution_count": 55,
     "metadata": {},
     "output_type": "execute_result"
    }
   ],
   "source": [
    "\"key3\" in d20"
   ]
  },
  {
   "cell_type": "code",
   "execution_count": 58,
   "id": "8a00dad6-6ca6-41a3-a582-d2b7bd02f15a",
   "metadata": {},
   "outputs": [
    {
     "data": {
      "text/plain": [
       "{1: 0.0,\n",
       " 2: 0.3010299956639812,\n",
       " 3: 0.47712125471966244,\n",
       " 4: 0.6020599913279624,\n",
       " 5: 0.6989700043360189,\n",
       " 6: 0.7781512503836436,\n",
       " 7: 0.8450980400142568,\n",
       " 8: 0.9030899869919435,\n",
       " 9: 0.9542425094393249,\n",
       " 10: 1.0}"
      ]
     },
     "execution_count": 58,
     "metadata": {},
     "output_type": "execute_result"
    }
   ],
   "source": [
    "d21"
   ]
  },
  {
   "cell_type": "code",
   "execution_count": 59,
   "id": "f844b20d-d8cf-4a64-bfbe-1e9ca140a738",
   "metadata": {},
   "outputs": [
    {
     "data": {
      "text/plain": [
       "dict_keys([1, 2, 3, 4, 5, 6, 7, 8, 9, 10])"
      ]
     },
     "execution_count": 59,
     "metadata": {},
     "output_type": "execute_result"
    }
   ],
   "source": [
    "d21.keys()"
   ]
  },
  {
   "cell_type": "code",
   "execution_count": 65,
   "id": "061c334b-939f-423f-b161-f6753d13e42b",
   "metadata": {},
   "outputs": [
    {
     "name": "stdout",
     "output_type": "stream",
     "text": [
      "0.3010299956639812\n",
      "0.6020599913279624\n",
      "0.7781512503836436\n",
      "0.9030899869919435\n",
      "1.0\n"
     ]
    }
   ],
   "source": [
    "#keys are even\n",
    "for i in d21.keys():\n",
    "    if i % 2==0:\n",
    "        print(d21[i])"
   ]
  },
  {
   "cell_type": "code",
   "execution_count": 66,
   "id": "5798e962-1bbd-41a0-b4f5-b939339dfd70",
   "metadata": {},
   "outputs": [
    {
     "name": "stdout",
     "output_type": "stream",
     "text": [
      "400\n",
      "(200, 300, 400)\n"
     ]
    }
   ],
   "source": [
    "atuple = (100, 200, 300, 400, 500)\n",
    "\n",
    "print(atuple[-2])\n",
    "\n",
    "print(atuple[-4:-1])"
   ]
  },
  {
   "cell_type": "code",
   "execution_count": 67,
   "id": "24dc62ff-b525-41e1-8d57-7d14b11048df",
   "metadata": {},
   "outputs": [
    {
     "name": "stdout",
     "output_type": "stream",
     "text": [
      "None\n"
     ]
    }
   ],
   "source": [
    "dict1 = {\"name\": \"Mike\", \"salary\": 8000}\n",
    "\n",
    "temp = dict1.get(\"age\")\n",
    "\n",
    "print(temp)"
   ]
  },
  {
   "cell_type": "code",
   "execution_count": 68,
   "id": "b1e2edcc-d3ed-4923-b075-549874a36d20",
   "metadata": {},
   "outputs": [
    {
     "name": "stdout",
     "output_type": "stream",
     "text": [
      "True\n"
     ]
    }
   ],
   "source": [
    "dict1 = {\"key1\":1, \"key2\":2}\n",
    "\n",
    "dict2 = {\"key2\":2, \"key1\":1}\n",
    "\n",
    "print(dict1 == dict2)"
   ]
  },
  {
   "cell_type": "code",
   "execution_count": null,
   "id": "f159e848-a08f-452c-9c0d-6b7a068ff264",
   "metadata": {},
   "outputs": [],
   "source": []
  }
 ],
 "metadata": {
  "kernelspec": {
   "display_name": "Python 3 (ipykernel)",
   "language": "python",
   "name": "python3"
  },
  "language_info": {
   "codemirror_mode": {
    "name": "ipython",
    "version": 3
   },
   "file_extension": ".py",
   "mimetype": "text/x-python",
   "name": "python",
   "nbconvert_exporter": "python",
   "pygments_lexer": "ipython3",
   "version": "3.10.8"
  }
 },
 "nbformat": 4,
 "nbformat_minor": 5
}
