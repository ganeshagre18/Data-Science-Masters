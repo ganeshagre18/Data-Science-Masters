{
 "cells": [
  {
   "cell_type": "markdown",
   "id": "759986dc-c5f1-461d-8604-83b4ec3df655",
   "metadata": {},
   "source": [
    "DECORATOR"
   ]
  },
  {
   "cell_type": "code",
   "execution_count": 9,
   "id": "848ea8db-792a-4c11-9297-b7180ad3a856",
   "metadata": {},
   "outputs": [],
   "source": [
    "def test():\n",
    "    print(\"start function\")\n",
    "    print(4*5)\n",
    "    print(\"end function\")"
   ]
  },
  {
   "cell_type": "code",
   "execution_count": 10,
   "id": "7220b9fb-86ae-4993-9e8d-ca9cedb31732",
   "metadata": {},
   "outputs": [
    {
     "name": "stdout",
     "output_type": "stream",
     "text": [
      "start function\n",
      "20\n",
      "end function\n"
     ]
    }
   ],
   "source": [
    "test()"
   ]
  },
  {
   "cell_type": "code",
   "execution_count": 11,
   "id": "742defb8-745a-4b34-af02-532b161ef55f",
   "metadata": {},
   "outputs": [],
   "source": [
    "def deco(func):\n",
    "    def inner_deco():\n",
    "        print(\"start function\")\n",
    "        func()\n",
    "        print(\"end function\")\n",
    "    return inner_deco\n",
    "        "
   ]
  },
  {
   "cell_type": "code",
   "execution_count": 12,
   "id": "b7e994f7-c977-4ea7-8b3a-90a9cabbe1d7",
   "metadata": {},
   "outputs": [],
   "source": [
    "@deco\n",
    "def test1():\n",
    "    print(4*5)"
   ]
  },
  {
   "cell_type": "code",
   "execution_count": 13,
   "id": "9d095bcb-d5c9-4e5f-81a5-2d4d586ad5c4",
   "metadata": {},
   "outputs": [
    {
     "name": "stdout",
     "output_type": "stream",
     "text": [
      "start function\n",
      "20\n",
      "end function\n"
     ]
    }
   ],
   "source": [
    "test1()"
   ]
  },
  {
   "cell_type": "code",
   "execution_count": 14,
   "id": "7ef9af1b-e02c-46d9-966e-f4a2d6d2165d",
   "metadata": {},
   "outputs": [],
   "source": [
    "import time\n",
    "def timer_test(func):\n",
    "    def inner_timer():\n",
    "        start=time.time()\n",
    "        func()\n",
    "        end=time.time()\n",
    "        print(end-start)\n",
    "    return inner_timer"
   ]
  },
  {
   "cell_type": "code",
   "execution_count": 15,
   "id": "6c28215e-c3d6-4035-9671-bb5cb7f4b1d7",
   "metadata": {},
   "outputs": [],
   "source": [
    "@timer_test\n",
    "def test2():\n",
    "    print(39+18)"
   ]
  },
  {
   "cell_type": "code",
   "execution_count": 16,
   "id": "6a0a23c7-c520-474d-b0dc-343966f97788",
   "metadata": {},
   "outputs": [
    {
     "name": "stdout",
     "output_type": "stream",
     "text": [
      "57\n",
      "5.054473876953125e-05\n"
     ]
    }
   ],
   "source": [
    "test2()"
   ]
  },
  {
   "cell_type": "code",
   "execution_count": null,
   "id": "9b940051-d4ae-4e31-bda8-7dbefc49ab94",
   "metadata": {},
   "outputs": [],
   "source": [
    "@timer_test\n",
    "def test3():\n",
    "    for i in range(10):\n",
    "        pass"
   ]
  },
  {
   "cell_type": "code",
   "execution_count": null,
   "id": "4f3b0bd4-892f-4821-bc76-8428fd00097d",
   "metadata": {},
   "outputs": [],
   "source": [
    "test3()"
   ]
  },
  {
   "cell_type": "code",
   "execution_count": null,
   "id": "fd2ce3a1-5d94-489a-bb94-ecf6eadfb16c",
   "metadata": {},
   "outputs": [],
   "source": []
  },
  {
   "cell_type": "markdown",
   "id": "e7e155b0-3737-4ed1-8d24-97b9eba2ec8f",
   "metadata": {},
   "source": [
    "Class Methods"
   ]
  },
  {
   "cell_type": "code",
   "execution_count": 1,
   "id": "03db3cb8-5ff7-48bf-a0ef-58deb6828172",
   "metadata": {},
   "outputs": [],
   "source": [
    "class pwskills:\n",
    "    def __init__(self,name,email):\n",
    "        self.name=name\n",
    "        self.email=email\n",
    "    \n",
    "    def student_details(self):\n",
    "        print(self.name,self.email)\n",
    "    "
   ]
  },
  {
   "cell_type": "code",
   "execution_count": 2,
   "id": "7deb002d-b410-4ee4-bd3b-ca01627e0a5b",
   "metadata": {},
   "outputs": [],
   "source": [
    "pw =pwskills(\"ganesh\",\"gan@gmail.com\")"
   ]
  },
  {
   "cell_type": "code",
   "execution_count": 3,
   "id": "dd4f1730-240d-4542-913f-51b45089a642",
   "metadata": {},
   "outputs": [
    {
     "data": {
      "text/plain": [
       "'ganesh'"
      ]
     },
     "execution_count": 3,
     "metadata": {},
     "output_type": "execute_result"
    }
   ],
   "source": [
    "pw.name"
   ]
  },
  {
   "cell_type": "code",
   "execution_count": 4,
   "id": "d73e093b-2093-4340-bf9e-1e71b4385986",
   "metadata": {},
   "outputs": [
    {
     "data": {
      "text/plain": [
       "'gan@gmail.com'"
      ]
     },
     "execution_count": 4,
     "metadata": {},
     "output_type": "execute_result"
    }
   ],
   "source": [
    "pw.email"
   ]
  },
  {
   "cell_type": "code",
   "execution_count": 5,
   "id": "f42eaf48-1d34-4d17-aa78-0a185b1b858e",
   "metadata": {},
   "outputs": [
    {
     "name": "stdout",
     "output_type": "stream",
     "text": [
      "ganesh gan@gmail.com\n"
     ]
    }
   ],
   "source": [
    "pw.student_details()"
   ]
  },
  {
   "cell_type": "code",
   "execution_count": 6,
   "id": "087cac5a-63fe-492e-ba7e-47e757a5bdba",
   "metadata": {},
   "outputs": [],
   "source": [
    "class pwskills:\n",
    "     \n",
    "    def __init__(self,name,email):\n",
    "        self.name=name\n",
    "        self.email=email\n",
    "    \n",
    "    @classmethod\n",
    "    def details(cls,name,email):\n",
    "        return cls(name,email)\n",
    "    \n",
    "    def student_details(self):\n",
    "        print(self.name,self.email)\n",
    "    "
   ]
  },
  {
   "cell_type": "code",
   "execution_count": 8,
   "id": "faffd818-5788-49a1-87b7-0b8d007662af",
   "metadata": {},
   "outputs": [],
   "source": [
    "pw1=pwskills.details(\"mohan\",\"mohan@gmail.com\")"
   ]
  },
  {
   "cell_type": "code",
   "execution_count": 9,
   "id": "9b85a4bc-6f54-40b2-afd0-661d95974cf2",
   "metadata": {},
   "outputs": [
    {
     "data": {
      "text/plain": [
       "'ganesh'"
      ]
     },
     "execution_count": 9,
     "metadata": {},
     "output_type": "execute_result"
    }
   ],
   "source": [
    "pw.name"
   ]
  },
  {
   "cell_type": "code",
   "execution_count": 13,
   "id": "57bca544-993b-4efa-af94-9a68ac7fa279",
   "metadata": {},
   "outputs": [
    {
     "data": {
      "text/plain": [
       "'gan@gmail.com'"
      ]
     },
     "execution_count": 13,
     "metadata": {},
     "output_type": "execute_result"
    }
   ],
   "source": [
    "pw.email"
   ]
  },
  {
   "cell_type": "code",
   "execution_count": 27,
   "id": "20d16e52-34ef-461e-86e5-8dd98ee23ab4",
   "metadata": {},
   "outputs": [],
   "source": [
    "class pwskills:\n",
    "     \n",
    "    mobile = 9018276747\n",
    "        \n",
    "    def __init__(self,name,email):\n",
    "        self.name=name\n",
    "        self.email=email\n",
    "    \n",
    "    @classmethod\n",
    "    def details(cls,name,email):\n",
    "        return cls(name,email)\n",
    "    \n",
    "    def student_details(self):\n",
    "        print(self.name,self.email, pwskills.mobile)\n",
    "    "
   ]
  },
  {
   "cell_type": "code",
   "execution_count": 28,
   "id": "5289dace-db08-48a9-8cfb-eb8745ea0688",
   "metadata": {},
   "outputs": [],
   "source": [
    "pw2=pwskills.details(\"sohan\",\"sohan@gmail.com\")"
   ]
  },
  {
   "cell_type": "code",
   "execution_count": 23,
   "id": "3fbbe490-13f7-43b2-b54b-3615527e293e",
   "metadata": {},
   "outputs": [
    {
     "name": "stdout",
     "output_type": "stream",
     "text": [
      "sohan sohan@gmail.com\n"
     ]
    }
   ],
   "source": [
    "pw2.student_details()"
   ]
  },
  {
   "cell_type": "code",
   "execution_count": 36,
   "id": "fff75cbf-81c6-4b4a-8370-70ed8fc5e064",
   "metadata": {},
   "outputs": [],
   "source": [
    "pw_obj=pwskills(\"hari\",\"hari@gmail.com\")"
   ]
  },
  {
   "cell_type": "code",
   "execution_count": 37,
   "id": "12631be9-d6b5-457a-b5a1-b28b5e335c0f",
   "metadata": {},
   "outputs": [
    {
     "name": "stdout",
     "output_type": "stream",
     "text": [
      "hari hari@gmail.com 9018276747\n"
     ]
    }
   ],
   "source": [
    "pw_obj.student_details()"
   ]
  },
  {
   "cell_type": "code",
   "execution_count": 33,
   "id": "5aedc360-47bf-4010-9675-989d3cf2112e",
   "metadata": {},
   "outputs": [],
   "source": [
    "class pwskills3:\n",
    "     \n",
    "    mobile = 9018276747\n",
    "        \n",
    "    def __init__(self,name,email):\n",
    "        self.name=name\n",
    "        self.email=email\n",
    "    \n",
    "    @classmethod\n",
    "    def details(cls,name,email):\n",
    "        return cls(name,email)\n",
    "    \n",
    "    def student_details(self):\n",
    "        print(self.name,self.email, pwskills.mobile)\n",
    "    "
   ]
  },
  {
   "cell_type": "code",
   "execution_count": 34,
   "id": "13e57605-b2b7-484a-99fc-9d5694456f52",
   "metadata": {},
   "outputs": [],
   "source": [
    "pw3=pwskills3.details(\"sohan\",\"sohan@gmail.com\")"
   ]
  },
  {
   "cell_type": "code",
   "execution_count": 35,
   "id": "c6fe67eb-0095-4d78-a6a1-bcedf919d3d7",
   "metadata": {},
   "outputs": [
    {
     "data": {
      "text/plain": [
       "9018276747"
      ]
     },
     "execution_count": 35,
     "metadata": {},
     "output_type": "execute_result"
    }
   ],
   "source": [
    "pwskills3.mobile"
   ]
  },
  {
   "cell_type": "code",
   "execution_count": 55,
   "id": "b986614c-042e-4d5f-96bf-526409107afb",
   "metadata": {},
   "outputs": [],
   "source": [
    "class pwskills5:\n",
    "     \n",
    "    mobile = 9018276747\n",
    "        \n",
    "    def __init__(self,name,email):\n",
    "        self.name=name\n",
    "        self.email=email\n",
    "    \n",
    "    def change_number(cls,mobile):\n",
    "        pwskills5.mobile=mobile\n",
    "    \n",
    "    @classmethod\n",
    "    def details(cls,name,email):\n",
    "        return cls(name,email)\n",
    "    \n",
    "    def student_details(self):\n",
    "        print(self.name,self.email, pwskills.mobile)\n",
    "    "
   ]
  },
  {
   "cell_type": "code",
   "execution_count": 56,
   "id": "90e06dba-4ff0-4a00-a319-a635608ee023",
   "metadata": {},
   "outputs": [
    {
     "data": {
      "text/plain": [
       "9018276747"
      ]
     },
     "execution_count": 56,
     "metadata": {},
     "output_type": "execute_result"
    }
   ],
   "source": [
    "pwskills5.mobile"
   ]
  },
  {
   "cell_type": "code",
   "execution_count": 57,
   "id": "d0573885-5861-42ba-be78-c697d5fc5462",
   "metadata": {},
   "outputs": [],
   "source": [
    "pw_obj=pwskills5(\"sachin\",\"sach@gmail.com\")"
   ]
  },
  {
   "cell_type": "code",
   "execution_count": 58,
   "id": "774cff63-8e2a-4150-b56b-d5416b579b96",
   "metadata": {},
   "outputs": [
    {
     "data": {
      "text/plain": [
       "<__main__.pwskills5 at 0x7f78c1383760>"
      ]
     },
     "execution_count": 58,
     "metadata": {},
     "output_type": "execute_result"
    }
   ],
   "source": [
    "pw_obj.details(\"arun\",\"arun@gmail.com\")"
   ]
  },
  {
   "cell_type": "code",
   "execution_count": 59,
   "id": "ae1c6b97-a0f7-4d86-83f7-b7489166a09e",
   "metadata": {},
   "outputs": [
    {
     "data": {
      "text/plain": [
       "'sachin'"
      ]
     },
     "execution_count": 59,
     "metadata": {},
     "output_type": "execute_result"
    }
   ],
   "source": [
    "pw_obj.name"
   ]
  },
  {
   "cell_type": "code",
   "execution_count": 60,
   "id": "a6d89ce1-6aab-40ea-84f9-bf3b57d663ca",
   "metadata": {},
   "outputs": [
    {
     "data": {
      "text/plain": [
       "9018276747"
      ]
     },
     "execution_count": 60,
     "metadata": {},
     "output_type": "execute_result"
    }
   ],
   "source": [
    "pw_obj.mobile"
   ]
  },
  {
   "cell_type": "code",
   "execution_count": 61,
   "id": "dfee8abc-c4d8-4b5d-9ddc-ba99d8d38604",
   "metadata": {},
   "outputs": [],
   "source": [
    "pw_obj.change_number(87273838)"
   ]
  },
  {
   "cell_type": "code",
   "execution_count": 62,
   "id": "2918dbee-6dfb-4389-81bb-57f39696b29d",
   "metadata": {},
   "outputs": [
    {
     "data": {
      "text/plain": [
       "87273838"
      ]
     },
     "execution_count": 62,
     "metadata": {},
     "output_type": "execute_result"
    }
   ],
   "source": [
    "pw_obj.mobile"
   ]
  },
  {
   "cell_type": "code",
   "execution_count": 64,
   "id": "7b6339aa-f306-4530-8576-4098c2cf29b7",
   "metadata": {},
   "outputs": [],
   "source": [
    "class pwskills6:\n",
    "     \n",
    "    mobile = 9018276747\n",
    "        \n",
    "    def __init__(self,name,email):\n",
    "        self.name=name\n",
    "        self.email=email\n",
    "    \n",
    "    def change_number(cls,mobile):\n",
    "        pwskills5.mobile=mobile\n",
    "    \n",
    "    @classmethod\n",
    "    def details(cls,name,email):\n",
    "        return cls(name,email)\n",
    "    \n",
    "    def student_details(self):\n",
    "        print(self.name,self.email, pwskills.mobile)\n",
    "    "
   ]
  },
  {
   "cell_type": "code",
   "execution_count": 65,
   "id": "a79a8796-209b-42dd-a0ad-c04b83b64a95",
   "metadata": {},
   "outputs": [],
   "source": [
    "#external function\n",
    "def course_details(cls,course_name):\n",
    "    print(\"course_details\",course_name)"
   ]
  },
  {
   "cell_type": "code",
   "execution_count": 66,
   "id": "fb5ed326-18b4-4906-b2cd-1e5f8e26b6a8",
   "metadata": {},
   "outputs": [],
   "source": [
    "pwskills6.course_deatils=classmethod(course_details)"
   ]
  },
  {
   "cell_type": "code",
   "execution_count": 67,
   "id": "06ddd1b7-1f43-4b6b-8c98-cd19613aa9e4",
   "metadata": {},
   "outputs": [
    {
     "name": "stdout",
     "output_type": "stream",
     "text": [
      "course_details data science\n"
     ]
    }
   ],
   "source": [
    "pwskills6.course_deatils(\"data science\")"
   ]
  },
  {
   "cell_type": "code",
   "execution_count": 68,
   "id": "c6e87bca-294a-4f8c-9b6d-377043869710",
   "metadata": {},
   "outputs": [],
   "source": [
    "pw6=pwskills6(\"giri\",\"giri@gmail.com\")"
   ]
  },
  {
   "cell_type": "code",
   "execution_count": 71,
   "id": "9b9202f3-51e7-4066-b04b-386a4da58f13",
   "metadata": {},
   "outputs": [
    {
     "name": "stdout",
     "output_type": "stream",
     "text": [
      "course_details web dev\n"
     ]
    }
   ],
   "source": [
    "pw6.course_deatils(\"web dev\")"
   ]
  },
  {
   "cell_type": "code",
   "execution_count": 72,
   "id": "051ebbf1-c310-452f-ba73-0c5ef1b97eeb",
   "metadata": {},
   "outputs": [],
   "source": [
    "#delete method\n",
    "del pwskills6.change_number"
   ]
  },
  {
   "cell_type": "code",
   "execution_count": 73,
   "id": "5e94d987-1b7b-4d86-9bfd-b80eab7e4a18",
   "metadata": {},
   "outputs": [
    {
     "ename": "AttributeError",
     "evalue": "type object 'pwskills6' has no attribute 'change_number'",
     "output_type": "error",
     "traceback": [
      "\u001b[0;31m---------------------------------------------------------------------------\u001b[0m",
      "\u001b[0;31mAttributeError\u001b[0m                            Traceback (most recent call last)",
      "Cell \u001b[0;32mIn[73], line 1\u001b[0m\n\u001b[0;32m----> 1\u001b[0m \u001b[43mpwskills6\u001b[49m\u001b[38;5;241;43m.\u001b[39;49m\u001b[43mchange_number\u001b[49m(\u001b[38;5;241m152673\u001b[39m)\n",
      "\u001b[0;31mAttributeError\u001b[0m: type object 'pwskills6' has no attribute 'change_number'"
     ]
    }
   ],
   "source": [
    "pwskills6.change_number(152673)"
   ]
  },
  {
   "cell_type": "code",
   "execution_count": 75,
   "id": "50b66768-d81c-4d2b-a1a6-e980efacb5b1",
   "metadata": {},
   "outputs": [],
   "source": [
    "delattr(pwskills6,\"mobile\")"
   ]
  },
  {
   "cell_type": "code",
   "execution_count": 78,
   "id": "24e729d6-5edf-41a6-bfe8-238b0c418624",
   "metadata": {},
   "outputs": [
    {
     "ename": "AttributeError",
     "evalue": "type object 'pwskills6' has no attribute 'mobile'",
     "output_type": "error",
     "traceback": [
      "\u001b[0;31m---------------------------------------------------------------------------\u001b[0m",
      "\u001b[0;31mAttributeError\u001b[0m                            Traceback (most recent call last)",
      "Cell \u001b[0;32mIn[78], line 1\u001b[0m\n\u001b[0;32m----> 1\u001b[0m \u001b[43mpwskills6\u001b[49m\u001b[38;5;241;43m.\u001b[39;49m\u001b[43mmobile\u001b[49m\n",
      "\u001b[0;31mAttributeError\u001b[0m: type object 'pwskills6' has no attribute 'mobile'"
     ]
    }
   ],
   "source": [
    "pwskills6.mobile"
   ]
  },
  {
   "cell_type": "markdown",
   "id": "93f1250b-e1d9-4b94-a875-7806c4ff2493",
   "metadata": {},
   "source": [
    "STATIC METHODS"
   ]
  },
  {
   "cell_type": "code",
   "execution_count": 80,
   "id": "792c521a-666e-4a44-a22d-e60691721e47",
   "metadata": {},
   "outputs": [],
   "source": [
    "class pwskills7:\n",
    "    def student_details(self,name,email_id,number):\n",
    "        print(name,email_id,number)"
   ]
  },
  {
   "cell_type": "code",
   "execution_count": 81,
   "id": "e9342c54-5745-4a5f-9df8-d180897ddace",
   "metadata": {},
   "outputs": [],
   "source": [
    "pw7=pwskills7()"
   ]
  },
  {
   "cell_type": "code",
   "execution_count": 82,
   "id": "2a6acf7b-8061-4de5-8983-b0001d45fa5d",
   "metadata": {},
   "outputs": [
    {
     "name": "stdout",
     "output_type": "stream",
     "text": [
      "krish krish@gmail.com 0938004\n"
     ]
    }
   ],
   "source": [
    "pw7.student_details(\"krish\",\"krish@gmail.com\",\"0938004\")"
   ]
  },
  {
   "cell_type": "code",
   "execution_count": 83,
   "id": "528b08c6-5c96-4ef8-b484-561a633419d3",
   "metadata": {},
   "outputs": [],
   "source": [
    "class pwskills8:\n",
    "    def student_details(self,name,email_id,number):\n",
    "        print(name,email_id,number)\n",
    "    \n",
    "    @staticmethod\n",
    "    def mentor(list_mentor):\n",
    "        print(list_mentor)"
   ]
  },
  {
   "cell_type": "code",
   "execution_count": 84,
   "id": "7780ac4a-af39-41e1-9cea-847ec642e2a4",
   "metadata": {},
   "outputs": [
    {
     "name": "stdout",
     "output_type": "stream",
     "text": [
      "['sudh', 'krish']\n"
     ]
    }
   ],
   "source": [
    "pwskills8.mentor([\"sudh\",\"krish\"])"
   ]
  },
  {
   "cell_type": "code",
   "execution_count": 85,
   "id": "7e85ca08-3ee7-4c90-a4b3-5ad2909fde9a",
   "metadata": {},
   "outputs": [],
   "source": [
    "class pwskills8:\n",
    "    def student_details(self,name,email_id,number):\n",
    "        print(name,email_id,number)\n",
    "    \n",
    "    @staticmethod\n",
    "    def mentor(list_mentor):\n",
    "        print(list_mentor)\n",
    "        \n",
    "    def mentor_class(self,mentor_list):\n",
    "        print(mentor_list)"
   ]
  },
  {
   "cell_type": "code",
   "execution_count": 86,
   "id": "7e1d373e-c212-4b4f-8e98-60aa5d7c9fbe",
   "metadata": {},
   "outputs": [],
   "source": [
    "pw0=pwskills8()"
   ]
  },
  {
   "cell_type": "code",
   "execution_count": 87,
   "id": "f55a5bfd-8e21-4319-9291-8ee81c78ab94",
   "metadata": {},
   "outputs": [
    {
     "name": "stdout",
     "output_type": "stream",
     "text": [
      "['krish naik', 'sudh']\n"
     ]
    }
   ],
   "source": [
    "pw0.mentor_class([\"krish naik\",\"sudh\"])"
   ]
  },
  {
   "cell_type": "code",
   "execution_count": 88,
   "id": "135cf103-e0ca-4cf7-a6ae-ffe42d44c989",
   "metadata": {},
   "outputs": [
    {
     "name": "stdout",
     "output_type": "stream",
     "text": [
      "['krish', 'sudh']\n"
     ]
    }
   ],
   "source": [
    "pw0.mentor([\"krish\",\"sudh\"])"
   ]
  },
  {
   "cell_type": "code",
   "execution_count": 90,
   "id": "001d8d89-e11e-4410-bd39-a13b930d06ef",
   "metadata": {},
   "outputs": [],
   "source": [
    "#access of static method in instance method\n",
    "class pwskills9:\n",
    "    def student_details(self,name,email_id,number):\n",
    "        print(name,email_id,number)\n",
    "    \n",
    "    @staticmethod\n",
    "    def mentor(list_mentor):\n",
    "        print(list_mentor)\n",
    "        \n",
    "    def mentor_class(self,mentor_list):\n",
    "        print(mentor_list)\n",
    "        self.mentor_class([\"sudh\",\"krish\"])"
   ]
  },
  {
   "cell_type": "code",
   "execution_count": 94,
   "id": "1286ca67-ef33-49ee-b206-8e7685708ac4",
   "metadata": {},
   "outputs": [],
   "source": [
    "#access of static method in class method\n",
    "class pwskills10:\n",
    "    def student_details(self,name,email_id,number):\n",
    "        print(name,email_id,number)\n",
    "    \n",
    "    @staticmethod\n",
    "    def mentor(list_mentor):\n",
    "        print(list_mentor)\n",
    "        \n",
    "    @classmethod  \n",
    "    def class_name(cls,class_name):\n",
    "        cls.mentor([\"krish\",\"sudh\"])\n",
    "        \n",
    "    def mentor_class(self,mentor_list):\n",
    "        print(mentor_list)\n",
    "        self.mentor_class([\"sudh\",\"krish\"])"
   ]
  },
  {
   "cell_type": "code",
   "execution_count": 99,
   "id": "6d4ad675-0a78-4dd0-8687-dd549b71030e",
   "metadata": {},
   "outputs": [],
   "source": [
    "#access of static method in another static method\n",
    "class pwskills11:\n",
    "    def student_details(self,name,email_id,number):\n",
    "        print(name,email_id,number)\n",
    "    \n",
    "    @staticmethod\n",
    "    def mentor_mail_id(mail):\n",
    "        print(mail) \n",
    "        \n",
    "    @staticmethod\n",
    "    def mentor(list_mentor):\n",
    "        print(list_mentor)\n",
    "        pwskills11.mentor_mail_id([\"krish@gmail.com\",\"sudh@gmail.com\"])\n",
    "        \n",
    "    @classmethod  \n",
    "    def class_name(cls,class_name):\n",
    "        cls.mentor([\"krish\",\"sudh\"])\n",
    "        \n",
    "    def mentor_class(self,mentor_list):\n",
    "        print(mentor_list)\n",
    "        self.mentor_class([\"sudh\",\"krish\"])"
   ]
  },
  {
   "cell_type": "code",
   "execution_count": 100,
   "id": "a6a23b23-7e71-44aa-91e0-31814afe7d70",
   "metadata": {},
   "outputs": [],
   "source": [
    "pw10=pwskills11()"
   ]
  },
  {
   "cell_type": "code",
   "execution_count": 101,
   "id": "da601dfe-f45e-4e99-acde-feee3a6a61bf",
   "metadata": {},
   "outputs": [
    {
     "name": "stdout",
     "output_type": "stream",
     "text": [
      "ganesh gan@gmail.com 8999849\n"
     ]
    }
   ],
   "source": [
    "pw10.student_details(\"ganesh\",\"gan@gmail.com\",8999849)"
   ]
  },
  {
   "cell_type": "code",
   "execution_count": 102,
   "id": "f6d8f7e4-b519-4422-8d89-d98b91cf5d31",
   "metadata": {},
   "outputs": [
    {
     "name": "stdout",
     "output_type": "stream",
     "text": [
      "['krish@gmail.com', 'sudh@gmail.com']\n"
     ]
    }
   ],
   "source": [
    "pw10.mentor_mail_id([\"krish@gmail.com\",\"sudh@gmail.com\"])"
   ]
  },
  {
   "cell_type": "code",
   "execution_count": 103,
   "id": "c67619f4-c29c-4392-b740-8e7530dfc7a7",
   "metadata": {},
   "outputs": [
    {
     "name": "stdout",
     "output_type": "stream",
     "text": [
      "['krish', 'sudh']\n",
      "['krish@gmail.com', 'sudh@gmail.com']\n"
     ]
    }
   ],
   "source": [
    "pw10.class_name(\"data science\")"
   ]
  },
  {
   "cell_type": "code",
   "execution_count": 104,
   "id": "de00a367-5537-4729-bc44-3adc66950a22",
   "metadata": {},
   "outputs": [
    {
     "name": "stdout",
     "output_type": "stream",
     "text": [
      "['krish11@gmail.com', 'sudh1@gmail.com']\n"
     ]
    }
   ],
   "source": [
    "pwskills11.mentor_mail_id([\"krish11@gmail.com\",\"sudh1@gmail.com\"])"
   ]
  },
  {
   "cell_type": "code",
   "execution_count": null,
   "id": "301eac17-a026-4516-9664-e83432483e0e",
   "metadata": {},
   "outputs": [],
   "source": []
  }
 ],
 "metadata": {
  "kernelspec": {
   "display_name": "Python 3 (ipykernel)",
   "language": "python",
   "name": "python3"
  },
  "language_info": {
   "codemirror_mode": {
    "name": "ipython",
    "version": 3
   },
   "file_extension": ".py",
   "mimetype": "text/x-python",
   "name": "python",
   "nbconvert_exporter": "python",
   "pygments_lexer": "ipython3",
   "version": "3.10.8"
  }
 },
 "nbformat": 4,
 "nbformat_minor": 5
}
