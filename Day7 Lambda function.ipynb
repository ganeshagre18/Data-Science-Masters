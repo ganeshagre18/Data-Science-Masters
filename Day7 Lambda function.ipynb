{
 "cells": [
  {
   "cell_type": "code",
   "execution_count": 1,
   "id": "35a4df06-24c8-46ef-a6bf-335fd13df7f0",
   "metadata": {},
   "outputs": [],
   "source": [
    "#power of number\n",
    "n=3\n",
    "p=2"
   ]
  },
  {
   "cell_type": "code",
   "execution_count": 2,
   "id": "01d8503d-c058-4ab7-993f-31aa7ea847ae",
   "metadata": {},
   "outputs": [],
   "source": [
    "def test(n,p):\n",
    "    return n**p"
   ]
  },
  {
   "cell_type": "code",
   "execution_count": 5,
   "id": "bb500028-ce66-4e93-850a-d74f42e3f16b",
   "metadata": {},
   "outputs": [
    {
     "data": {
      "text/plain": [
       "9"
      ]
     },
     "execution_count": 5,
     "metadata": {},
     "output_type": "execute_result"
    }
   ],
   "source": [
    "test(3,2)"
   ]
  },
  {
   "cell_type": "code",
   "execution_count": 8,
   "id": "18cb9ae4-4ab6-4fa0-ad90-e26352b97494",
   "metadata": {},
   "outputs": [],
   "source": [
    "#lambda function\n",
    "a=lambda x,y:x**y"
   ]
  },
  {
   "cell_type": "code",
   "execution_count": 9,
   "id": "9295e818-e680-4406-82b3-6a63560e59d3",
   "metadata": {},
   "outputs": [
    {
     "data": {
      "text/plain": [
       "9"
      ]
     },
     "execution_count": 9,
     "metadata": {},
     "output_type": "execute_result"
    }
   ],
   "source": [
    "a(3,2)"
   ]
  },
  {
   "cell_type": "code",
   "execution_count": 10,
   "id": "2abd6a1f-addb-475b-b52e-f67b7cda8788",
   "metadata": {},
   "outputs": [],
   "source": [
    "test1 = lambda a,b : a+b"
   ]
  },
  {
   "cell_type": "code",
   "execution_count": 11,
   "id": "f6aac044-dad2-454a-97e2-df0220c57889",
   "metadata": {},
   "outputs": [
    {
     "data": {
      "text/plain": [
       "5"
      ]
     },
     "execution_count": 11,
     "metadata": {},
     "output_type": "execute_result"
    }
   ],
   "source": [
    "test1(2,3)"
   ]
  },
  {
   "cell_type": "code",
   "execution_count": 16,
   "id": "d0687da2-3047-4c86-9020-e4203765e913",
   "metadata": {},
   "outputs": [],
   "source": [
    "max_two=lambda p,n: p if p>n else n"
   ]
  },
  {
   "cell_type": "code",
   "execution_count": 17,
   "id": "98b7e84e-7b77-4e8b-8762-d89091fcda7b",
   "metadata": {},
   "outputs": [
    {
     "data": {
      "text/plain": [
       "10"
      ]
     },
     "execution_count": 17,
     "metadata": {},
     "output_type": "execute_result"
    }
   ],
   "source": [
    "max_two(10,7)"
   ]
  },
  {
   "cell_type": "code",
   "execution_count": 14,
   "id": "e1638c6e-875b-4a00-8e2a-41fe26b764e0",
   "metadata": {},
   "outputs": [],
   "source": [
    "#celsius to fahrenheit\n",
    "c_f = lambda c: (9/5)*c+32"
   ]
  },
  {
   "cell_type": "code",
   "execution_count": 15,
   "id": "04ddbbf2-fa0f-4010-ac08-60ebdec5c2b4",
   "metadata": {},
   "outputs": [
    {
     "data": {
      "text/plain": [
       "176.0"
      ]
     },
     "execution_count": 15,
     "metadata": {},
     "output_type": "execute_result"
    }
   ],
   "source": [
    "c_f(80)"
   ]
  },
  {
   "cell_type": "code",
   "execution_count": 19,
   "id": "0cdcbf0b-2ec9-4baf-a92b-8d4081bdd6be",
   "metadata": {},
   "outputs": [],
   "source": [
    "s=\"pwskills\""
   ]
  },
  {
   "cell_type": "code",
   "execution_count": 20,
   "id": "bd376eff-2df1-4c15-aa80-d9533aebc1da",
   "metadata": {},
   "outputs": [],
   "source": [
    "#length of s by lambda fun\n",
    "len_s=lambda s:len(s)"
   ]
  },
  {
   "cell_type": "code",
   "execution_count": 21,
   "id": "1afc92ec-3cb0-4564-a9ec-0f5c5072face",
   "metadata": {},
   "outputs": [
    {
     "data": {
      "text/plain": [
       "8"
      ]
     },
     "execution_count": 21,
     "metadata": {},
     "output_type": "execute_result"
    }
   ],
   "source": [
    "len_s(s)"
   ]
  },
  {
   "cell_type": "code",
   "execution_count": null,
   "id": "2f759258-acc6-4f70-a263-de33f1e46724",
   "metadata": {},
   "outputs": [],
   "source": []
  }
 ],
 "metadata": {
  "kernelspec": {
   "display_name": "Python 3 (ipykernel)",
   "language": "python",
   "name": "python3"
  },
  "language_info": {
   "codemirror_mode": {
    "name": "ipython",
    "version": 3
   },
   "file_extension": ".py",
   "mimetype": "text/x-python",
   "name": "python",
   "nbconvert_exporter": "python",
   "pygments_lexer": "ipython3",
   "version": "3.10.8"
  }
 },
 "nbformat": 4,
 "nbformat_minor": 5
}
