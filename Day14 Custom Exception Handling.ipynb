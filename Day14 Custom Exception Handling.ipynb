{
 "cells": [
  {
   "cell_type": "markdown",
   "id": "df59be53-9a39-49ee-8141-f3a819762ca0",
   "metadata": {},
   "source": [
    "CUSTOM EXCEPTION HANDLING"
   ]
  },
  {
   "cell_type": "code",
   "execution_count": 2,
   "id": "f6626b76-787a-417b-8d90-f5e8de5fc3e5",
   "metadata": {},
   "outputs": [
    {
     "name": "stdin",
     "output_type": "stream",
     "text": [
      "enter age -2555\n"
     ]
    }
   ],
   "source": [
    "age=int(input(\"enter age\"))"
   ]
  },
  {
   "cell_type": "markdown",
   "id": "082a2ad9-e252-4911-ae51-242dfac28737",
   "metadata": {},
   "source": [
    "**age should not be less than zero so we need to handle this exception that is custom exception handling by inhering the exception class "
   ]
  },
  {
   "cell_type": "code",
   "execution_count": 3,
   "id": "2c50876e-d433-47f5-811a-6af03f7106a5",
   "metadata": {},
   "outputs": [],
   "source": [
    "class validateage(Exception):\n",
    "    def __init__(self,msg):\n",
    "        self.msg=msg"
   ]
  },
  {
   "cell_type": "code",
   "execution_count": 5,
   "id": "d818b7aa-399a-4a09-9003-691b41fca696",
   "metadata": {},
   "outputs": [],
   "source": [
    "def validate_age(age):\n",
    "    if age<0:\n",
    "        raise validateage(\"age shold not be less than zero\")\n",
    "    elif age>200:\n",
    "        raise validateage(\"age is too high\")\n",
    "    else:\n",
    "        print(\"age is valid\")"
   ]
  },
  {
   "cell_type": "code",
   "execution_count": 6,
   "id": "63b76302-a664-49b8-b702-6400dddc58ad",
   "metadata": {},
   "outputs": [
    {
     "name": "stdin",
     "output_type": "stream",
     "text": [
      "enter your age -25\n"
     ]
    },
    {
     "name": "stdout",
     "output_type": "stream",
     "text": [
      "age shold not be less than zero\n"
     ]
    }
   ],
   "source": [
    "try:\n",
    "    age=int(input(\"enter your age\"))\n",
    "    validate_age(age)\n",
    "except validateage as e:\n",
    "    print(e)"
   ]
  },
  {
   "cell_type": "code",
   "execution_count": null,
   "id": "e940fdbc-c78d-43c3-82e3-35dfe4bce5ea",
   "metadata": {},
   "outputs": [],
   "source": []
  }
 ],
 "metadata": {
  "kernelspec": {
   "display_name": "Python 3 (ipykernel)",
   "language": "python",
   "name": "python3"
  },
  "language_info": {
   "codemirror_mode": {
    "name": "ipython",
    "version": 3
   },
   "file_extension": ".py",
   "mimetype": "text/x-python",
   "name": "python",
   "nbconvert_exporter": "python",
   "pygments_lexer": "ipython3",
   "version": "3.10.8"
  }
 },
 "nbformat": 4,
 "nbformat_minor": 5
}
