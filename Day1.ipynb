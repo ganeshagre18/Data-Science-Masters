{
 "cells": [
  {
   "cell_type": "code",
   "execution_count": 1,
   "id": "20ed9d1a-64f5-4b09-9d26-b5c0ff076d00",
   "metadata": {},
   "outputs": [],
   "source": [
    "a=10"
   ]
  },
  {
   "cell_type": "code",
   "execution_count": 2,
   "id": "e7e8c67e-51ff-458e-80a9-837fcc7e700f",
   "metadata": {},
   "outputs": [
    {
     "data": {
      "text/plain": [
       "10"
      ]
     },
     "execution_count": 2,
     "metadata": {},
     "output_type": "execute_result"
    }
   ],
   "source": [
    "a"
   ]
  },
  {
   "cell_type": "code",
   "execution_count": 3,
   "id": "1be15de0-21f2-45cb-8d86-aa0fc02140d8",
   "metadata": {},
   "outputs": [
    {
     "name": "stdout",
     "output_type": "stream",
     "text": [
      "10\n"
     ]
    }
   ],
   "source": [
    "print(a)"
   ]
  },
  {
   "cell_type": "code",
   "execution_count": 4,
   "id": "2682244e-5110-4b31-9975-658b8ccdf61e",
   "metadata": {},
   "outputs": [
    {
     "data": {
      "text/plain": [
       "int"
      ]
     },
     "execution_count": 4,
     "metadata": {},
     "output_type": "execute_result"
    }
   ],
   "source": [
    "#WELCOME\n",
    "type(a)"
   ]
  },
  {
   "cell_type": "code",
   "execution_count": 5,
   "id": "67d405d8-d772-43b0-a4b2-9310380a2a7a",
   "metadata": {},
   "outputs": [],
   "source": [
    "\"\"\"ganesh\n",
    "manjunath \n",
    "agre\"\"\"\n",
    "a=90.09"
   ]
  },
  {
   "cell_type": "code",
   "execution_count": 6,
   "id": "8fa83671-81ad-41db-893c-737eb711386c",
   "metadata": {},
   "outputs": [
    {
     "data": {
      "text/plain": [
       "90.09"
      ]
     },
     "execution_count": 6,
     "metadata": {},
     "output_type": "execute_result"
    }
   ],
   "source": [
    "a"
   ]
  },
  {
   "cell_type": "code",
   "execution_count": 7,
   "id": "43b00531-2957-4d0e-953d-ec5fa788dcd9",
   "metadata": {},
   "outputs": [
    {
     "data": {
      "text/plain": [
       "float"
      ]
     },
     "execution_count": 7,
     "metadata": {},
     "output_type": "execute_result"
    }
   ],
   "source": [
    "type(a)"
   ]
  },
  {
   "cell_type": "code",
   "execution_count": 8,
   "id": "226c0827-49fc-452c-a9f2-52d1d52ffb1f",
   "metadata": {},
   "outputs": [],
   "source": [
    "###hahaaaaaaa###\n",
    "str='a'"
   ]
  },
  {
   "cell_type": "code",
   "execution_count": 9,
   "id": "e355cada-c986-49c4-ae74-cfb627ef9eaa",
   "metadata": {},
   "outputs": [
    {
     "name": "stdout",
     "output_type": "stream",
     "text": [
      "a\n"
     ]
    }
   ],
   "source": [
    "print(str)"
   ]
  },
  {
   "cell_type": "markdown",
   "id": "eaa6ec1d-d1c4-48ed-9a44-33df6d5e2cc4",
   "metadata": {},
   "source": [
    "#Markdown"
   ]
  },
  {
   "cell_type": "markdown",
   "id": "1816317b-e4cb-4bc3-b974-e6f867be63b2",
   "metadata": {},
   "source": [
    "For titles, headings we will use"
   ]
  },
  {
   "cell_type": "markdown",
   "id": "2e15c075-883d-4536-878f-ba59054a1d15",
   "metadata": {},
   "source": [
    "Numbers"
   ]
  },
  {
   "cell_type": "code",
   "execution_count": 10,
   "id": "7363375b-4182-41c5-a525-7e73dbec53fb",
   "metadata": {},
   "outputs": [
    {
     "data": {
      "text/plain": [
       "4"
      ]
     },
     "execution_count": 10,
     "metadata": {},
     "output_type": "execute_result"
    }
   ],
   "source": [
    "1+3"
   ]
  },
  {
   "cell_type": "code",
   "execution_count": 11,
   "id": "c9b2c823-598f-497c-9369-a69446c6ed28",
   "metadata": {},
   "outputs": [
    {
     "name": "stdout",
     "output_type": "stream",
     "text": [
      "4\n"
     ]
    }
   ],
   "source": [
    "print(1+3)"
   ]
  },
  {
   "cell_type": "markdown",
   "id": "babdec54-b059-4343-b450-5a62486d146c",
   "metadata": {},
   "source": [
    "if we write print() then it will show output in the console if we dont write the it will show in the cell"
   ]
  },
  {
   "cell_type": "code",
   "execution_count": 12,
   "id": "ea3eb09c-78c6-4fb3-b14d-4ab21c11320e",
   "metadata": {},
   "outputs": [],
   "source": [
    "name=\"ganesh\""
   ]
  },
  {
   "cell_type": "code",
   "execution_count": 13,
   "id": "671c98fe-72f7-4f7c-9520-8b5d4640d32a",
   "metadata": {},
   "outputs": [
    {
     "data": {
      "text/plain": [
       "'ganesh'"
      ]
     },
     "execution_count": 13,
     "metadata": {},
     "output_type": "execute_result"
    }
   ],
   "source": [
    "name"
   ]
  },
  {
   "cell_type": "code",
   "execution_count": 14,
   "id": "7e8ed9c0-1837-4102-a1df-daf046c6440c",
   "metadata": {},
   "outputs": [
    {
     "name": "stdout",
     "output_type": "stream",
     "text": [
      "ganesh\n"
     ]
    }
   ],
   "source": [
    "print(name)"
   ]
  },
  {
   "cell_type": "code",
   "execution_count": 15,
   "id": "07216f2a-6069-4996-a4fd-ddca9cda12be",
   "metadata": {},
   "outputs": [],
   "source": [
    "a='Agre'\n",
    "b=\"Patil\""
   ]
  },
  {
   "cell_type": "code",
   "execution_count": 16,
   "id": "9c910c30-da1a-4279-9927-1ee0e81fec51",
   "metadata": {},
   "outputs": [
    {
     "name": "stdout",
     "output_type": "stream",
     "text": [
      "Agre\n"
     ]
    }
   ],
   "source": [
    "print(a)"
   ]
  },
  {
   "cell_type": "code",
   "execution_count": 17,
   "id": "4fc8db3c-fa83-476e-a828-d30103078881",
   "metadata": {},
   "outputs": [
    {
     "name": "stdout",
     "output_type": "stream",
     "text": [
      "Patil\n"
     ]
    }
   ],
   "source": [
    "print(b)"
   ]
  },
  {
   "cell_type": "code",
   "execution_count": 18,
   "id": "b82d856b-2d94-467c-a324-7d588078db4b",
   "metadata": {},
   "outputs": [
    {
     "data": {
      "text/plain": [
       "str"
      ]
     },
     "execution_count": 18,
     "metadata": {},
     "output_type": "execute_result"
    }
   ],
   "source": [
    "type(a)"
   ]
  },
  {
   "cell_type": "code",
   "execution_count": 20,
   "id": "f74c6b1a-8bdb-4f35-b780-56fde46bdc23",
   "metadata": {},
   "outputs": [],
   "source": [
    "decimal_num=2.5"
   ]
  },
  {
   "cell_type": "code",
   "execution_count": 21,
   "id": "4b49fd3f-ce6e-40c1-a66f-36d998553d1e",
   "metadata": {},
   "outputs": [
    {
     "name": "stdout",
     "output_type": "stream",
     "text": [
      "2.5\n"
     ]
    }
   ],
   "source": [
    "print(decimal_num)"
   ]
  },
  {
   "cell_type": "code",
   "execution_count": 22,
   "id": "ace64e85-0f0c-4af7-80e6-154720b7ae38",
   "metadata": {},
   "outputs": [
    {
     "data": {
      "text/plain": [
       "float"
      ]
     },
     "execution_count": 22,
     "metadata": {},
     "output_type": "execute_result"
    }
   ],
   "source": [
    "type(decimal_num)"
   ]
  },
  {
   "cell_type": "code",
   "execution_count": 23,
   "id": "9356e153-bf0c-456c-bb4c-0872a3182643",
   "metadata": {},
   "outputs": [
    {
     "data": {
      "text/plain": [
       "complex"
      ]
     },
     "execution_count": 23,
     "metadata": {},
     "output_type": "execute_result"
    }
   ],
   "source": [
    "type(1+2j)"
   ]
  },
  {
   "cell_type": "code",
   "execution_count": 24,
   "id": "261ccc4d-e0a7-4b8a-9d86-4c3924120cf1",
   "metadata": {},
   "outputs": [],
   "source": [
    "number1=2"
   ]
  },
  {
   "cell_type": "code",
   "execution_count": 25,
   "id": "a76debd3-ece8-449b-b23a-53ccb0602b2d",
   "metadata": {},
   "outputs": [
    {
     "name": "stdout",
     "output_type": "stream",
     "text": [
      "2\n"
     ]
    }
   ],
   "source": [
    "print(number1)"
   ]
  },
  {
   "cell_type": "code",
   "execution_count": 26,
   "id": "266955cd-af59-462e-81b8-c2309e6e0d6e",
   "metadata": {},
   "outputs": [
    {
     "ename": "SyntaxError",
     "evalue": "invalid decimal literal (378726968.py, line 1)",
     "output_type": "error",
     "traceback": [
      "\u001b[0;36m  Cell \u001b[0;32mIn[26], line 1\u001b[0;36m\u001b[0m\n\u001b[0;31m    1numb=2\u001b[0m\n\u001b[0m    ^\u001b[0m\n\u001b[0;31mSyntaxError\u001b[0m\u001b[0;31m:\u001b[0m invalid decimal literal\n"
     ]
    }
   ],
   "source": [
    "1numb=2"
   ]
  },
  {
   "cell_type": "markdown",
   "id": "b49f9292-6892-45fa-b5b2-39eb066513fa",
   "metadata": {},
   "source": [
    "Don't start varible with number"
   ]
  },
  {
   "cell_type": "code",
   "execution_count": 30,
   "id": "36631023-69c9-4175-9a1e-0d8488453331",
   "metadata": {},
   "outputs": [],
   "source": [
    "#Varibles are case sensetive\n",
    "company=\"PW\"\n",
    "Company=\"CW\""
   ]
  },
  {
   "cell_type": "code",
   "execution_count": 28,
   "id": "937073fc-4080-482e-8b66-2a8268c6621d",
   "metadata": {},
   "outputs": [
    {
     "name": "stdout",
     "output_type": "stream",
     "text": [
      "PW\n"
     ]
    }
   ],
   "source": [
    "print(company)"
   ]
  },
  {
   "cell_type": "code",
   "execution_count": 29,
   "id": "5fb4575c-d347-43ee-bef2-3aa780aac8a7",
   "metadata": {},
   "outputs": [
    {
     "name": "stdout",
     "output_type": "stream",
     "text": [
      "CW\n"
     ]
    }
   ],
   "source": [
    "print(Company)"
   ]
  },
  {
   "cell_type": "markdown",
   "id": "25894064-4fdb-4367-8e2c-eb03cea12a95",
   "metadata": {},
   "source": [
    "Boolean"
   ]
  },
  {
   "cell_type": "code",
   "execution_count": 31,
   "id": "f2c61369-20e3-482c-a65b-f6b3d82e125b",
   "metadata": {},
   "outputs": [
    {
     "ename": "NameError",
     "evalue": "name 'true' is not defined",
     "output_type": "error",
     "traceback": [
      "\u001b[0;31m---------------------------------------------------------------------------\u001b[0m",
      "\u001b[0;31mNameError\u001b[0m                                 Traceback (most recent call last)",
      "Cell \u001b[0;32mIn[31], line 1\u001b[0m\n\u001b[0;32m----> 1\u001b[0m \u001b[43mtrue\u001b[49m\n",
      "\u001b[0;31mNameError\u001b[0m: name 'true' is not defined"
     ]
    }
   ],
   "source": [
    "true"
   ]
  },
  {
   "cell_type": "code",
   "execution_count": 32,
   "id": "4f18c9c5-08eb-4400-8ade-93ed44260c85",
   "metadata": {},
   "outputs": [
    {
     "data": {
      "text/plain": [
       "True"
      ]
     },
     "execution_count": 32,
     "metadata": {},
     "output_type": "execute_result"
    }
   ],
   "source": [
    "True"
   ]
  },
  {
   "cell_type": "code",
   "execution_count": 33,
   "id": "f41d64f8-6341-403b-a6f8-119b26abc4e8",
   "metadata": {},
   "outputs": [
    {
     "data": {
      "text/plain": [
       "False"
      ]
     },
     "execution_count": 33,
     "metadata": {},
     "output_type": "execute_result"
    }
   ],
   "source": [
    "False"
   ]
  },
  {
   "cell_type": "code",
   "execution_count": 34,
   "id": "a5bb92df-6f4b-404e-bce0-fa479b1221ef",
   "metadata": {},
   "outputs": [
    {
     "data": {
      "text/plain": [
       "False"
      ]
     },
     "execution_count": 34,
     "metadata": {},
     "output_type": "execute_result"
    }
   ],
   "source": [
    "True and False"
   ]
  },
  {
   "cell_type": "code",
   "execution_count": 35,
   "id": "51a78905-da52-4a35-bba1-37c829b4f04d",
   "metadata": {},
   "outputs": [
    {
     "data": {
      "text/plain": [
       "True"
      ]
     },
     "execution_count": 35,
     "metadata": {},
     "output_type": "execute_result"
    }
   ],
   "source": [
    "True or False"
   ]
  },
  {
   "cell_type": "code",
   "execution_count": 36,
   "id": "c048e3d6-7dc5-450e-8fe1-7739745cd5bc",
   "metadata": {},
   "outputs": [
    {
     "ename": "SyntaxError",
     "evalue": "invalid syntax (2471178479.py, line 1)",
     "output_type": "error",
     "traceback": [
      "\u001b[0;36m  Cell \u001b[0;32mIn[36], line 1\u001b[0;36m\u001b[0m\n\u001b[0;31m    Not True\u001b[0m\n\u001b[0m        ^\u001b[0m\n\u001b[0;31mSyntaxError\u001b[0m\u001b[0;31m:\u001b[0m invalid syntax\n"
     ]
    }
   ],
   "source": [
    "Not True"
   ]
  },
  {
   "cell_type": "code",
   "execution_count": 37,
   "id": "25f38114-44f7-46a2-ac8e-663d01cf8651",
   "metadata": {},
   "outputs": [
    {
     "data": {
      "text/plain": [
       "False"
      ]
     },
     "execution_count": 37,
     "metadata": {},
     "output_type": "execute_result"
    }
   ],
   "source": [
    "not True"
   ]
  },
  {
   "cell_type": "code",
   "execution_count": 38,
   "id": "89e7c76c-d7a4-4de9-bd7a-04b32a820a1d",
   "metadata": {},
   "outputs": [
    {
     "data": {
      "text/plain": [
       "True"
      ]
     },
     "execution_count": 38,
     "metadata": {},
     "output_type": "execute_result"
    }
   ],
   "source": [
    "not False"
   ]
  },
  {
   "cell_type": "code",
   "execution_count": 39,
   "id": "5c36fd50-ed5f-4c99-8ece-5379d57f7e6d",
   "metadata": {},
   "outputs": [
    {
     "data": {
      "text/plain": [
       "bool"
      ]
     },
     "execution_count": 39,
     "metadata": {},
     "output_type": "execute_result"
    }
   ],
   "source": [
    "type(True)"
   ]
  },
  {
   "cell_type": "code",
   "execution_count": 40,
   "id": "e6462fab-cf34-41d3-a6e1-9b2177723a7e",
   "metadata": {},
   "outputs": [
    {
     "data": {
      "text/plain": [
       "False"
      ]
     },
     "execution_count": 40,
     "metadata": {},
     "output_type": "execute_result"
    }
   ],
   "source": [
    "bool(0)"
   ]
  },
  {
   "cell_type": "code",
   "execution_count": 41,
   "id": "8fb121df-adc1-416b-8e4c-f8f5c227afa1",
   "metadata": {},
   "outputs": [
    {
     "data": {
      "text/plain": [
       "True"
      ]
     },
     "execution_count": 41,
     "metadata": {},
     "output_type": "execute_result"
    }
   ],
   "source": [
    "bool(1)"
   ]
  },
  {
   "cell_type": "code",
   "execution_count": 42,
   "id": "1a6c9a59-8826-40bb-86a5-7b77bd382ea1",
   "metadata": {},
   "outputs": [
    {
     "data": {
      "text/plain": [
       "True"
      ]
     },
     "execution_count": 42,
     "metadata": {},
     "output_type": "execute_result"
    }
   ],
   "source": [
    "bool(9)"
   ]
  },
  {
   "cell_type": "code",
   "execution_count": 43,
   "id": "f6397170-78fe-44a3-81ec-5d217154cb6f",
   "metadata": {},
   "outputs": [
    {
     "data": {
      "text/plain": [
       "True"
      ]
     },
     "execution_count": 43,
     "metadata": {},
     "output_type": "execute_result"
    }
   ],
   "source": [
    "bool(-8)"
   ]
  },
  {
   "cell_type": "code",
   "execution_count": 44,
   "id": "c8c5239e-dad8-406e-a8b8-e4097fae2239",
   "metadata": {},
   "outputs": [
    {
     "data": {
      "text/plain": [
       "bool"
      ]
     },
     "execution_count": 44,
     "metadata": {},
     "output_type": "execute_result"
    }
   ],
   "source": [
    "#expect 0 all values will show true only\n",
    "type(not False)"
   ]
  },
  {
   "cell_type": "code",
   "execution_count": 48,
   "id": "4f5b3bb0-810a-4076-998c-102517c56dc7",
   "metadata": {},
   "outputs": [
    {
     "ename": "TypeError",
     "evalue": "'str' object is not callable",
     "output_type": "error",
     "traceback": [
      "\u001b[0;31m---------------------------------------------------------------------------\u001b[0m",
      "\u001b[0;31mTypeError\u001b[0m                                 Traceback (most recent call last)",
      "Cell \u001b[0;32mIn[48], line 1\u001b[0m\n\u001b[0;32m----> 1\u001b[0m \u001b[38;5;28;43mstr\u001b[39;49m\u001b[43m(\u001b[49m\u001b[38;5;241;43m2\u001b[39;49m\u001b[43m)\u001b[49m\n",
      "\u001b[0;31mTypeError\u001b[0m: 'str' object is not callable"
     ]
    }
   ],
   "source": [
    "str(2)"
   ]
  },
  {
   "cell_type": "code",
   "execution_count": 49,
   "id": "df8b9912-8528-4431-a975-611c804b714a",
   "metadata": {},
   "outputs": [
    {
     "data": {
      "text/plain": [
       "23"
      ]
     },
     "execution_count": 49,
     "metadata": {},
     "output_type": "execute_result"
    }
   ],
   "source": [
    "int('23')"
   ]
  },
  {
   "cell_type": "code",
   "execution_count": 51,
   "id": "702288f7-22e0-4482-bed7-42a11b9510fc",
   "metadata": {},
   "outputs": [
    {
     "data": {
      "text/plain": [
       "int"
      ]
     },
     "execution_count": 51,
     "metadata": {},
     "output_type": "execute_result"
    }
   ],
   "source": [
    "type(int('23'))"
   ]
  },
  {
   "cell_type": "markdown",
   "id": "7f85e71d-4ff1-40a4-9b63-99f82f3dad79",
   "metadata": {},
   "source": [
    "Dynamic Typing"
   ]
  },
  {
   "cell_type": "code",
   "execution_count": 53,
   "id": "8ddbd1fa-26b4-43f6-bfdf-412a0530dc7b",
   "metadata": {},
   "outputs": [],
   "source": [
    "a=2\n",
    "str1=\"krissh\"\n",
    "a=\"var\""
   ]
  },
  {
   "cell_type": "code",
   "execution_count": 54,
   "id": "76bb5b1b-c247-469b-9662-b60e558cce2c",
   "metadata": {},
   "outputs": [
    {
     "name": "stdout",
     "output_type": "stream",
     "text": [
      "var\n"
     ]
    }
   ],
   "source": [
    "print(a)"
   ]
  },
  {
   "cell_type": "code",
   "execution_count": 55,
   "id": "43869896-c932-4a71-bd19-7889d4fe070e",
   "metadata": {},
   "outputs": [
    {
     "name": "stdout",
     "output_type": "stream",
     "text": [
      "<class 'str'>\n"
     ]
    }
   ],
   "source": [
    "print(type(a))"
   ]
  },
  {
   "cell_type": "code",
   "execution_count": null,
   "id": "750635b2-8fa7-4f0d-a888-84040eca19f8",
   "metadata": {},
   "outputs": [],
   "source": []
  }
 ],
 "metadata": {
  "kernelspec": {
   "display_name": "Python 3 (ipykernel)",
   "language": "python",
   "name": "python3"
  },
  "language_info": {
   "codemirror_mode": {
    "name": "ipython",
    "version": 3
   },
   "file_extension": ".py",
   "mimetype": "text/x-python",
   "name": "python",
   "nbconvert_exporter": "python",
   "pygments_lexer": "ipython3",
   "version": "3.10.8"
  }
 },
 "nbformat": 4,
 "nbformat_minor": 5
}
