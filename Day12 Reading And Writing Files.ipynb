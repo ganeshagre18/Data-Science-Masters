{
 "cells": [
  {
   "cell_type": "code",
   "execution_count": 6,
   "id": "35a644e6-4440-4375-8c1d-9222ad2eb7b7",
   "metadata": {},
   "outputs": [],
   "source": [
    "data={\n",
    "    \"name\":\"ganesh\",\n",
    "    \"mail_id\":\"ganesh@gmail.com\",\n",
    "    \"phone\":9071155057,\n",
    "    \"subject\":[\"data science\",\"big data\",\"data analytics\"]\n",
    "}"
   ]
  },
  {
   "cell_type": "code",
   "execution_count": 7,
   "id": "cfc07e6e-eea4-4c67-b086-a9fa58c968c2",
   "metadata": {},
   "outputs": [],
   "source": [
    "import json"
   ]
  },
  {
   "cell_type": "code",
   "execution_count": 8,
   "id": "13c5a360-85e4-41bc-b99f-e9e695caf250",
   "metadata": {},
   "outputs": [],
   "source": [
    "with open(\"test1.json\",\"w\") as f:\n",
    "    json.dump(data,f)"
   ]
  },
  {
   "cell_type": "code",
   "execution_count": 9,
   "id": "d7a2694f-3b9b-4223-b570-a478adf024de",
   "metadata": {},
   "outputs": [],
   "source": [
    "with open(\"test1.json\",\"r\") as f:\n",
    "    data1=json.load(f)"
   ]
  },
  {
   "cell_type": "code",
   "execution_count": 10,
   "id": "5404b2fe-bf27-4236-955d-2bb88f6a1b76",
   "metadata": {},
   "outputs": [
    {
     "data": {
      "text/plain": [
       "{'name': 'ganesh',\n",
       " 'mail_id': 'ganesh@gmail.com',\n",
       " 'phone': 9071155057,\n",
       " 'subject': ['data science', 'big data', 'data analytics']}"
      ]
     },
     "execution_count": 10,
     "metadata": {},
     "output_type": "execute_result"
    }
   ],
   "source": [
    "data1"
   ]
  },
  {
   "cell_type": "code",
   "execution_count": 11,
   "id": "34a26e30-0179-46de-88a7-b9cd009b633b",
   "metadata": {},
   "outputs": [
    {
     "data": {
      "text/plain": [
       "['data science', 'big data', 'data analytics']"
      ]
     },
     "execution_count": 11,
     "metadata": {},
     "output_type": "execute_result"
    }
   ],
   "source": [
    "data1[\"subject\"]"
   ]
  },
  {
   "cell_type": "markdown",
   "id": "be7c3e4a-0d5c-4a4a-96d8-fff6e2041fca",
   "metadata": {},
   "source": [
    "raed and write operation for comma separated"
   ]
  },
  {
   "cell_type": "code",
   "execution_count": 19,
   "id": "806bce07-24b1-431f-b13e-013e774513e2",
   "metadata": {},
   "outputs": [],
   "source": [
    "data1=[[\"name\" , \"email\" , \"phone\"],\n",
    "       [\"ganesh\" , \"ganesh@gmail.com\" , 9018199],\n",
    "       [\"krish\",\"krish@gmail.com\",67237837]\n",
    "      ]"
   ]
  },
  {
   "cell_type": "code",
   "execution_count": 20,
   "id": "8f436255-ff7a-446b-b872-50145cc24baf",
   "metadata": {},
   "outputs": [],
   "source": [
    "import csv"
   ]
  },
  {
   "cell_type": "code",
   "execution_count": 22,
   "id": "62dd33af-9b11-4b09-a5a8-c123d8b5f9f5",
   "metadata": {},
   "outputs": [],
   "source": [
    "with open(\"test.csv\",\"w\")as f:\n",
    "    w =csv.writer(f)\n",
    "    for i in data1:\n",
    "        w.writerow(i)"
   ]
  },
  {
   "cell_type": "code",
   "execution_count": 23,
   "id": "f389b3ec-3f64-4b8b-9f30-f8fa75e3f7fb",
   "metadata": {},
   "outputs": [
    {
     "name": "stdout",
     "output_type": "stream",
     "text": [
      "['name', 'email', 'phone']\n",
      "['ganesh', 'ganesh@gmail.com', '9018199']\n",
      "['krish', 'krish@gmail.com', '67237837']\n"
     ]
    }
   ],
   "source": [
    "with open(\"test.csv\",\"r\") as f:\n",
    "    read=csv.reader(f)\n",
    "    for i in read:\n",
    "        print(i)"
   ]
  },
  {
   "cell_type": "markdown",
   "id": "ff822203-e5fe-40c8-9259-90f2aa0b2258",
   "metadata": {},
   "source": [
    "Binary file"
   ]
  },
  {
   "cell_type": "code",
   "execution_count": 24,
   "id": "788684d2-cf53-46d7-a086-da5dd9663b44",
   "metadata": {},
   "outputs": [],
   "source": [
    "with open (\"new.bin\",\"wb\") as f:\n",
    "    f.write(b\"\\x01\\x02\\x03\")"
   ]
  },
  {
   "cell_type": "code",
   "execution_count": 25,
   "id": "4eebaead-7934-4feb-b5e8-7efb955afeb1",
   "metadata": {},
   "outputs": [
    {
     "name": "stdout",
     "output_type": "stream",
     "text": [
      "b'\\x01\\x02\\x03'\n"
     ]
    }
   ],
   "source": [
    "with open(\"new.bin\",\"rb\") as f:\n",
    "    print(f.read())"
   ]
  },
  {
   "cell_type": "code",
   "execution_count": null,
   "id": "dc114fd7-584a-45fc-a8b7-08407b3fabb0",
   "metadata": {},
   "outputs": [],
   "source": []
  }
 ],
 "metadata": {
  "kernelspec": {
   "display_name": "Python 3 (ipykernel)",
   "language": "python",
   "name": "python3"
  },
  "language_info": {
   "codemirror_mode": {
    "name": "ipython",
    "version": 3
   },
   "file_extension": ".py",
   "mimetype": "text/x-python",
   "name": "python",
   "nbconvert_exporter": "python",
   "pygments_lexer": "ipython3",
   "version": "3.10.8"
  }
 },
 "nbformat": 4,
 "nbformat_minor": 5
}
