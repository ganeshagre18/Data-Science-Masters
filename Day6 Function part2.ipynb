{
 "cells": [
  {
   "cell_type": "code",
   "execution_count": 1,
   "id": "09c7cf76-042a-4c99-a5dc-cc6c8d8d1030",
   "metadata": {},
   "outputs": [],
   "source": [
    "def test1(a,b,c,d):\n",
    "    pass"
   ]
  },
  {
   "cell_type": "code",
   "execution_count": 9,
   "id": "349bbb4c-dd76-4eb0-92cb-23e0535bcb8d",
   "metadata": {},
   "outputs": [],
   "source": [
    "test1(1,2,3,4)"
   ]
  },
  {
   "cell_type": "code",
   "execution_count": 10,
   "id": "071afcab-2766-462c-9515-5948b3d2123f",
   "metadata": {},
   "outputs": [
    {
     "ename": "TypeError",
     "evalue": "test1() takes 4 positional arguments but 5 were given",
     "output_type": "error",
     "traceback": [
      "\u001b[0;31m---------------------------------------------------------------------------\u001b[0m",
      "\u001b[0;31mTypeError\u001b[0m                                 Traceback (most recent call last)",
      "Cell \u001b[0;32mIn[10], line 2\u001b[0m\n\u001b[1;32m      1\u001b[0m \u001b[38;5;66;03m#total 4args are there but we are assigning 5 it will give error\u001b[39;00m\n\u001b[0;32m----> 2\u001b[0m \u001b[43mtest1\u001b[49m\u001b[43m(\u001b[49m\u001b[38;5;241;43m1\u001b[39;49m\u001b[43m,\u001b[49m\u001b[38;5;241;43m2\u001b[39;49m\u001b[43m,\u001b[49m\u001b[38;5;241;43m3\u001b[39;49m\u001b[43m,\u001b[49m\u001b[38;5;241;43m4\u001b[39;49m\u001b[43m,\u001b[49m\u001b[38;5;241;43m6\u001b[39;49m\u001b[43m)\u001b[49m\n",
      "\u001b[0;31mTypeError\u001b[0m: test1() takes 4 positional arguments but 5 were given"
     ]
    }
   ],
   "source": [
    "#total 4args are there but we are assigning 5 it will give error\n",
    "test1(1,2,3,4,6)"
   ]
  },
  {
   "cell_type": "code",
   "execution_count": 7,
   "id": "87daec6f-60e2-4993-8b54-80c6b8371ba3",
   "metadata": {},
   "outputs": [],
   "source": [
    "def test2(*args):\n",
    "    return args"
   ]
  },
  {
   "cell_type": "code",
   "execution_count": 8,
   "id": "0e403839-759e-4233-929a-c2ba5ca6b16e",
   "metadata": {},
   "outputs": [
    {
     "data": {
      "text/plain": [
       "(1, 2, 3)"
      ]
     },
     "execution_count": 8,
     "metadata": {},
     "output_type": "execute_result"
    }
   ],
   "source": [
    "test2(1,2,3)"
   ]
  },
  {
   "cell_type": "code",
   "execution_count": 12,
   "id": "e3b2efa3-5e38-474c-bc22-e2f6a72c3bfe",
   "metadata": {},
   "outputs": [
    {
     "data": {
      "text/plain": [
       "(2, 4, 5, 6, 7, 8, 9, 0)"
      ]
     },
     "execution_count": 12,
     "metadata": {},
     "output_type": "execute_result"
    }
   ],
   "source": [
    "#we can pass n number of data\n",
    "test2(2,4,5,6,7,8,9,0)"
   ]
  },
  {
   "cell_type": "code",
   "execution_count": 13,
   "id": "370198c1-9ec2-443f-bd95-8d59bf9b2f02",
   "metadata": {},
   "outputs": [],
   "source": [
    "def test3(*args,a):\n",
    "    return args,a"
   ]
  },
  {
   "cell_type": "code",
   "execution_count": 14,
   "id": "e81e5db9-4d52-499b-a684-b4853f396461",
   "metadata": {},
   "outputs": [
    {
     "data": {
      "text/plain": [
       "((1, 2, 3, 4, 6, 8), 'sush')"
      ]
     },
     "execution_count": 14,
     "metadata": {},
     "output_type": "execute_result"
    }
   ],
   "source": [
    "test3(1,2,3,4,6,8, a=\"sush\")"
   ]
  },
  {
   "cell_type": "code",
   "execution_count": 23,
   "id": "6e49062e-48ca-4e2a-9b34-f96a4af80fa5",
   "metadata": {},
   "outputs": [],
   "source": [
    "def test4(*args):\n",
    "    l=[]\n",
    "    for i in args:\n",
    "        if type(i)==list:\n",
    "            l.append(i)\n",
    "    return l"
   ]
  },
  {
   "cell_type": "code",
   "execution_count": 24,
   "id": "ec630da4-ea80-4eeb-ab20-a3a1f9e75e2e",
   "metadata": {},
   "outputs": [
    {
     "data": {
      "text/plain": [
       "[[1, 3, 5, 7, 2, 6.8]]"
      ]
     },
     "execution_count": 24,
     "metadata": {},
     "output_type": "execute_result"
    }
   ],
   "source": [
    "test4(1,2,3,4,[1,3,5,7,2,6.8],\"gani\",(3,4,5,78))"
   ]
  },
  {
   "cell_type": "code",
   "execution_count": 28,
   "id": "1d304fd3-f408-4118-a1a6-23566f657a99",
   "metadata": {},
   "outputs": [],
   "source": [
    "def test5(*args):\n",
    "    l = []\n",
    "    for i in args:\n",
    "        if type(i)==list:\n",
    "            l.append(i)\n",
    "            \n",
    "    return l"
   ]
  },
  {
   "cell_type": "code",
   "execution_count": 29,
   "id": "85150cdc-699a-4ea6-b543-6a946d26d1e4",
   "metadata": {},
   "outputs": [
    {
     "data": {
      "text/plain": [
       "[[1, 3, 5, 7, 2, 6.8]]"
      ]
     },
     "execution_count": 29,
     "metadata": {},
     "output_type": "execute_result"
    }
   ],
   "source": [
    "test5(1,2,3,4,[1,3,5,7,2,6.8],\"gani\",(3,4,5,78))"
   ]
  },
  {
   "cell_type": "code",
   "execution_count": 30,
   "id": "d218a280-cc61-4cee-9fda-dd1a8601ecf6",
   "metadata": {},
   "outputs": [],
   "source": [
    "def test6(**kwargs):\n",
    "    return kwargs"
   ]
  },
  {
   "cell_type": "code",
   "execution_count": 31,
   "id": "f054de16-0ec5-44c3-bea2-a26fe7cbf230",
   "metadata": {},
   "outputs": [
    {
     "data": {
      "text/plain": [
       "{}"
      ]
     },
     "execution_count": 31,
     "metadata": {},
     "output_type": "execute_result"
    }
   ],
   "source": [
    "test6()"
   ]
  },
  {
   "cell_type": "code",
   "execution_count": 32,
   "id": "8d883544-fe11-4ef3-9318-449edcac5faf",
   "metadata": {},
   "outputs": [
    {
     "data": {
      "text/plain": [
       "dict"
      ]
     },
     "execution_count": 32,
     "metadata": {},
     "output_type": "execute_result"
    }
   ],
   "source": [
    "type(test6())"
   ]
  },
  {
   "cell_type": "code",
   "execution_count": 33,
   "id": "a41ceab2-7cb6-44d9-96e2-5b5fdb4fca04",
   "metadata": {},
   "outputs": [
    {
     "data": {
      "text/plain": [
       "{'a': 34, 'b': 38, 'c': 'gani', 'd': [1, 3, 4, 5], 'e': (1, 3, 5, 9, 20)}"
      ]
     },
     "execution_count": 33,
     "metadata": {},
     "output_type": "execute_result"
    }
   ],
   "source": [
    "test6(a=34,b=38,c=\"gani\",d=[1,3,4,5],e=(1,3,5,9,20))"
   ]
  },
  {
   "cell_type": "code",
   "execution_count": 37,
   "id": "b132be1f-3c40-4d2a-9daa-571724aa364d",
   "metadata": {},
   "outputs": [],
   "source": [
    "def test7(**kwargs):\n",
    "    for i in kwargs.keys():\n",
    "        if type(kwargs[i])==list:\n",
    "            return i, kwargs[i]"
   ]
  },
  {
   "cell_type": "code",
   "execution_count": 38,
   "id": "03e92e1d-bc60-4ebd-927e-8a9fca998a4f",
   "metadata": {},
   "outputs": [
    {
     "data": {
      "text/plain": [
       "('d', [1, 3, 4, 5])"
      ]
     },
     "execution_count": 38,
     "metadata": {},
     "output_type": "execute_result"
    }
   ],
   "source": [
    "test7(a=34,b=38,c=\"gani\",d=[1,3,4,5],e=(1,3,5,9,2))"
   ]
  },
  {
   "cell_type": "code",
   "execution_count": 39,
   "id": "e9337268-d7c8-4f9c-85df-0139b806aab8",
   "metadata": {},
   "outputs": [],
   "source": [
    "def test8(*args, **kwargs):\n",
    "    return args, kwargs"
   ]
  },
  {
   "cell_type": "code",
   "execution_count": 40,
   "id": "80ca0205-ac5f-494d-8d97-9e4a7eec0b10",
   "metadata": {},
   "outputs": [
    {
     "data": {
      "text/plain": [
       "((2, 4, 5, 6, 7, 8), {'a': 'jan', 'b': 18})"
      ]
     },
     "execution_count": 40,
     "metadata": {},
     "output_type": "execute_result"
    }
   ],
   "source": [
    "test8(2,4,5,6,7,8,a=\"jan\",b=18)"
   ]
  },
  {
   "cell_type": "code",
   "execution_count": null,
   "id": "7d7d7945-878e-4abb-b3a0-a8237b0db87e",
   "metadata": {},
   "outputs": [],
   "source": []
  }
 ],
 "metadata": {
  "kernelspec": {
   "display_name": "Python 3 (ipykernel)",
   "language": "python",
   "name": "python3"
  },
  "language_info": {
   "codemirror_mode": {
    "name": "ipython",
    "version": 3
   },
   "file_extension": ".py",
   "mimetype": "text/x-python",
   "name": "python",
   "nbconvert_exporter": "python",
   "pygments_lexer": "ipython3",
   "version": "3.10.8"
  }
 },
 "nbformat": 4,
 "nbformat_minor": 5
}
