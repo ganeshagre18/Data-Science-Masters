{
 "cells": [
  {
   "cell_type": "markdown",
   "id": "eb4f3808-b395-42aa-b0a3-064208f7bca0",
   "metadata": {},
   "source": [
    "INHERITANCE"
   ]
  },
  {
   "cell_type": "markdown",
   "id": "f2e87f90-aa8f-459f-a58a-a92df5f91096",
   "metadata": {},
   "source": [
    "1. Single Inheritance"
   ]
  },
  {
   "cell_type": "code",
   "execution_count": 5,
   "id": "d56dc7ad-95fc-4615-9106-2177271af1f1",
   "metadata": {},
   "outputs": [],
   "source": [
    "#inheriting the properties of parent class to child class \n",
    "#code reuseability\n",
    "#1.Single Inheritance\n",
    "class parent:\n",
    "    def test_parent(self):\n",
    "        print(\"i am parent class\")"
   ]
  },
  {
   "cell_type": "code",
   "execution_count": 6,
   "id": "6e840182-7b4e-441d-83cf-db8d62e529bf",
   "metadata": {},
   "outputs": [],
   "source": [
    "class child(parent):\n",
    "    pass"
   ]
  },
  {
   "cell_type": "code",
   "execution_count": 7,
   "id": "00fed508-4ec4-48f2-a836-bfe8eb6daff6",
   "metadata": {},
   "outputs": [],
   "source": [
    "obj_child=child()"
   ]
  },
  {
   "cell_type": "code",
   "execution_count": 8,
   "id": "70cd27e7-a036-496d-941b-d62d93c2d247",
   "metadata": {},
   "outputs": [
    {
     "name": "stdout",
     "output_type": "stream",
     "text": [
      "i am parent class\n"
     ]
    }
   ],
   "source": [
    "obj_child.test_parent()"
   ]
  },
  {
   "cell_type": "markdown",
   "id": "059a86fd-b904-4632-918b-7d331cb2531d",
   "metadata": {},
   "source": [
    "2. Multilabel Inheritance"
   ]
  },
  {
   "cell_type": "code",
   "execution_count": 11,
   "id": "a8ba0950-4a23-498f-8b52-0dbc5819e5d2",
   "metadata": {},
   "outputs": [],
   "source": [
    "class Class1:\n",
    "    def test_class1(self):\n",
    "        print(\"This is class1\")"
   ]
  },
  {
   "cell_type": "code",
   "execution_count": 12,
   "id": "3f6eb6ce-0c35-46ea-ad09-e58486eff5d0",
   "metadata": {},
   "outputs": [],
   "source": [
    "class Class2(Class1):\n",
    "    def test_class2(self):\n",
    "        print(\"this is class2\")"
   ]
  },
  {
   "cell_type": "code",
   "execution_count": 13,
   "id": "c4002a17-af39-41fe-a1d4-30df5e7b448f",
   "metadata": {},
   "outputs": [],
   "source": [
    "class Class3(Class2):\n",
    "    def test_class3(self):\n",
    "        print(\"this is class3\")"
   ]
  },
  {
   "cell_type": "code",
   "execution_count": 14,
   "id": "e17baffb-8516-4a92-9a7b-14776a3f07e6",
   "metadata": {},
   "outputs": [],
   "source": [
    "obj_class3=Class3()"
   ]
  },
  {
   "cell_type": "code",
   "execution_count": 15,
   "id": "c5024661-3f68-4bf0-b4d7-a57fbc8d1e2d",
   "metadata": {},
   "outputs": [
    {
     "name": "stdout",
     "output_type": "stream",
     "text": [
      "This is class1\n"
     ]
    }
   ],
   "source": [
    "obj_class3.test_class1()"
   ]
  },
  {
   "cell_type": "code",
   "execution_count": 16,
   "id": "47d33a16-ab0f-47e8-b30f-1c17a435f59b",
   "metadata": {},
   "outputs": [
    {
     "name": "stdout",
     "output_type": "stream",
     "text": [
      "this is class2\n"
     ]
    }
   ],
   "source": [
    "obj_class3.test_class2()"
   ]
  },
  {
   "cell_type": "code",
   "execution_count": 17,
   "id": "5d815b1a-aa53-4667-bc66-ed9b02e33d9a",
   "metadata": {},
   "outputs": [
    {
     "name": "stdout",
     "output_type": "stream",
     "text": [
      "this is class3\n"
     ]
    }
   ],
   "source": [
    "obj_class3.test_class3()"
   ]
  },
  {
   "cell_type": "markdown",
   "id": "75d2de64-7d81-414c-abb4-eefffb8965e3",
   "metadata": {},
   "source": [
    "3. Multiple Inheritance"
   ]
  },
  {
   "cell_type": "code",
   "execution_count": 19,
   "id": "6e282a06-a6f6-4397-8cf4-cf1c639ad59a",
   "metadata": {},
   "outputs": [],
   "source": [
    "class Class1:\n",
    "    def test_clss1(self):\n",
    "        print(\"this is my class1 \")"
   ]
  },
  {
   "cell_type": "code",
   "execution_count": 20,
   "id": "2341a6a7-da1b-431f-8e75-3aa1dab6098c",
   "metadata": {},
   "outputs": [],
   "source": [
    "class Class2:\n",
    "    def test2_class2(self):\n",
    "        print(\"this is class2\")"
   ]
  },
  {
   "cell_type": "code",
   "execution_count": 21,
   "id": "95ede23d-a786-405e-8456-bf8fa85c810b",
   "metadata": {},
   "outputs": [],
   "source": [
    "class Class3(Class1,Class2):\n",
    "    pass"
   ]
  },
  {
   "cell_type": "code",
   "execution_count": 22,
   "id": "0d302688-e070-488d-8d68-ebe872d436a0",
   "metadata": {},
   "outputs": [],
   "source": [
    "obj_class=Class3()"
   ]
  },
  {
   "cell_type": "code",
   "execution_count": 23,
   "id": "4bcdb37a-3178-4139-9647-a38f0f9de5dc",
   "metadata": {},
   "outputs": [
    {
     "name": "stdout",
     "output_type": "stream",
     "text": [
      "this is class2\n"
     ]
    }
   ],
   "source": [
    "obj_class.test2_class2()"
   ]
  },
  {
   "cell_type": "code",
   "execution_count": 24,
   "id": "709b475a-4025-4c48-8fc4-96cfd100ff91",
   "metadata": {},
   "outputs": [
    {
     "name": "stdout",
     "output_type": "stream",
     "text": [
      "this is my class1 \n"
     ]
    }
   ],
   "source": [
    "obj_class.test_clss1()"
   ]
  },
  {
   "cell_type": "code",
   "execution_count": null,
   "id": "c54741bb-af82-4175-ba40-cae38ba31ff1",
   "metadata": {},
   "outputs": [],
   "source": []
  }
 ],
 "metadata": {
  "kernelspec": {
   "display_name": "Python 3 (ipykernel)",
   "language": "python",
   "name": "python3"
  },
  "language_info": {
   "codemirror_mode": {
    "name": "ipython",
    "version": 3
   },
   "file_extension": ".py",
   "mimetype": "text/x-python",
   "name": "python",
   "nbconvert_exporter": "python",
   "pygments_lexer": "ipython3",
   "version": "3.10.8"
  }
 },
 "nbformat": 4,
 "nbformat_minor": 5
}
