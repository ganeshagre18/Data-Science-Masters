{
 "cells": [
  {
   "cell_type": "code",
   "execution_count": 1,
   "id": "4668fd8b-c4e7-4595-9375-4cfc7bb9e6e2",
   "metadata": {},
   "outputs": [],
   "source": [
    "f=open(\"first.txt\",'w')"
   ]
  },
  {
   "cell_type": "code",
   "execution_count": 2,
   "id": "a3b2ee1b-0b7d-4897-a9db-805147de57c1",
   "metadata": {},
   "outputs": [
    {
     "data": {
      "text/plain": [
       "'/home/jovyan/work'"
      ]
     },
     "execution_count": 2,
     "metadata": {},
     "output_type": "execute_result"
    }
   ],
   "source": [
    "pwd"
   ]
  },
  {
   "cell_type": "code",
   "execution_count": 3,
   "id": "a47a8127-67b9-4f1f-a7d1-cda19f285e05",
   "metadata": {},
   "outputs": [
    {
     "name": "stdout",
     "output_type": "stream",
     "text": [
      "'Day10 Decorator, Class methods,Static methods.ipynb'\n",
      "'Day 10 Special method(magic,dunder).ipynb'\n",
      "'Day11 Property Decorators .ipynb'\n",
      "'Day12 Working with files.ipynb'\n",
      " Day1.ipynb\n",
      " Day_2_Control_Flow.ipynb\n",
      "'Day2 decision making statements,looping statements.ipynb'\n",
      " Day3.ipynb\n",
      " Day4.ipynb\n",
      "'Day 5 Tuples,sets,dictinory,.ipynb'\n",
      "'Day6 Function.ipynb'\n",
      "'Day6 Function part2.ipynb'\n",
      "'Day6.Generator fonction .ipynb'\n",
      "'Day7 Lambda function.ipynb'\n",
      "'Day7Map,Reduse,Filter .ipynb'\n",
      "'Day8 Oops.ipynb'\n",
      " Day9Encapsulation.ipynb\n",
      "'Day9 Inheritance.ipynb'\n",
      "'Day9 Polymorphism.ipynb'\n",
      " first.txt\n",
      " README.md\n",
      " sample-code.ipynb\n",
      " Untitled1.ipynb\n"
     ]
    }
   ],
   "source": [
    "ls"
   ]
  },
  {
   "cell_type": "code",
   "execution_count": 4,
   "id": "8c161984-90c5-49ee-9491-9377ca058c00",
   "metadata": {},
   "outputs": [
    {
     "data": {
      "text/plain": [
       "719"
      ]
     },
     "execution_count": 4,
     "metadata": {},
     "output_type": "execute_result"
    }
   ],
   "source": [
    "f.write(\"Data Science Masters course is highly curated and uniquely designed according to the latest industry standards. This program instills students the skills essential to knowledge discovery efforts to identify standard, novel, and truly differentiated solutions and decision-making, including skills in managing, querying, analyzing, visualizing, and extracting meaning from extremely large data sets. This trending program provides students with the statistical, mathematical and computational skills needed to meet the large-scale data science challenges of today's professional world. You will learn all the stack required to work in data science industry including cloud infrastructure and real-time industry projects.\")"
   ]
  },
  {
   "cell_type": "code",
   "execution_count": 5,
   "id": "5dfb831f-1889-465f-af0e-bdf09529b7c3",
   "metadata": {},
   "outputs": [],
   "source": [
    "f.close()"
   ]
  },
  {
   "cell_type": "code",
   "execution_count": 6,
   "id": "be186b2d-f770-4e76-87c7-5667bde13538",
   "metadata": {},
   "outputs": [],
   "source": [
    "data= open(\"first.txt\",\"r\")"
   ]
  },
  {
   "cell_type": "code",
   "execution_count": 7,
   "id": "a896bf82-a470-4a44-84c2-f347f0dce14c",
   "metadata": {},
   "outputs": [
    {
     "data": {
      "text/plain": [
       "\"Data Science Masters course is highly curated and uniquely designed according to the latest industry standards. This program instills students the skills essential to knowledge discovery efforts to identify standard, novel, and truly differentiated solutions and decision-making, including skills in managing, querying, analyzing, visualizing, and extracting meaning from extremely large data sets. This trending program provides students with the statistical, mathematical and computational skills needed to meet the large-scale data science challenges of today's professional world. You will learn all the stack required to work in data science industry including cloud infrastructure and real-time industry projects.\""
      ]
     },
     "execution_count": 7,
     "metadata": {},
     "output_type": "execute_result"
    }
   ],
   "source": [
    "data.read()"
   ]
  },
  {
   "cell_type": "code",
   "execution_count": 8,
   "id": "25f6e117-eaf5-4719-8e38-f275a9e2ef51",
   "metadata": {},
   "outputs": [
    {
     "data": {
      "text/plain": [
       "''"
      ]
     },
     "execution_count": 8,
     "metadata": {},
     "output_type": "execute_result"
    }
   ],
   "source": [
    "data.read()"
   ]
  },
  {
   "cell_type": "code",
   "execution_count": 17,
   "id": "d1a2afe6-4731-40f0-b2f4-5ec3de90a7d7",
   "metadata": {},
   "outputs": [
    {
     "data": {
      "text/plain": [
       "0"
      ]
     },
     "execution_count": 17,
     "metadata": {},
     "output_type": "execute_result"
    }
   ],
   "source": [
    "data.seek(0)\n",
    "#reset"
   ]
  },
  {
   "cell_type": "code",
   "execution_count": 18,
   "id": "186a14a3-5269-4a44-9ff9-663846e153f6",
   "metadata": {},
   "outputs": [
    {
     "data": {
      "text/plain": [
       "\"Data Science Masters course is highly curated and uniquely designed according to the latest industry standards. This program instills students the skills essential to knowledge discovery efforts to identify standard, novel, and truly differentiated solutions and decision-making, including skills in managing, querying, analyzing, visualizing, and extracting meaning from extremely large data sets. This trending program provides students with the statistical, mathematical and computational skills needed to meet the large-scale data science challenges of today's professional world. You will learn all the stack required to work in data science industry including cloud infrastructure and real-time industry projects.\""
      ]
     },
     "execution_count": 18,
     "metadata": {},
     "output_type": "execute_result"
    }
   ],
   "source": [
    "data.read()"
   ]
  },
  {
   "cell_type": "code",
   "execution_count": 19,
   "id": "98acd281-ca26-4bed-b528-e45fdec65e5d",
   "metadata": {},
   "outputs": [
    {
     "data": {
      "text/plain": [
       "''"
      ]
     },
     "execution_count": 19,
     "metadata": {},
     "output_type": "execute_result"
    }
   ],
   "source": [
    "data.read()\n",
    "#cursor will come at last place"
   ]
  },
  {
   "cell_type": "code",
   "execution_count": 20,
   "id": "6dffbeb9-1559-41a1-882a-793ad6582305",
   "metadata": {},
   "outputs": [
    {
     "data": {
      "text/plain": [
       "0"
      ]
     },
     "execution_count": 20,
     "metadata": {},
     "output_type": "execute_result"
    }
   ],
   "source": [
    "data.seek(0)\n",
    "#reset"
   ]
  },
  {
   "cell_type": "code",
   "execution_count": 21,
   "id": "2b6ea768-4744-4c02-83a1-5b45b5449632",
   "metadata": {},
   "outputs": [
    {
     "data": {
      "text/plain": [
       "100"
      ]
     },
     "execution_count": 21,
     "metadata": {},
     "output_type": "execute_result"
    }
   ],
   "source": [
    "data.seek(100)\n",
    "#start from 100th place"
   ]
  },
  {
   "cell_type": "code",
   "execution_count": 22,
   "id": "8282e4fb-d2cb-43d7-b9ea-217811645301",
   "metadata": {},
   "outputs": [
    {
     "data": {
      "text/plain": [
       "\" standards. This program instills students the skills essential to knowledge discovery efforts to identify standard, novel, and truly differentiated solutions and decision-making, including skills in managing, querying, analyzing, visualizing, and extracting meaning from extremely large data sets. This trending program provides students with the statistical, mathematical and computational skills needed to meet the large-scale data science challenges of today's professional world. You will learn all the stack required to work in data science industry including cloud infrastructure and real-time industry projects.\""
      ]
     },
     "execution_count": 22,
     "metadata": {},
     "output_type": "execute_result"
    }
   ],
   "source": [
    "data.read()"
   ]
  },
  {
   "cell_type": "code",
   "execution_count": 23,
   "id": "27735b52-cab8-45e6-bab7-45b6aa5c7b68",
   "metadata": {},
   "outputs": [],
   "source": [
    "data1=open(\"first.txt\",\"r\")"
   ]
  },
  {
   "cell_type": "code",
   "execution_count": 24,
   "id": "4dfbd44b-908a-4fc9-81f4-dc62d13e6bb5",
   "metadata": {},
   "outputs": [
    {
     "name": "stdout",
     "output_type": "stream",
     "text": [
      "Data Science Masters course is highly curated and uniquely designed according to the latest industry standards. This program instills students the skills essential to knowledge discovery efforts to identify standard, novel, and truly differentiated solutions and decision-making, including skills in managing, querying, analyzing, visualizing, and extracting meaning from extremely large data sets. This trending program provides students with the statistical, mathematical and computational skills needed to meet the large-scale data science challenges of today's professional world. You will learn all the stack required to work in data science industry including cloud infrastructure and real-time industry projects.\n"
     ]
    }
   ],
   "source": [
    "for i in data1:\n",
    "    print(i)"
   ]
  },
  {
   "cell_type": "code",
   "execution_count": 27,
   "id": "ae3766ad-9d9d-4bca-acd2-d9d473bd6ce0",
   "metadata": {},
   "outputs": [],
   "source": [
    "#file size \n",
    "import os"
   ]
  },
  {
   "cell_type": "code",
   "execution_count": 29,
   "id": "495ac6a6-bbc4-4592-8db9-7905243e83fb",
   "metadata": {},
   "outputs": [
    {
     "data": {
      "text/plain": [
       "719"
      ]
     },
     "execution_count": 29,
     "metadata": {},
     "output_type": "execute_result"
    }
   ],
   "source": [
    "os.path.getsize(\"first.txt\")\n",
    "#os is module"
   ]
  },
  {
   "cell_type": "code",
   "execution_count": 30,
   "id": "67ca9b88-1651-4ff6-87c8-24fc8030cb3b",
   "metadata": {},
   "outputs": [],
   "source": [
    "#copy of file\n",
    "import shutil"
   ]
  },
  {
   "cell_type": "code",
   "execution_count": 32,
   "id": "fb06d5c0-8cd8-40af-b2bc-2538a2370f7f",
   "metadata": {},
   "outputs": [
    {
     "data": {
      "text/plain": [
       "'new_first.text'"
      ]
     },
     "execution_count": 32,
     "metadata": {},
     "output_type": "execute_result"
    }
   ],
   "source": [
    "shutil.copy(\"first.txt\",\"new_first.text\")"
   ]
  },
  {
   "cell_type": "code",
   "execution_count": 33,
   "id": "a60e7bca-dbd8-49ee-acac-994f62c5f4ec",
   "metadata": {},
   "outputs": [],
   "source": [
    "#remove file\n",
    "os.remove(\"first.txt\")"
   ]
  },
  {
   "cell_type": "code",
   "execution_count": 34,
   "id": "d876a178-b11c-482a-80d9-433f2ca7439e",
   "metadata": {},
   "outputs": [
    {
     "name": "stdout",
     "output_type": "stream",
     "text": [
      "Data Science Masters course is highly curated and uniquely designed according to the latest industry standards. This program instills students the skills essential to knowledge discovery efforts to identify standard, novel, and truly differentiated solutions and decision-making, including skills in managing, querying, analyzing, visualizing, and extracting meaning from extremely large data sets. This trending program provides students with the statistical, mathematical and computational skills needed to meet the large-scale data science challenges of today's professional world. You will learn all the stack required to work in data science industry including cloud infrastructure and real-time industry projects.\n"
     ]
    }
   ],
   "source": [
    "with open(\"new_first.text\",\"r\") as f:\n",
    "    print(f.read())"
   ]
  },
  {
   "cell_type": "code",
   "execution_count": 35,
   "id": "1fc4ff95-a4cc-4b85-af3e-5011ce10665c",
   "metadata": {},
   "outputs": [],
   "source": [
    "#rename file\n",
    "os.rename(\"new_first.text\",\"first1.txt\")"
   ]
  },
  {
   "cell_type": "code",
   "execution_count": null,
   "id": "497cc02d-edce-47b7-a668-29c8f7b3876e",
   "metadata": {},
   "outputs": [],
   "source": []
  }
 ],
 "metadata": {
  "kernelspec": {
   "display_name": "Python 3 (ipykernel)",
   "language": "python",
   "name": "python3"
  },
  "language_info": {
   "codemirror_mode": {
    "name": "ipython",
    "version": 3
   },
   "file_extension": ".py",
   "mimetype": "text/x-python",
   "name": "python",
   "nbconvert_exporter": "python",
   "pygments_lexer": "ipython3",
   "version": "3.10.8"
  }
 },
 "nbformat": 4,
 "nbformat_minor": 5
}
