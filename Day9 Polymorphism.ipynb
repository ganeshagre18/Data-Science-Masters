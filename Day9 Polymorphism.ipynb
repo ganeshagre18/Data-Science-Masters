{
 "cells": [
  {
   "cell_type": "markdown",
   "id": "c23cace5-fa8b-4ad6-bf39-57a41aaa9f2c",
   "metadata": {},
   "source": [
    "POLYMORPHISM"
   ]
  },
  {
   "cell_type": "code",
   "execution_count": 5,
   "id": "d3655c0d-f0c4-4545-b026-27cd6aefc829",
   "metadata": {},
   "outputs": [],
   "source": [
    "def test(a,b):\n",
    "    return a+b"
   ]
  },
  {
   "cell_type": "code",
   "execution_count": 6,
   "id": "686ce955-b329-4166-8e55-b52130aec9d5",
   "metadata": {},
   "outputs": [
    {
     "data": {
      "text/plain": [
       "9"
      ]
     },
     "execution_count": 6,
     "metadata": {},
     "output_type": "execute_result"
    }
   ],
   "source": [
    "test(4,5)"
   ]
  },
  {
   "cell_type": "code",
   "execution_count": 9,
   "id": "73dde235-116d-4453-bc4b-b7091ddf9794",
   "metadata": {},
   "outputs": [
    {
     "data": {
      "text/plain": [
       "'ganesh agre'"
      ]
     },
     "execution_count": 9,
     "metadata": {},
     "output_type": "execute_result"
    }
   ],
   "source": [
    "test(\"ganesh \" , \"agre\")"
   ]
  },
  {
   "cell_type": "code",
   "execution_count": 10,
   "id": "eee12959-d842-4d47-8b8b-d2238ad01452",
   "metadata": {},
   "outputs": [
    {
     "data": {
      "text/plain": [
       "[1, 2, 4, 5, 7, 4, 7, 9]"
      ]
     },
     "execution_count": 10,
     "metadata": {},
     "output_type": "execute_result"
    }
   ],
   "source": [
    "test([1,2,4,5],[7,4,7,9])"
   ]
  },
  {
   "cell_type": "code",
   "execution_count": 11,
   "id": "e4410cdb-2e02-4fc1-9234-5603e8eb5944",
   "metadata": {},
   "outputs": [],
   "source": [
    "class data_science:\n",
    "    def syllabus(self):\n",
    "        print(\"this is my method for data science syllubus\")"
   ]
  },
  {
   "cell_type": "code",
   "execution_count": 13,
   "id": "a574dabd-bcb3-45ab-acb8-836c839d503f",
   "metadata": {},
   "outputs": [],
   "source": [
    "class web_Dev:\n",
    "    def syllabus(self):\n",
    "        print(\"this is my method of web_dev syllabus\")"
   ]
  },
  {
   "cell_type": "code",
   "execution_count": 22,
   "id": "593124b3-be13-4b86-80b2-c2c7ed01cb17",
   "metadata": {},
   "outputs": [],
   "source": [
    "def class_parcer(obj_class):\n",
    "    for i in obj_class:\n",
    "        i.syllabus()"
   ]
  },
  {
   "cell_type": "code",
   "execution_count": 23,
   "id": "d984bf4a-c63e-4cb4-b1d9-df3decea0c49",
   "metadata": {},
   "outputs": [],
   "source": [
    "obj_data_science=data_science()"
   ]
  },
  {
   "cell_type": "code",
   "execution_count": 24,
   "id": "7f13a9a6-070f-457e-876f-f717533c9c46",
   "metadata": {},
   "outputs": [],
   "source": [
    "obj_web_Dev=web_Dev()"
   ]
  },
  {
   "cell_type": "code",
   "execution_count": 26,
   "id": "60b79318-1d11-4af6-b86e-4aee19228d9a",
   "metadata": {},
   "outputs": [],
   "source": [
    "obj_class=[obj_data_science,obj_web_Dev]"
   ]
  },
  {
   "cell_type": "code",
   "execution_count": 27,
   "id": "39170cb5-f952-41a7-b6f2-bb65e2bdc68c",
   "metadata": {},
   "outputs": [
    {
     "name": "stdout",
     "output_type": "stream",
     "text": [
      "this is my method for data science syllubus\n",
      "this is my method of web_dev syllabus\n"
     ]
    }
   ],
   "source": [
    "class_parcer(obj_class)"
   ]
  },
  {
   "cell_type": "code",
   "execution_count": null,
   "id": "dab59179-6bc9-404e-b096-1b3d375f40c3",
   "metadata": {},
   "outputs": [],
   "source": []
  }
 ],
 "metadata": {
  "kernelspec": {
   "display_name": "Python 3 (ipykernel)",
   "language": "python",
   "name": "python3"
  },
  "language_info": {
   "codemirror_mode": {
    "name": "ipython",
    "version": 3
   },
   "file_extension": ".py",
   "mimetype": "text/x-python",
   "name": "python",
   "nbconvert_exporter": "python",
   "pygments_lexer": "ipython3",
   "version": "3.10.8"
  }
 },
 "nbformat": 4,
 "nbformat_minor": 5
}
