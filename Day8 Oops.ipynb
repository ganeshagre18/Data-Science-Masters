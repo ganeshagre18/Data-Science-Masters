{
 "cells": [
  {
   "cell_type": "markdown",
   "id": "ecfef2d0-51df-46c4-ac5f-3b8216c91bb0",
   "metadata": {},
   "source": [
    "\"OOPS Stands for Object Oriented Programming System\""
   ]
  },
  {
   "cell_type": "code",
   "execution_count": 1,
   "id": "cbfc3e7d-e76c-45a8-afda-1f31f4faac0d",
   "metadata": {},
   "outputs": [],
   "source": [
    "a=1"
   ]
  },
  {
   "cell_type": "code",
   "execution_count": 2,
   "id": "5a564b33-7cfd-411d-bfd8-cdc20cbda586",
   "metadata": {},
   "outputs": [
    {
     "name": "stdout",
     "output_type": "stream",
     "text": [
      "<class 'int'>\n"
     ]
    }
   ],
   "source": [
    "print(type(a))"
   ]
  },
  {
   "cell_type": "code",
   "execution_count": 3,
   "id": "5af05305-7dcd-4dfa-b106-38cf52a0abcf",
   "metadata": {},
   "outputs": [
    {
     "name": "stdout",
     "output_type": "stream",
     "text": [
      "<class 'str'>\n"
     ]
    }
   ],
   "source": [
    "print(type(\"pwskills\"))"
   ]
  },
  {
   "cell_type": "code",
   "execution_count": 5,
   "id": "294e0f60-b0b6-4ad4-b35f-1a41fce72fb5",
   "metadata": {},
   "outputs": [],
   "source": [
    "class My_class1:\n",
    "    pass"
   ]
  },
  {
   "cell_type": "code",
   "execution_count": 17,
   "id": "ed51c3d8-20e3-4f34-b741-773ac3cd6374",
   "metadata": {},
   "outputs": [],
   "source": [
    "class Pwskills:\n",
    "    def welcome(self):\n",
    "        print(\"welcome to pwskills\")"
   ]
  },
  {
   "cell_type": "code",
   "execution_count": 21,
   "id": "200a759d-5ad2-48c2-b85d-064cc59e7775",
   "metadata": {},
   "outputs": [],
   "source": [
    "rohan = Pwskills()"
   ]
  },
  {
   "cell_type": "code",
   "execution_count": 22,
   "id": "b8418a9b-4b84-43df-ae20-fe621fd62cb6",
   "metadata": {},
   "outputs": [
    {
     "name": "stdout",
     "output_type": "stream",
     "text": [
      "welcome to pwskills\n"
     ]
    }
   ],
   "source": [
    "rohan.welcome()"
   ]
  },
  {
   "cell_type": "code",
   "execution_count": 23,
   "id": "f7aeaf44-4409-4257-ad96-565b9b3dd6be",
   "metadata": {},
   "outputs": [],
   "source": [
    "ganesh=Pwskills()"
   ]
  },
  {
   "cell_type": "code",
   "execution_count": 24,
   "id": "e14787c9-cc5c-42d0-884e-840f591bab27",
   "metadata": {},
   "outputs": [
    {
     "name": "stdout",
     "output_type": "stream",
     "text": [
      "welcome to pwskills\n"
     ]
    }
   ],
   "source": [
    "ganesh.welcome()"
   ]
  },
  {
   "cell_type": "code",
   "execution_count": 27,
   "id": "6f512537-4d0b-43d6-8fb7-373ab20e4cb3",
   "metadata": {},
   "outputs": [],
   "source": [
    "#constructors\n",
    "class pwskills1:\n",
    "    def __init__(self,student_id,email,phone_number):\n",
    "        self.student_id=student_id\n",
    "        self.email_id=email\n",
    "        self.phone_number=phone_number\n",
    "        \n",
    "    def student_details(self):\n",
    "        return self.student_id,self.email_id,self.phone_number"
   ]
  },
  {
   "cell_type": "code",
   "execution_count": 28,
   "id": "3270d0a5-e273-4802-a236-1e19d5b7edc9",
   "metadata": {},
   "outputs": [],
   "source": [
    "rohan=pwskills1(1910,\"rohan@gmail.com\",90120)"
   ]
  },
  {
   "cell_type": "code",
   "execution_count": 29,
   "id": "0af7e0bf-593d-4bd2-a2bf-15a2970cc32e",
   "metadata": {},
   "outputs": [
    {
     "data": {
      "text/plain": [
       "(1910, 'rohan@gmail.com', 90120)"
      ]
     },
     "execution_count": 29,
     "metadata": {},
     "output_type": "execute_result"
    }
   ],
   "source": [
    "rohan.student_details()"
   ]
  },
  {
   "cell_type": "code",
   "execution_count": 31,
   "id": "d3c9db97-40d3-4b72-a5ba-a5033722ba53",
   "metadata": {},
   "outputs": [
    {
     "data": {
      "text/plain": [
       "1910"
      ]
     },
     "execution_count": 31,
     "metadata": {},
     "output_type": "execute_result"
    }
   ],
   "source": [
    "rohan.student_id"
   ]
  },
  {
   "cell_type": "code",
   "execution_count": 32,
   "id": "6a44bb81-678e-4c11-b487-cb40f0c8afde",
   "metadata": {},
   "outputs": [],
   "source": [
    "ganesh=pwskills1(1234,\"ganesh@gmail.com\",9018301)"
   ]
  },
  {
   "cell_type": "code",
   "execution_count": 33,
   "id": "1a99a23f-063b-4c41-b73b-6afe4662b9b0",
   "metadata": {},
   "outputs": [
    {
     "data": {
      "text/plain": [
       "(1234, 'ganesh@gmail.com', 9018301)"
      ]
     },
     "execution_count": 33,
     "metadata": {},
     "output_type": "execute_result"
    }
   ],
   "source": [
    "ganesh.student_details()"
   ]
  },
  {
   "cell_type": "code",
   "execution_count": 45,
   "id": "1ffcb0cf-b64f-41bf-8403-e75b4f1f0687",
   "metadata": {},
   "outputs": [],
   "source": [
    "class Employees:\n",
    "    def __init__(aan,emp_id,experience,domain):\n",
    "        aan.employee_id=emp_id\n",
    "        aan.experince=experience\n",
    "        aan.domain=domain\n",
    "    def details(aan):\n",
    "        return aan.employee_id,aan.experince,aan.domain"
   ]
  },
  {
   "cell_type": "code",
   "execution_count": 47,
   "id": "0edaf2e9-0401-4661-b5a7-098c348f27b3",
   "metadata": {},
   "outputs": [],
   "source": [
    "sudharshan=Employees(189012,10,\"developer\")"
   ]
  },
  {
   "cell_type": "code",
   "execution_count": 49,
   "id": "160164c0-3393-4e7c-9089-c9afe9febb78",
   "metadata": {},
   "outputs": [
    {
     "data": {
      "text/plain": [
       "(189012, 10, 'developer')"
      ]
     },
     "execution_count": 49,
     "metadata": {},
     "output_type": "execute_result"
    }
   ],
   "source": [
    "sudharshan.details()"
   ]
  },
  {
   "cell_type": "code",
   "execution_count": null,
   "id": "ff4473fd-7ced-4c51-89d6-6806b217605b",
   "metadata": {},
   "outputs": [],
   "source": []
  }
 ],
 "metadata": {
  "kernelspec": {
   "display_name": "Python 3 (ipykernel)",
   "language": "python",
   "name": "python3"
  },
  "language_info": {
   "codemirror_mode": {
    "name": "ipython",
    "version": 3
   },
   "file_extension": ".py",
   "mimetype": "text/x-python",
   "name": "python",
   "nbconvert_exporter": "python",
   "pygments_lexer": "ipython3",
   "version": "3.10.8"
  }
 },
 "nbformat": 4,
 "nbformat_minor": 5
}
