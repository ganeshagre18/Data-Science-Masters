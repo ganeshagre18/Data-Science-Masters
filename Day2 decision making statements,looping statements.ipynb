{
 "cells": [
  {
   "cell_type": "code",
   "execution_count": 1,
   "id": "8f2c2670-4f20-4c39-b265-1abcde18a7aa",
   "metadata": {},
   "outputs": [],
   "source": [
    "age=32"
   ]
  },
  {
   "cell_type": "code",
   "execution_count": 2,
   "id": "943ef3c1-4234-43ed-8f02-31a16e7fc3b1",
   "metadata": {},
   "outputs": [
    {
     "name": "stdout",
     "output_type": "stream",
     "text": [
      "My age is : 32\n"
     ]
    }
   ],
   "source": [
    "print(\"My age is :\",age)"
   ]
  },
  {
   "cell_type": "code",
   "execution_count": 3,
   "id": "a6549198-8f5a-4eb2-b648-a642e5d10698",
   "metadata": {},
   "outputs": [
    {
     "name": "stdout",
     "output_type": "stream",
     "text": [
      "my age is:32\n"
     ]
    }
   ],
   "source": [
    "print(f\"my age is:{age}\")"
   ]
  },
  {
   "cell_type": "code",
   "execution_count": 5,
   "id": "aef4a2ab-abb9-4ddd-8528-41db95034a71",
   "metadata": {},
   "outputs": [
    {
     "name": "stdout",
     "output_type": "stream",
     "text": [
      "<class 'int'>\n"
     ]
    }
   ],
   "source": [
    "print(type(age))"
   ]
  },
  {
   "cell_type": "code",
   "execution_count": 6,
   "id": "545e96e9-75ea-4a86-bbf4-49ceb677b38c",
   "metadata": {},
   "outputs": [],
   "source": [
    "name=\"ganesh\"\n",
    "age=22"
   ]
  },
  {
   "cell_type": "code",
   "execution_count": 8,
   "id": "6da48bc1-b75e-4587-b42e-20e98b6a1a91",
   "metadata": {},
   "outputs": [
    {
     "name": "stdout",
     "output_type": "stream",
     "text": [
      "my name is ganesh and my age is 22\n"
     ]
    }
   ],
   "source": [
    "print(f\"my name is {name} and my age is {age}\")"
   ]
  },
  {
   "cell_type": "code",
   "execution_count": 9,
   "id": "dd63ff10-8263-4b27-86d0-506285020ac9",
   "metadata": {},
   "outputs": [
    {
     "name": "stdout",
     "output_type": "stream",
     "text": [
      "my name is ganesh and my age is 22\n"
     ]
    }
   ],
   "source": [
    "print(\"my name is {} and my age is {}\".format(name,age))"
   ]
  },
  {
   "cell_type": "code",
   "execution_count": 10,
   "id": "d5d1cd3d-5340-49c5-b8c7-04c85b183431",
   "metadata": {},
   "outputs": [],
   "source": [
    "name=\"Ganesh\"\n",
    "degree=\"BE\"\n",
    "age=22\n",
    "college=\"GNDECB\"\n",
    "city=\"Bidar\""
   ]
  },
  {
   "cell_type": "code",
   "execution_count": 11,
   "id": "3e394547-1d7e-41c3-a6a1-d795dc0dd2c6",
   "metadata": {},
   "outputs": [
    {
     "name": "stdout",
     "output_type": "stream",
     "text": [
      "my name is Ganesh i am from Bidar i have done BE from GNDECB, my age is 22\n"
     ]
    }
   ],
   "source": [
    "print(f\"my name is {name} i am from {city} i have done {degree} from {college}, my age is {age}\") "
   ]
  },
  {
   "cell_type": "markdown",
   "id": "0dc1c83b-66b1-45a4-8f54-aa6d3a6d509a",
   "metadata": {},
   "source": [
    "DECISION MAKING STATEMENTS\n",
    "\n",
    "1.if\n",
    "\n",
    "2.if else\n",
    "\n",
    "3.if elif else\n",
    "\n",
    "4.nested if\n",
    "\n",
    "5.single statement suites\n"
   ]
  },
  {
   "cell_type": "code",
   "execution_count": 13,
   "id": "1db47d93-135d-44e8-b788-e8730ed0857d",
   "metadata": {},
   "outputs": [
    {
     "name": "stdout",
     "output_type": "stream",
     "text": [
      "yor are eligible to vote\n"
     ]
    }
   ],
   "source": [
    "#if statemetns\n",
    "age =18\n",
    "if age >=18:\n",
    "    print(\"yor are eligible to vote\")"
   ]
  },
  {
   "cell_type": "code",
   "execution_count": 14,
   "id": "7a38c262-21b2-4893-95b8-75a01f16bcab",
   "metadata": {},
   "outputs": [
    {
     "name": "stdin",
     "output_type": "stream",
     "text": [
      " Gani\n"
     ]
    },
    {
     "data": {
      "text/plain": [
       "'Gani'"
      ]
     },
     "execution_count": 14,
     "metadata": {},
     "output_type": "execute_result"
    }
   ],
   "source": [
    "input()"
   ]
  },
  {
   "cell_type": "code",
   "execution_count": 19,
   "id": "c70c6462-34cb-414c-bf9a-e874b97e0384",
   "metadata": {},
   "outputs": [
    {
     "name": "stdin",
     "output_type": "stream",
     "text": [
      " 1\n"
     ]
    },
    {
     "data": {
      "text/plain": [
       "str"
      ]
     },
     "execution_count": 19,
     "metadata": {},
     "output_type": "execute_result"
    }
   ],
   "source": [
    "type(input())"
   ]
  },
  {
   "cell_type": "code",
   "execution_count": 20,
   "id": "3ecd7dc9-ca91-434b-90e0-72456c723ddf",
   "metadata": {},
   "outputs": [
    {
     "name": "stdin",
     "output_type": "stream",
     "text": [
      "enter the name Ganesh\n"
     ]
    }
   ],
   "source": [
    "name=input(\"enter the name\")"
   ]
  },
  {
   "cell_type": "code",
   "execution_count": 21,
   "id": "b410331e-f432-4e40-9925-67b6294630e9",
   "metadata": {},
   "outputs": [
    {
     "name": "stdout",
     "output_type": "stream",
     "text": [
      "Ganesh\n"
     ]
    }
   ],
   "source": [
    "print(name)"
   ]
  },
  {
   "cell_type": "code",
   "execution_count": 24,
   "id": "bb618099-47fc-4ac7-a579-3cbf59daf28e",
   "metadata": {},
   "outputs": [
    {
     "name": "stdin",
     "output_type": "stream",
     "text": [
      "enter the number 2\n"
     ]
    }
   ],
   "source": [
    "a=int(input(\"enter the number\"))\n"
   ]
  },
  {
   "cell_type": "code",
   "execution_count": 29,
   "id": "3e95d560-b2a0-4586-bbf8-db1c9c5eedd1",
   "metadata": {},
   "outputs": [
    {
     "name": "stdout",
     "output_type": "stream",
     "text": [
      "equal\n"
     ]
    }
   ],
   "source": [
    "if a ==2:\n",
    "    print(\"equal\")"
   ]
  },
  {
   "cell_type": "code",
   "execution_count": 30,
   "id": "56dc7241-8b09-410b-b85e-095a6bba6f3e",
   "metadata": {},
   "outputs": [
    {
     "name": "stdin",
     "output_type": "stream",
     "text": [
      "enter your age 19\n"
     ]
    },
    {
     "name": "stdout",
     "output_type": "stream",
     "text": [
      "you are young\n"
     ]
    }
   ],
   "source": [
    "age=int(input(\"enter your age\"))\n",
    "if age>=18 and age<=45:\n",
    "    print(\"you are young\")"
   ]
  },
  {
   "cell_type": "code",
   "execution_count": 31,
   "id": "cb830681-144b-4c6c-bc20-ea8f05136d20",
   "metadata": {},
   "outputs": [
    {
     "name": "stdin",
     "output_type": "stream",
     "text": [
      "enter your age 90\n"
     ]
    }
   ],
   "source": [
    "age=int(input(\"enter your age\"))\n",
    "if age>=18 and age<=45:\n",
    "    print(\"you are young\")"
   ]
  },
  {
   "cell_type": "code",
   "execution_count": 1,
   "id": "70467f4f-2d71-480a-b81e-dd6c2efb36aa",
   "metadata": {},
   "outputs": [
    {
     "ename": "ZeroDivisionError",
     "evalue": "division by zero",
     "output_type": "error",
     "traceback": [
      "\u001b[0;31m---------------------------------------------------------------------------\u001b[0m",
      "\u001b[0;31mZeroDivisionError\u001b[0m                         Traceback (most recent call last)",
      "Cell \u001b[0;32mIn[1], line 1\u001b[0m\n\u001b[0;32m----> 1\u001b[0m \u001b[38;5;241;43m1\u001b[39;49m\u001b[38;5;241;43m/\u001b[39;49m\u001b[38;5;28;43;01mFalse\u001b[39;49;00m\n",
      "\u001b[0;31mZeroDivisionError\u001b[0m: division by zero"
     ]
    }
   ],
   "source": [
    "1/False"
   ]
  },
  {
   "cell_type": "code",
   "execution_count": 2,
   "id": "70d9fa60-f4b0-42a2-af69-41af831d11af",
   "metadata": {},
   "outputs": [
    {
     "data": {
      "text/plain": [
       "(-1+3j)"
      ]
     },
     "execution_count": 2,
     "metadata": {},
     "output_type": "execute_result"
    }
   ],
   "source": [
    "num1= 23\n",
    "\n",
    "num2= 44\n",
    "\n",
    "num2= 2+3j\n",
    "\n",
    "num1= num2.imag\n",
    "\n",
    "num2-num1"
   ]
  },
  {
   "cell_type": "markdown",
   "id": "a9454c00-93fe-477c-a09b-9debf6616906",
   "metadata": {},
   "source": [
    "if else"
   ]
  },
  {
   "cell_type": "code",
   "execution_count": 10,
   "id": "16683093-9c62-413f-a571-ca81b64f4618",
   "metadata": {},
   "outputs": [
    {
     "name": "stdin",
     "output_type": "stream",
     "text": [
      "enter your age 25\n"
     ]
    },
    {
     "name": "stdout",
     "output_type": "stream",
     "text": [
      "you are young\n"
     ]
    }
   ],
   "source": [
    "age = int(input(\"enter your age\"))\n",
    "if age>=18 and age<=45:\n",
    "    print(\"you are young\")\n",
    "else:\n",
    "        print(\"yor are old now\")"
   ]
  },
  {
   "cell_type": "code",
   "execution_count": 11,
   "id": "ab308786-3c29-44e1-8d5d-06eae5e8047e",
   "metadata": {},
   "outputs": [
    {
     "name": "stdin",
     "output_type": "stream",
     "text": [
      "type a number 100\n"
     ]
    },
    {
     "name": "stdout",
     "output_type": "stream",
     "text": [
      "even number\n"
     ]
    }
   ],
   "source": [
    "a=int(input(\"type a number\"))\n",
    "if a%2==0 :\n",
    "    print(\"even number\")\n",
    "else:\n",
    "    print(\"odd number\")"
   ]
  },
  {
   "cell_type": "code",
   "execution_count": 12,
   "id": "c73c4810-19e6-4c95-899a-12e47eb2b8cf",
   "metadata": {},
   "outputs": [
    {
     "data": {
      "text/plain": [
       "100"
      ]
     },
     "execution_count": 12,
     "metadata": {},
     "output_type": "execute_result"
    }
   ],
   "source": [
    "a"
   ]
  },
  {
   "cell_type": "code",
   "execution_count": 13,
   "id": "64ae1866-5908-40bb-99dc-65943db44e29",
   "metadata": {},
   "outputs": [
    {
     "name": "stdin",
     "output_type": "stream",
     "text": [
      "enter price 10000\n"
     ]
    }
   ],
   "source": [
    "product_price=int(input(\"enter price\"))"
   ]
  },
  {
   "cell_type": "code",
   "execution_count": 14,
   "id": "188642ca-496c-4d0a-9b56-0bc9d84823b3",
   "metadata": {},
   "outputs": [
    {
     "data": {
      "text/plain": [
       "10000"
      ]
     },
     "execution_count": 14,
     "metadata": {},
     "output_type": "execute_result"
    }
   ],
   "source": [
    "product_price"
   ]
  },
  {
   "cell_type": "code",
   "execution_count": 17,
   "id": "0489e2ad-181b-4f96-90fe-a4ec1dbbb94f",
   "metadata": {},
   "outputs": [
    {
     "name": "stdout",
     "output_type": "stream",
     "text": [
      "the price of the product is8000.0\n"
     ]
    }
   ],
   "source": [
    "if product_price>1000:\n",
    "    print(\"the price of the product is{}\".format(product_price*0.8))\n",
    "else:\n",
    "        print(\"the price of product is{}\".format(product_price*0.5))"
   ]
  },
  {
   "cell_type": "code",
   "execution_count": 19,
   "id": "048c1e73-9484-4a1e-8c21-7af15f99e216",
   "metadata": {},
   "outputs": [
    {
     "name": "stdin",
     "output_type": "stream",
     "text": [
      "enter price 4000\n"
     ]
    },
    {
     "name": "stdout",
     "output_type": "stream",
     "text": [
      "the price of the product is3200.0\n"
     ]
    }
   ],
   "source": [
    "product_price=int(input(\"enter price\"))\n",
    "if product_price>1000:\n",
    "    print(\"the price of the product is{}\".format(product_price*0.8))\n",
    "else:\n",
    "        print(\"the price of product is{}\".format(product_price*0.5))"
   ]
  },
  {
   "cell_type": "markdown",
   "id": "206588fa-dc39-41af-8a23-27ac56ec0a62",
   "metadata": {},
   "source": [
    "if elif else"
   ]
  },
  {
   "cell_type": "code",
   "execution_count": 24,
   "id": "583dd63d-b5cc-4646-8b6e-3aa48c377659",
   "metadata": {},
   "outputs": [
    {
     "name": "stdin",
     "output_type": "stream",
     "text": [
      "enter a number -55\n"
     ]
    },
    {
     "name": "stdout",
     "output_type": "stream",
     "text": [
      "negative value\n"
     ]
    }
   ],
   "source": [
    "number = int(input(\"enter a number\"))\n",
    "if number >0:\n",
    "    print(\"positive value\")\n",
    "elif number == 0:\n",
    "    print(\"equal to zero\")\n",
    "else:\n",
    "    print(\"negative value\")"
   ]
  },
  {
   "cell_type": "code",
   "execution_count": 3,
   "id": "78d32adf-86f3-43b9-a2e7-54d7f12c67c2",
   "metadata": {},
   "outputs": [
    {
     "name": "stdin",
     "output_type": "stream",
     "text": [
      "Enter the price 2999\n"
     ]
    },
    {
     "name": "stdout",
     "output_type": "stream",
     "text": [
      "Congratulations you get an additional gift\n",
      "The price of the product is 2099.2999999999997\n"
     ]
    }
   ],
   "source": [
    "product_price=int(input(\"Enter the price\"))\n",
    "if product_price>3000:\n",
    "    if product_price==4000:\n",
    "        print(\"Congratulations you get a Goa Trip\")\n",
    "    print(f\"The price of the product is {product_price*0.8}\")\n",
    "elif product_price>=2000 and product_price<=3000:\n",
    "    if product_price==2999:\n",
    "        print(\"Congratulations you get an additional gift\")\n",
    "    print(f\"The price of the product is {product_price*0.7}\")\n",
    "elif product_price>=100 and product_price<2000:\n",
    "    print(f\"The price of the product is {product_price*0.6}\")\n",
    "else:\n",
    "    print(\"Lets drink tea\")\n",
    "    print(\"I will also be there\")"
   ]
  },
  {
   "cell_type": "code",
   "execution_count": 6,
   "id": "66a4c254-ce3d-4ec5-8129-027e4ae3de74",
   "metadata": {},
   "outputs": [
    {
     "data": {
      "text/plain": [
       "True"
      ]
     },
     "execution_count": 6,
     "metadata": {},
     "output_type": "execute_result"
    }
   ],
   "source": [
    "#comparision operators\n",
    "True==True"
   ]
  },
  {
   "cell_type": "code",
   "execution_count": 12,
   "id": "a5ea86d7-9168-4506-b7ea-515dfb5e4683",
   "metadata": {},
   "outputs": [
    {
     "name": "stdin",
     "output_type": "stream",
     "text": [
      "Enter the number 555\n"
     ]
    },
    {
     "name": "stdout",
     "output_type": "stream",
     "text": [
      "Value is less than equal to 999\n"
     ]
    }
   ],
   "source": [
    "## Single statement Suites\n",
    "val=int(input('Enter the number'))\n",
    "if val<=999 :print(\"Value is less than equal to 999\")\n",
    "else:\n",
    "    print(\"Go Home\")"
   ]
  },
  {
   "cell_type": "code",
   "execution_count": 13,
   "id": "9f31e343-1c44-404d-8815-3ae2d67a1e3b",
   "metadata": {},
   "outputs": [
    {
     "name": "stdin",
     "output_type": "stream",
     "text": [
      "enter your age 90\n"
     ]
    },
    {
     "name": "stdout",
     "output_type": "stream",
     "text": [
      "you are eligible for vote\n"
     ]
    }
   ],
   "source": [
    "age = int(input(\"enter your age\"))\n",
    "if age >=18: print(\"you are eligible for vote\")\n",
    "else:\n",
    "    print(\"you are not eligible\")"
   ]
  },
  {
   "cell_type": "code",
   "execution_count": 15,
   "id": "6b59af23-954f-4164-a02a-a71dc8ee90cf",
   "metadata": {},
   "outputs": [
    {
     "name": "stdout",
     "output_type": "stream",
     "text": [
      "26\n",
      "27\n",
      "28\n",
      "29\n",
      "30\n",
      "31\n",
      "32\n",
      "33\n",
      "34\n",
      "35\n",
      "36\n",
      "37\n",
      "38\n",
      "39\n",
      "40\n",
      "41\n",
      "42\n",
      "43\n",
      "44\n",
      "45\n",
      "46\n",
      "47\n",
      "48\n",
      "49\n",
      "50\n",
      "51\n",
      "52\n",
      "53\n",
      "54\n",
      "55\n",
      "56\n",
      "57\n",
      "58\n",
      "59\n",
      "60\n",
      "61\n",
      "its time to retire\n"
     ]
    }
   ],
   "source": [
    "#1. while loop\n",
    "joining_age=25\n",
    "while joining_age<=60:\n",
    "    joining_age=joining_age+1\n",
    "    print(joining_age)\n",
    "else:\n",
    "    print(\"its time to retire\")\n",
    "    "
   ]
  },
  {
   "cell_type": "markdown",
   "id": "5ae9127c-b741-4c31-b4a6-986ce2a4fd5e",
   "metadata": {},
   "source": [
    "## LOOPS Statements\n",
    "1. while loop\n",
    "2. for loop\n",
    "3. nested loop\n",
    "4. loop control(break, continue, pass)"
   ]
  },
  {
   "cell_type": "markdown",
   "id": "e4273a92-9e0a-47c8-b616-d83c1643c25a",
   "metadata": {},
   "source": [
    "### 4.2.1 While Loop\n",
    "   * It repeats a statement or multiple statements when a provided condition is `True`.\n",
    "   * Before performing a loop body it check for a condition\n",
    "   "
   ]
  },
  {
   "cell_type": "code",
   "execution_count": 17,
   "id": "9e44952c-cc4f-40c2-85b5-2f716d918bc0",
   "metadata": {},
   "outputs": [
    {
     "name": "stdout",
     "output_type": "stream",
     "text": [
      "1000\n",
      "900\n",
      "800\n",
      "700\n",
      "600\n",
      "500\n",
      "400\n",
      "300\n",
      "200\n",
      "100\n",
      "put money\n"
     ]
    }
   ],
   "source": [
    "money =1000\n",
    "while money!=0:\n",
    "    print(money)\n",
    "    money =money-100\n",
    "else:\n",
    "    print(\"put money\")"
   ]
  },
  {
   "cell_type": "code",
   "execution_count": 19,
   "id": "4a60e4c3-541f-48cd-8f52-4739fd15454c",
   "metadata": {},
   "outputs": [
    {
     "name": "stdout",
     "output_type": "stream",
     "text": [
      "1\n",
      "2\n",
      "3\n",
      "4\n",
      "5\n",
      "Total Money:  50 Rupees\n"
     ]
    }
   ],
   "source": [
    "''' A child is learning to count number of 10 rupess in his hand \n",
    "and here we have given 5 notes of 10 rupess. \n",
    "Output will display the counting of notes and total amount'''\n",
    "\n",
    "notes = 5\n",
    "i=1 # starting number intialize\n",
    "while i<=notes:\n",
    "    print(i)\n",
    "    i += 1\n",
    "print('Total Money: ',notes*10,'Rupees')"
   ]
  },
  {
   "cell_type": "markdown",
   "id": "63bd4464-fbb9-423f-b473-2e40fb98340d",
   "metadata": {},
   "source": [
    "## For loop\n",
    "`for` loop statement is used to iterates over an item at any order, items can be a `string` or a `list`."
   ]
  },
  {
   "cell_type": "code",
   "execution_count": 22,
   "id": "36958fb1-7d91-495a-adef-b37d96481f35",
   "metadata": {},
   "outputs": [],
   "source": [
    "#list\n",
    "lst=[\"Monkey\",\"donkey\",\"dog\"]"
   ]
  },
  {
   "cell_type": "code",
   "execution_count": 21,
   "id": "481ac545-7fa9-4db2-b7ca-a2c988832543",
   "metadata": {},
   "outputs": [
    {
     "data": {
      "text/plain": [
       "['Monkey', 'donkey', 'dog']"
      ]
     },
     "execution_count": 21,
     "metadata": {},
     "output_type": "execute_result"
    }
   ],
   "source": [
    "lst"
   ]
  },
  {
   "cell_type": "code",
   "execution_count": 24,
   "id": "fd2d6bfd-d4b1-4452-925d-6f8d1301766d",
   "metadata": {},
   "outputs": [
    {
     "data": {
      "text/plain": [
       "list"
      ]
     },
     "execution_count": 24,
     "metadata": {},
     "output_type": "execute_result"
    }
   ],
   "source": [
    "type(lst)"
   ]
  },
  {
   "cell_type": "code",
   "execution_count": 25,
   "id": "fa319c52-448c-44e0-a4cf-7fe98a6e67db",
   "metadata": {},
   "outputs": [
    {
     "name": "stdout",
     "output_type": "stream",
     "text": [
      "Monkey\n",
      "donkey\n",
      "dog\n"
     ]
    }
   ],
   "source": [
    "for i in lst:\n",
    "    print(i)"
   ]
  },
  {
   "cell_type": "code",
   "execution_count": 26,
   "id": "dfd776e4-468f-4439-b764-6ba5792af886",
   "metadata": {},
   "outputs": [
    {
     "name": "stdout",
     "output_type": "stream",
     "text": [
      "1\n",
      "2\n",
      "3\n",
      "4\n",
      "5\n",
      "ganesh\n",
      "agre\n"
     ]
    }
   ],
   "source": [
    "lst1=[1,2,3,4,5,\"ganesh\",\"agre\"]\n",
    "for x in lst1:\n",
    "    print(x)"
   ]
  },
  {
   "cell_type": "code",
   "execution_count": 27,
   "id": "63e2bb51-3418-4f80-a89d-8ff47683d940",
   "metadata": {},
   "outputs": [
    {
     "data": {
      "text/plain": [
       "'Monkey'"
      ]
     },
     "execution_count": 27,
     "metadata": {},
     "output_type": "execute_result"
    }
   ],
   "source": [
    "lst[0]"
   ]
  },
  {
   "cell_type": "code",
   "execution_count": 29,
   "id": "249599bd-4f7d-42f2-9fca-fa837ee65b75",
   "metadata": {},
   "outputs": [
    {
     "data": {
      "text/plain": [
       "'ganesh'"
      ]
     },
     "execution_count": 29,
     "metadata": {},
     "output_type": "execute_result"
    }
   ],
   "source": [
    "# sth index of lst1\n",
    "lst1[5]"
   ]
  },
  {
   "cell_type": "code",
   "execution_count": 33,
   "id": "df8aca1d-43ae-448a-87aa-26fb152e9ede",
   "metadata": {},
   "outputs": [
    {
     "name": "stdout",
     "output_type": "stream",
     "text": [
      "mango\n",
      "cherry\n",
      "fruit is cherry\n",
      "banana\n",
      "apple\n"
     ]
    }
   ],
   "source": [
    "fruit_list=[\"mango\",\"cherry\",\"banana\",\"apple\"]\n",
    "for a in fruit_list:\n",
    "    print(a)\n",
    "    if a ==\"cherry\":\n",
    "         print(\"fruit is cherry\")"
   ]
  },
  {
   "cell_type": "code",
   "execution_count": 34,
   "id": "930ada51-f950-4892-83bc-8e9abd1c3035",
   "metadata": {},
   "outputs": [
    {
     "name": "stdout",
     "output_type": "stream",
     "text": [
      "m\n",
      "a\n",
      "n\n",
      "g\n",
      "o\n"
     ]
    }
   ],
   "source": [
    "fruit=\"mango\"\n",
    "for x in fruit:\n",
    "    print(x)"
   ]
  },
  {
   "cell_type": "code",
   "execution_count": 35,
   "id": "3c2ff22f-614d-4f5a-960f-1b007d71be94",
   "metadata": {},
   "outputs": [
    {
     "data": {
      "text/plain": [
       "'m'"
      ]
     },
     "execution_count": 35,
     "metadata": {},
     "output_type": "execute_result"
    }
   ],
   "source": [
    "#string is also an collection of element\n",
    "fruit[0]"
   ]
  },
  {
   "cell_type": "markdown",
   "id": "6740d4d0-cc9f-49b5-bcba-9dc514af4cc1",
   "metadata": {},
   "source": [
    "## nested loops\n",
    "* Nested loops is used to create one and more number of loop inside an existing `for` or `while` loop.\n"
   ]
  },
  {
   "cell_type": "code",
   "execution_count": 37,
   "id": "3a0c1494-7be2-49d7-a3b8-3834cf08c209",
   "metadata": {},
   "outputs": [],
   "source": [
    "n=7"
   ]
  },
  {
   "cell_type": "code",
   "execution_count": 41,
   "id": "dd4d63cb-a90f-42e1-877b-5d60d3413404",
   "metadata": {},
   "outputs": [
    {
     "name": "stdout",
     "output_type": "stream",
     "text": [
      "1\n",
      "2\n",
      "3\n",
      "4\n",
      "5\n"
     ]
    }
   ],
   "source": [
    "for i in range(1,6):\n",
    "    print(i)"
   ]
  },
  {
   "cell_type": "code",
   "execution_count": 42,
   "id": "9a5c5a61-1201-4c5b-8a28-6019ad94ea04",
   "metadata": {},
   "outputs": [
    {
     "name": "stdout",
     "output_type": "stream",
     "text": [
      "1\n",
      "3\n",
      "5\n",
      "7\n",
      "9\n"
     ]
    }
   ],
   "source": [
    "for i in range(1,10,2):\n",
    "    print(i)"
   ]
  },
  {
   "cell_type": "code",
   "execution_count": 43,
   "id": "2825d126-4443-4ae5-aa64-6a9f6d40c50f",
   "metadata": {},
   "outputs": [
    {
     "name": "stdout",
     "output_type": "stream",
     "text": [
      "1\n",
      "11\n",
      "21\n",
      "31\n",
      "41\n"
     ]
    }
   ],
   "source": [
    "for i in range(1,50,10):\n",
    "    print(i)"
   ]
  },
  {
   "cell_type": "code",
   "execution_count": 52,
   "id": "a50d6055-2282-419f-987a-2b10ac994a30",
   "metadata": {},
   "outputs": [
    {
     "name": "stdout",
     "output_type": "stream",
     "text": [
      "*\n",
      "**\n",
      "***\n",
      "****\n",
      "*****\n",
      "******\n",
      "*******\n"
     ]
    }
   ],
   "source": [
    "n=7\n",
    "for i in range(0,n):\n",
    "    for j in range(0,i+1):\n",
    "        print(\"*\", end=\"\")\n",
    "    print(\"\\r\")"
   ]
  },
  {
   "cell_type": "code",
   "execution_count": 57,
   "id": "1a271e8c-fd77-4c67-9167-890d5a262125",
   "metadata": {},
   "outputs": [
    {
     "name": "stdout",
     "output_type": "stream",
     "text": [
      "\n",
      "* \n",
      "* * \n",
      "* * * \n",
      "* * * * \n",
      "* * * * * \n",
      "* * * * * * \n",
      "* * * * * * * \n"
     ]
    }
   ],
   "source": [
    "n=8\n",
    "for i in range(0,n):\n",
    "    for j in range(0,i):\n",
    "        print(\"*\", end=\" \")\n",
    "    print(\"\\r\")"
   ]
  },
  {
   "cell_type": "code",
   "execution_count": 58,
   "id": "3d798cd6-ae1f-4e4f-9131-a55967be7a60",
   "metadata": {},
   "outputs": [
    {
     "data": {
      "text/plain": [
       "['mango', 'cherry', 'banana', 'apple']"
      ]
     },
     "execution_count": 58,
     "metadata": {},
     "output_type": "execute_result"
    }
   ],
   "source": [
    "fruit_list"
   ]
  },
  {
   "cell_type": "code",
   "execution_count": 71,
   "id": "c6f960be-8fe9-44af-a9ea-c6911d6629f5",
   "metadata": {},
   "outputs": [
    {
     "name": "stdout",
     "output_type": "stream",
     "text": [
      "mango\n",
      "cherry\n",
      "banana\n",
      "its apple\n"
     ]
    }
   ],
   "source": [
    "for i in fruit_list:\n",
    "    if i ==\"apple\":\n",
    "        print(\"its apple\")\n",
    "        break\n",
    "    print(i)"
   ]
  },
  {
   "cell_type": "code",
   "execution_count": 72,
   "id": "3e47bf01-1d3b-4ede-b512-fe3bfa3ed647",
   "metadata": {},
   "outputs": [
    {
     "name": "stdout",
     "output_type": "stream",
     "text": [
      "pen\n",
      "paper\n",
      "you got pencil\n",
      "pencil\n",
      "book\n"
     ]
    }
   ],
   "source": [
    "collect=[\"pen\",\"paper\",\"pencil\",\"book\"]\n",
    "for i in collect:\n",
    "    if i==\"pencil\":\n",
    "        print(\"you got pencil\")\n",
    "        pass\n",
    "    print(i)"
   ]
  },
  {
   "cell_type": "code",
   "execution_count": 73,
   "id": "9f15bf67-0b2c-4896-b09a-e3bed87fa859",
   "metadata": {},
   "outputs": [
    {
     "name": "stdout",
     "output_type": "stream",
     "text": [
      "pen\n",
      "paper\n",
      "you got pencil\n",
      "book\n"
     ]
    }
   ],
   "source": [
    "collect=[\"pen\",\"paper\",\"pencil\",\"book\"]\n",
    "for i in collect:\n",
    "    if i==\"pencil\":\n",
    "        print(\"you got pencil\")\n",
    "        continue\n",
    "    print(i)"
   ]
  },
  {
   "cell_type": "code",
   "execution_count": null,
   "id": "496236e9-c967-4990-9cd6-a300ce056389",
   "metadata": {},
   "outputs": [],
   "source": []
  }
 ],
 "metadata": {
  "kernelspec": {
   "display_name": "Python 3 (ipykernel)",
   "language": "python",
   "name": "python3"
  },
  "language_info": {
   "codemirror_mode": {
    "name": "ipython",
    "version": 3
   },
   "file_extension": ".py",
   "mimetype": "text/x-python",
   "name": "python",
   "nbconvert_exporter": "python",
   "pygments_lexer": "ipython3",
   "version": "3.10.8"
  }
 },
 "nbformat": 4,
 "nbformat_minor": 5
}
